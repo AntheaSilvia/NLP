{
  "cells": [
    {
      "cell_type": "markdown",
      "metadata": {
        "id": "ez3Rpju2gR0b"
      },
      "source": [
        "# Assignment 2"
      ]
    },
    {
      "cell_type": "markdown",
      "metadata": {
        "id": "bR8rzheThYwv"
      },
      "source": [
        "**Authors**: Vincenzo Collura, Gianmarco Pappacoda, Anthea Silvia Sasdelli"
      ]
    },
    {
      "cell_type": "markdown",
      "metadata": {
        "id": "9FkRcAklhYww"
      },
      "source": [
        "## Task\n",
        "\n",
        "Question Answering (QA) on [CoQA](https://stanfordnlp.github.io/coqa/) dataset: a conversational QA dataset.\n",
        "\n",
        "Given a question $Q$, a text passage $P$, the task is to generate the answer $A$.<br>\n",
        "$\\rightarrow A$ can be: (i) a free-form text or (ii) unanswerable;\n",
        "\n",
        "**Note**: an question $Q$ can refer to previous dialogue turns. <br>\n",
        "$\\rightarrow$ dialogue history $H$ may be a valuable input to provide the correct answer $A$."
      ]
    },
    {
      "cell_type": "code",
      "execution_count": null,
      "metadata": {
        "colab": {
          "base_uri": "https://localhost:8080/"
        },
        "id": "VPc70386gaYD",
        "outputId": "ebe429e1-74a8-4bbb-c958-9c1501d944d3"
      },
      "outputs": [],
      "source": [
        "## Colab-specific\n",
        "!pip install datasets transformers allennlp-models\n",
        "!pip install torch==1.9.0+cu111 torchvision==0.10.0+cu111 torchaudio==0.9.0 -f https://download.pytorch.org/whl/torch_stable.html"
      ]
    },
    {
      "cell_type": "markdown",
      "metadata": {
        "id": "dwID1C4MhYwz"
      },
      "source": [
        "## Perliminary operations"
      ]
    },
    {
      "cell_type": "markdown",
      "metadata": {
        "id": "wGlj1doYhYwz"
      },
      "source": [
        "In this section the required libraries are imported and the dataset is downloaded and briefly explored"
      ]
    },
    {
      "cell_type": "code",
      "execution_count": 6,
      "metadata": {
        "id": "NWuThoFbgR0i"
      },
      "outputs": [],
      "source": [
        "import os\n",
        "import copy\n",
        "import json\n",
        "import pandas as pd\n",
        "import urllib.request\n",
        "from tqdm import tqdm\n",
        "\n",
        "from datasets import Dataset, DatasetDict\n",
        "from sklearn.model_selection import train_test_split\n",
        "from transformers import EncoderDecoderModel, AutoTokenizer, Seq2SeqTrainer, Seq2SeqTrainingArguments\n",
        "import torch\n",
        "import random\n",
        "import numpy as np\n",
        "from allennlp_models.rc.tools import squad\n",
        "from pprint import pprint\n",
        "\n",
        "# paths\n",
        "data_path = 'data'\n",
        "dataset_path = os.path.join(data_path, 'coqa')\n",
        "models_path = 'models'"
      ]
    },
    {
      "cell_type": "code",
      "execution_count": 7,
      "metadata": {
        "id": "CCfrty1igR0l"
      },
      "outputs": [],
      "source": [
        "def set_reproducibility(seed):\n",
        "    \"\"\"\n",
        "    set the seed for reproducibility.\n",
        "\n",
        "    Parameters\n",
        "    ----------\n",
        "    seed : int\n",
        "        seed value.\n",
        "    \"\"\"\n",
        "    random.seed(seed)\n",
        "    np.random.seed(seed)\n",
        "    # tf.random.set_seed(seed)\n",
        "    os.environ['TF_DETERMINISTIC_OPS'] = '1'\n",
        "    torch.manual_seed(seed)\n",
        "\n",
        "seed = 42\n",
        "set_reproducibility(seed)"
      ]
    },
    {
      "cell_type": "markdown",
      "metadata": {
        "id": "MbLfjMG-gR0n"
      },
      "source": [
        "Download functions"
      ]
    },
    {
      "cell_type": "code",
      "execution_count": 8,
      "metadata": {
        "id": "358bac70"
      },
      "outputs": [],
      "source": [
        "class DownloadProgressBar(tqdm):\n",
        "    \"\"\"\n",
        "    progress bar printer \n",
        "    \"\"\"\n",
        "\n",
        "    def update_to(self, b=1, bsize=1, tsize=None):\n",
        "        if tsize is not None:\n",
        "            self.total = tsize\n",
        "        self.update(b * bsize - self.n)\n",
        "\n",
        "\n",
        "def download_url(url, output_path):\n",
        "    with DownloadProgressBar(unit='B', unit_scale=True,\n",
        "                             miniters=1, desc=url.split('/')[-1]) as t:\n",
        "        urllib.request.urlretrieve(\n",
        "            url, filename=output_path, reporthook=t.update_to)\n",
        "\n",
        "\n",
        "def download_data(data_path, url_path, suffix):\n",
        "    \"\"\"\n",
        "    download data\n",
        "\n",
        "    Parameters\n",
        "    ----------\n",
        "    url_path : string\n",
        "        url of the file you want to download.\n",
        "    data_path : string\n",
        "        path where you want to save the file you are downloading.\n",
        "    extract : string\n",
        "        ''train' or 'test'\n",
        "    \"\"\"\n",
        "    if not os.path.exists(data_path):\n",
        "        os.makedirs(data_path)\n",
        "\n",
        "    data_path = os.path.join(data_path, f'{suffix}.json')\n",
        "\n",
        "    if not os.path.exists(data_path):\n",
        "        print(f\"Downloading CoQA {suffix} data split... (it may take a while)\")\n",
        "        download_url(url=url_path, output_path=data_path)\n",
        "        print(\"Download completed!\")"
      ]
    },
    {
      "cell_type": "markdown",
      "metadata": {
        "id": "us1n4x9wgR0r"
      },
      "source": [
        "Download the dataset"
      ]
    },
    {
      "cell_type": "code",
      "execution_count": 9,
      "metadata": {
        "colab": {
          "base_uri": "https://localhost:8080/"
        },
        "id": "5f6ab3ff",
        "outputId": "db626dae-7bcb-4686-898b-4d7d3ada1802"
      },
      "outputs": [
        {
          "name": "stdout",
          "output_type": "stream",
          "text": [
            "Downloading CoQA train data split... (it may take a while)\n"
          ]
        },
        {
          "name": "stderr",
          "output_type": "stream",
          "text": [
            "coqa-train-v1.0.json: 49.0MB [00:05, 8.80MB/s]                            \n"
          ]
        },
        {
          "name": "stdout",
          "output_type": "stream",
          "text": [
            "Download completed!\n",
            "Downloading CoQA test data split... (it may take a while)\n"
          ]
        },
        {
          "name": "stderr",
          "output_type": "stream",
          "text": [
            "coqa-dev-v1.0.json: 9.09MB [00:00, 10.2MB/s]                            "
          ]
        },
        {
          "name": "stdout",
          "output_type": "stream",
          "text": [
            "Download completed!\n"
          ]
        },
        {
          "name": "stderr",
          "output_type": "stream",
          "text": [
            "\n"
          ]
        }
      ],
      "source": [
        "# Train data\n",
        "train_url = \"https://nlp.stanford.edu/data/coqa/coqa-train-v1.0.json\"\n",
        "download_data(data_path=dataset_path, url_path=train_url, suffix='train')\n",
        "\n",
        "# Test data\n",
        "test_url = \"https://nlp.stanford.edu/data/coqa/coqa-dev-v1.0.json\"\n",
        "download_data(data_path=dataset_path, url_path=test_url, suffix='test')"
      ]
    },
    {
      "cell_type": "markdown",
      "metadata": {
        "id": "m_jA1fSvgR0u"
      },
      "source": [
        "Opening the dataset, which is in JSON format"
      ]
    },
    {
      "cell_type": "code",
      "execution_count": 10,
      "metadata": {
        "colab": {
          "base_uri": "https://localhost:8080/"
        },
        "id": "Y198Mv-OgR0v",
        "outputId": "89ae3ca2-b609-4309-8ca2-e146696d4bc6"
      },
      "outputs": [
        {
          "name": "stdout",
          "output_type": "stream",
          "text": [
            "Type: <class 'dict'>\n"
          ]
        }
      ],
      "source": [
        "# Opening JSON file\n",
        "with open(os.path.join(dataset_path, 'train.json')) as json_file:\n",
        "    train_data_raw = json.load(json_file)\n",
        "\n",
        "    # Print the type of data variable\n",
        "    print(\"Type:\", type(train_data_raw))"
      ]
    },
    {
      "cell_type": "markdown",
      "metadata": {
        "id": "bEWg22stgR0y"
      },
      "source": [
        "A look at the columns of the dataset"
      ]
    },
    {
      "cell_type": "code",
      "execution_count": 11,
      "metadata": {
        "colab": {
          "base_uri": "https://localhost:8080/"
        },
        "id": "268TYtkWgR0z",
        "outputId": "c1805cd3-79e0-43e8-dcff-4ab15078816f"
      },
      "outputs": [
        {
          "name": "stdout",
          "output_type": "stream",
          "text": [
            "dict_keys(['source', 'id', 'filename', 'story', 'questions', 'answers', 'name'])\n"
          ]
        }
      ],
      "source": [
        "print(train_data_raw['data'][0].keys())"
      ]
    },
    {
      "cell_type": "markdown",
      "metadata": {
        "id": "K1VUFznLgR00"
      },
      "source": [
        "A look into the questions feature"
      ]
    },
    {
      "cell_type": "code",
      "execution_count": 12,
      "metadata": {
        "id": "tu4VawtlhYw9"
      },
      "outputs": [],
      "source": [
        "sample = 5"
      ]
    },
    {
      "cell_type": "code",
      "execution_count": 13,
      "metadata": {
        "colab": {
          "base_uri": "https://localhost:8080/"
        },
        "id": "KRnJhqqkgR01",
        "outputId": "fd328d35-6c59-43b0-a0ab-acaed53175d8"
      },
      "outputs": [
        {
          "name": "stdout",
          "output_type": "stream",
          "text": [
            "[{'input_text': 'Was Budapest always one city?', 'turn_id': 1},\n",
            " {'input_text': 'How many was it?', 'turn_id': 2},\n",
            " {'input_text': 'What was one called?', 'turn_id': 3},\n",
            " {'input_text': 'Where was it located?', 'turn_id': 4},\n",
            " {'input_text': 'What was the other?', 'turn_id': 5},\n",
            " {'input_text': 'Where was it located?', 'turn_id': 6},\n",
            " {'input_text': 'When did they combine?', 'turn_id': 7},\n",
            " {'input_text': \"Is it an important city in it's country?\", 'turn_id': 8},\n",
            " {'input_text': 'How many people live there?', 'turn_id': 9},\n",
            " {'input_text': 'Do other people visit?', 'turn_id': 10},\n",
            " {'input_text': 'What do they do?', 'turn_id': 11},\n",
            " {'input_text': 'Where?', 'turn_id': 12},\n",
            " {'input_text': 'When do people like to go?', 'turn_id': 13},\n",
            " {'input_text': 'Why?', 'turn_id': 14},\n",
            " {'input_text': 'When was LA started?', 'turn_id': 15},\n",
            " {'input_text': 'What is the climate like there?', 'turn_id': 16},\n",
            " {'input_text': 'What is it close to?', 'turn_id': 17},\n",
            " {'input_text': 'How many people live in Taipei?', 'turn_id': 18},\n",
            " {'input_text': 'Is it cheap to live there?', 'turn_id': 19},\n",
            " {'input_text': 'Do people prefer to buy things in Hong Kong?', 'turn_id': 20}]\n"
          ]
        }
      ],
      "source": [
        "pprint(train_data_raw['data'][sample]['questions'])"
      ]
    },
    {
      "cell_type": "markdown",
      "metadata": {
        "id": "LVz_qmJygR01"
      },
      "source": [
        "A look into the answers feature"
      ]
    },
    {
      "cell_type": "code",
      "execution_count": 14,
      "metadata": {
        "colab": {
          "base_uri": "https://localhost:8080/"
        },
        "id": "pdTSQmksgR02",
        "outputId": "094f7515-509a-4484-fb39-8ffd4bd61b0a"
      },
      "outputs": [
        {
          "name": "stdout",
          "output_type": "stream",
          "text": [
            "[{'input_text': 'no',\n",
            "  'span_end': 150,\n",
            "  'span_start': 127,\n",
            "  'span_text': 'Budapest was two cities',\n",
            "  'turn_id': 1},\n",
            " {'input_text': 'two',\n",
            "  'span_end': 150,\n",
            "  'span_start': 127,\n",
            "  'span_text': 'Budapest was two cities',\n",
            "  'turn_id': 2}]\n"
          ]
        }
      ],
      "source": [
        "pprint(train_data_raw['data'][sample]['answers'][:2])"
      ]
    },
    {
      "cell_type": "code",
      "execution_count": 15,
      "metadata": {
        "id": "KECJqjO91ecB"
      },
      "outputs": [],
      "source": [
        "# Opening JSON file\n",
        "with open(os.path.join(dataset_path, 'test.json')) as json_file:\n",
        "    test_data_raw = json.load(json_file)"
      ]
    },
    {
      "cell_type": "markdown",
      "metadata": {
        "id": "0lXZ-qcrgR02"
      },
      "source": [
        "## Task 1 - Pre-processing"
      ]
    },
    {
      "cell_type": "markdown",
      "metadata": {
        "id": "b39BgVnmhYw_"
      },
      "source": [
        "In this section a light form of pre-processing is described, most notably the dataset contains \"unanswerable\" (i.e. answer: unknown) questions, they are removed from the dataset as per instructions."
      ]
    },
    {
      "cell_type": "markdown",
      "metadata": {
        "id": "HIqWOj19hYw_"
      },
      "source": [
        "\n",
        "Remove unaswerable QA pairs"
      ]
    },
    {
      "cell_type": "code",
      "execution_count": 16,
      "metadata": {
        "id": "kVCRQJWUgR02"
      },
      "outputs": [],
      "source": [
        "def remove_unanswerable(dataset):\n",
        "    \"\"\"\n",
        "    remove unanswerable QA pairs.\n",
        "\n",
        "    Parameters\n",
        "    ----------\n",
        "    data : dict\n",
        "        dictionary of the data\n",
        "\n",
        "    Returns\n",
        "    -------\n",
        "    result dict\n",
        "        input data but without unanswerable QA pairs.\n",
        "    \"\"\"\n",
        "    result = copy.deepcopy(dataset)\n",
        "    count = 0\n",
        "    removed = 0\n",
        "    for entry_index, entry in tqdm(enumerate(result['data'])):\n",
        "        for question_index, (question, answer) in reversed(list(enumerate(zip(entry['questions'], entry['answers'])))):\n",
        "            count += 1\n",
        "            if answer['input_text'] == 'unknown' or answer['span_text'] == 'unknown':\n",
        "                result['data'][entry_index]['questions'].pop(question_index)\n",
        "                result['data'][entry_index]['answers'].pop(question_index)\n",
        "                removed += 1\n",
        "\n",
        "    print(\n",
        "        f\"Original size: {count}, removed entries: {removed} ({removed*100/count:.2f}%)\")\n",
        "\n",
        "    return result"
      ]
    },
    {
      "cell_type": "markdown",
      "metadata": {
        "id": "z5xz0hQ0gR03"
      },
      "source": [
        "Functions to transform the dataset into a Pandas dataframe."
      ]
    },
    {
      "cell_type": "code",
      "execution_count": 17,
      "metadata": {
        "id": "NQculXCsgR03"
      },
      "outputs": [],
      "source": [
        "def dataset_to_tuples(data):\n",
        "    \"\"\"\n",
        "    create tuples from a dict of data.\n",
        "\n",
        "    Parameters\n",
        "    ----------\n",
        "    data : dict\n",
        "        dictionary of the data\n",
        "    \"\"\"\n",
        "    for entry in data['data']:\n",
        "        for question, answer in zip(entry['questions'], entry['answers']):\n",
        "            history = []\n",
        "            for q, a in zip(entry['questions'], entry['answers']):\n",
        "                if q['turn_id'] < question['turn_id']:\n",
        "                    history.append({\n",
        "                        'question': q['input_text'],\n",
        "                        'answer': a['input_text']\n",
        "                    })\n",
        "            yield (entry['name'], entry['story'], question['turn_id'], question['input_text'], answer['span_start'], answer['span_end'], answer['span_text'], answer['input_text'], history)\n",
        "\n",
        "\n",
        "def dataset_to_df(data):\n",
        "    \"\"\"\n",
        "    create a df from tuples.\n",
        "\n",
        "    Parameters\n",
        "    ----------\n",
        "    data : iterable of tuples\n",
        "        iterable of tuples of the data\n",
        "\n",
        "    Returns\n",
        "    -------\n",
        "    df\n",
        "        pandas dataframe.\n",
        "    \"\"\"\n",
        "    df = pd.DataFrame(dataset_to_tuples(data))\n",
        "    df.columns = ['source', 'context', 'turn_id', 'question',\n",
        "                  'span_start', 'span_end', 'span_text', 'answer', 'history']\n",
        "    return df"
      ]
    },
    {
      "cell_type": "markdown",
      "metadata": {
        "id": "z2-orUBfgR04"
      },
      "source": [
        "remove unaswerable QA pairs"
      ]
    },
    {
      "cell_type": "code",
      "execution_count": 18,
      "metadata": {
        "colab": {
          "base_uri": "https://localhost:8080/"
        },
        "id": "CMZjL6fxgR04",
        "outputId": "54fa8e69-0415-4aa8-9e0a-b38a06010dde"
      },
      "outputs": [
        {
          "name": "stderr",
          "output_type": "stream",
          "text": [
            "7199it [00:00, 128646.15it/s]"
          ]
        },
        {
          "name": "stdout",
          "output_type": "stream",
          "text": [
            "Original size: 108647, removed entries: 1372 (1.26%)\n"
          ]
        },
        {
          "name": "stderr",
          "output_type": "stream",
          "text": [
            "\n"
          ]
        }
      ],
      "source": [
        "train_data = remove_unanswerable(train_data_raw)\n",
        "# test_data = remove_unanswerable(test_data_raw) # Not required by assignment\n",
        "test_data = test_data_raw"
      ]
    },
    {
      "cell_type": "code",
      "execution_count": 19,
      "metadata": {
        "id": "UDkXCx5tgR04"
      },
      "outputs": [],
      "source": [
        "for entry in train_data['data']:\n",
        "    for index, (question, answer) in enumerate(zip(entry['questions'], entry['answers'])):\n",
        "        if answer['input_text'] == 'unknown':\n",
        "            print(answer['turn_id'])\n",
        "            print(index)\n",
        "            print(question['input_text'])\n",
        "            print(answer['input_text'])"
      ]
    },
    {
      "cell_type": "markdown",
      "metadata": {
        "id": "yIAd6PbAgR05"
      },
      "source": [
        "Dataframe creation"
      ]
    },
    {
      "cell_type": "code",
      "execution_count": 20,
      "metadata": {
        "id": "jEMSb5ZEgR05"
      },
      "outputs": [],
      "source": [
        "df = dataset_to_df(train_data)\n",
        "df_t = dataset_to_df(test_data)"
      ]
    },
    {
      "cell_type": "markdown",
      "metadata": {
        "id": "KPlLBPNEgR05"
      },
      "source": [
        "## Task 2 - Training/Validation/Test split"
      ]
    },
    {
      "cell_type": "markdown",
      "metadata": {
        "id": "HUH2n857hYxD"
      },
      "source": [
        "In this section the dataset is split into training, validation and test sets."
      ]
    },
    {
      "cell_type": "markdown",
      "metadata": {
        "id": "LCPZ4xmuhYxD"
      },
      "source": [
        "Quik look to the data"
      ]
    },
    {
      "cell_type": "code",
      "execution_count": 21,
      "metadata": {
        "colab": {
          "base_uri": "https://localhost:8080/",
          "height": 704
        },
        "id": "CDJQcAmugR05",
        "outputId": "feb6ad11-be35-4f62-8363-60f31825bad0"
      },
      "outputs": [
        {
          "data": {
            "text/html": [
              "\n",
              "  <div id=\"df-91df3c2d-b5e6-43a2-b6a8-611f30cbcefc\">\n",
              "    <div class=\"colab-df-container\">\n",
              "      <div>\n",
              "<style scoped>\n",
              "    .dataframe tbody tr th:only-of-type {\n",
              "        vertical-align: middle;\n",
              "    }\n",
              "\n",
              "    .dataframe tbody tr th {\n",
              "        vertical-align: top;\n",
              "    }\n",
              "\n",
              "    .dataframe thead th {\n",
              "        text-align: right;\n",
              "    }\n",
              "</style>\n",
              "<table border=\"1\" class=\"dataframe\">\n",
              "  <thead>\n",
              "    <tr style=\"text-align: right;\">\n",
              "      <th></th>\n",
              "      <th>source</th>\n",
              "      <th>context</th>\n",
              "      <th>turn_id</th>\n",
              "      <th>question</th>\n",
              "      <th>span_start</th>\n",
              "      <th>span_end</th>\n",
              "      <th>span_text</th>\n",
              "      <th>answer</th>\n",
              "      <th>history</th>\n",
              "    </tr>\n",
              "  </thead>\n",
              "  <tbody>\n",
              "    <tr>\n",
              "      <th>0</th>\n",
              "      <td>Vatican_Library.txt</td>\n",
              "      <td>The Vatican Apostolic Library (), more commonl...</td>\n",
              "      <td>1</td>\n",
              "      <td>When was the Vat formally opened?</td>\n",
              "      <td>151</td>\n",
              "      <td>179</td>\n",
              "      <td>Formally established in 1475</td>\n",
              "      <td>It was formally established in 1475</td>\n",
              "      <td>[]</td>\n",
              "    </tr>\n",
              "    <tr>\n",
              "      <th>1</th>\n",
              "      <td>Vatican_Library.txt</td>\n",
              "      <td>The Vatican Apostolic Library (), more commonl...</td>\n",
              "      <td>2</td>\n",
              "      <td>what is the library for?</td>\n",
              "      <td>454</td>\n",
              "      <td>494</td>\n",
              "      <td>he Vatican Library is a research library</td>\n",
              "      <td>research</td>\n",
              "      <td>[{'question': 'When was the Vat formally opene...</td>\n",
              "    </tr>\n",
              "    <tr>\n",
              "      <th>2</th>\n",
              "      <td>Vatican_Library.txt</td>\n",
              "      <td>The Vatican Apostolic Library (), more commonl...</td>\n",
              "      <td>3</td>\n",
              "      <td>for what subjects?</td>\n",
              "      <td>457</td>\n",
              "      <td>511</td>\n",
              "      <td>Vatican Library is a research library for hist...</td>\n",
              "      <td>history, and law</td>\n",
              "      <td>[{'question': 'When was the Vat formally opene...</td>\n",
              "    </tr>\n",
              "    <tr>\n",
              "      <th>3</th>\n",
              "      <td>Vatican_Library.txt</td>\n",
              "      <td>The Vatican Apostolic Library (), more commonl...</td>\n",
              "      <td>4</td>\n",
              "      <td>and?</td>\n",
              "      <td>457</td>\n",
              "      <td>545</td>\n",
              "      <td>Vatican Library is a research library for hist...</td>\n",
              "      <td>philosophy, science and theology</td>\n",
              "      <td>[{'question': 'When was the Vat formally opene...</td>\n",
              "    </tr>\n",
              "    <tr>\n",
              "      <th>4</th>\n",
              "      <td>Vatican_Library.txt</td>\n",
              "      <td>The Vatican Apostolic Library (), more commonl...</td>\n",
              "      <td>5</td>\n",
              "      <td>what was started in 2014?</td>\n",
              "      <td>769</td>\n",
              "      <td>879</td>\n",
              "      <td>March 2014, the Vatican Library began an initi...</td>\n",
              "      <td>a  project</td>\n",
              "      <td>[{'question': 'When was the Vat formally opene...</td>\n",
              "    </tr>\n",
              "  </tbody>\n",
              "</table>\n",
              "</div>\n",
              "      <button class=\"colab-df-convert\" onclick=\"convertToInteractive('df-91df3c2d-b5e6-43a2-b6a8-611f30cbcefc')\"\n",
              "              title=\"Convert this dataframe to an interactive table.\"\n",
              "              style=\"display:none;\">\n",
              "        \n",
              "  <svg xmlns=\"http://www.w3.org/2000/svg\" height=\"24px\"viewBox=\"0 0 24 24\"\n",
              "       width=\"24px\">\n",
              "    <path d=\"M0 0h24v24H0V0z\" fill=\"none\"/>\n",
              "    <path d=\"M18.56 5.44l.94 2.06.94-2.06 2.06-.94-2.06-.94-.94-2.06-.94 2.06-2.06.94zm-11 1L8.5 8.5l.94-2.06 2.06-.94-2.06-.94L8.5 2.5l-.94 2.06-2.06.94zm10 10l.94 2.06.94-2.06 2.06-.94-2.06-.94-.94-2.06-.94 2.06-2.06.94z\"/><path d=\"M17.41 7.96l-1.37-1.37c-.4-.4-.92-.59-1.43-.59-.52 0-1.04.2-1.43.59L10.3 9.45l-7.72 7.72c-.78.78-.78 2.05 0 2.83L4 21.41c.39.39.9.59 1.41.59.51 0 1.02-.2 1.41-.59l7.78-7.78 2.81-2.81c.8-.78.8-2.07 0-2.86zM5.41 20L4 18.59l7.72-7.72 1.47 1.35L5.41 20z\"/>\n",
              "  </svg>\n",
              "      </button>\n",
              "      \n",
              "  <style>\n",
              "    .colab-df-container {\n",
              "      display:flex;\n",
              "      flex-wrap:wrap;\n",
              "      gap: 12px;\n",
              "    }\n",
              "\n",
              "    .colab-df-convert {\n",
              "      background-color: #E8F0FE;\n",
              "      border: none;\n",
              "      border-radius: 50%;\n",
              "      cursor: pointer;\n",
              "      display: none;\n",
              "      fill: #1967D2;\n",
              "      height: 32px;\n",
              "      padding: 0 0 0 0;\n",
              "      width: 32px;\n",
              "    }\n",
              "\n",
              "    .colab-df-convert:hover {\n",
              "      background-color: #E2EBFA;\n",
              "      box-shadow: 0px 1px 2px rgba(60, 64, 67, 0.3), 0px 1px 3px 1px rgba(60, 64, 67, 0.15);\n",
              "      fill: #174EA6;\n",
              "    }\n",
              "\n",
              "    [theme=dark] .colab-df-convert {\n",
              "      background-color: #3B4455;\n",
              "      fill: #D2E3FC;\n",
              "    }\n",
              "\n",
              "    [theme=dark] .colab-df-convert:hover {\n",
              "      background-color: #434B5C;\n",
              "      box-shadow: 0px 1px 3px 1px rgba(0, 0, 0, 0.15);\n",
              "      filter: drop-shadow(0px 1px 2px rgba(0, 0, 0, 0.3));\n",
              "      fill: #FFFFFF;\n",
              "    }\n",
              "  </style>\n",
              "\n",
              "      <script>\n",
              "        const buttonEl =\n",
              "          document.querySelector('#df-91df3c2d-b5e6-43a2-b6a8-611f30cbcefc button.colab-df-convert');\n",
              "        buttonEl.style.display =\n",
              "          google.colab.kernel.accessAllowed ? 'block' : 'none';\n",
              "\n",
              "        async function convertToInteractive(key) {\n",
              "          const element = document.querySelector('#df-91df3c2d-b5e6-43a2-b6a8-611f30cbcefc');\n",
              "          const dataTable =\n",
              "            await google.colab.kernel.invokeFunction('convertToInteractive',\n",
              "                                                     [key], {});\n",
              "          if (!dataTable) return;\n",
              "\n",
              "          const docLinkHtml = 'Like what you see? Visit the ' +\n",
              "            '<a target=\"_blank\" href=https://colab.research.google.com/notebooks/data_table.ipynb>data table notebook</a>'\n",
              "            + ' to learn more about interactive tables.';\n",
              "          element.innerHTML = '';\n",
              "          dataTable['output_type'] = 'display_data';\n",
              "          await google.colab.output.renderOutput(dataTable, element);\n",
              "          const docLink = document.createElement('div');\n",
              "          docLink.innerHTML = docLinkHtml;\n",
              "          element.appendChild(docLink);\n",
              "        }\n",
              "      </script>\n",
              "    </div>\n",
              "  </div>\n",
              "  "
            ],
            "text/plain": [
              "                source                                            context  \\\n",
              "0  Vatican_Library.txt  The Vatican Apostolic Library (), more commonl...   \n",
              "1  Vatican_Library.txt  The Vatican Apostolic Library (), more commonl...   \n",
              "2  Vatican_Library.txt  The Vatican Apostolic Library (), more commonl...   \n",
              "3  Vatican_Library.txt  The Vatican Apostolic Library (), more commonl...   \n",
              "4  Vatican_Library.txt  The Vatican Apostolic Library (), more commonl...   \n",
              "\n",
              "   turn_id                           question  span_start  span_end  \\\n",
              "0        1  When was the Vat formally opened?         151       179   \n",
              "1        2           what is the library for?         454       494   \n",
              "2        3                 for what subjects?         457       511   \n",
              "3        4                               and?         457       545   \n",
              "4        5          what was started in 2014?         769       879   \n",
              "\n",
              "                                           span_text  \\\n",
              "0                       Formally established in 1475   \n",
              "1           he Vatican Library is a research library   \n",
              "2  Vatican Library is a research library for hist...   \n",
              "3  Vatican Library is a research library for hist...   \n",
              "4  March 2014, the Vatican Library began an initi...   \n",
              "\n",
              "                                answer  \\\n",
              "0  It was formally established in 1475   \n",
              "1                             research   \n",
              "2                     history, and law   \n",
              "3     philosophy, science and theology   \n",
              "4                           a  project   \n",
              "\n",
              "                                             history  \n",
              "0                                                 []  \n",
              "1  [{'question': 'When was the Vat formally opene...  \n",
              "2  [{'question': 'When was the Vat formally opene...  \n",
              "3  [{'question': 'When was the Vat formally opene...  \n",
              "4  [{'question': 'When was the Vat formally opene...  "
            ]
          },
          "execution_count": 27,
          "metadata": {},
          "output_type": "execute_result"
        }
      ],
      "source": [
        "df.head()"
      ]
    },
    {
      "cell_type": "markdown",
      "metadata": {
        "id": "Om1RDLPLgR06"
      },
      "source": [
        "split the train data in train and validation splits (80% train and 20% val), using seed reproducibility = 42"
      ]
    },
    {
      "cell_type": "code",
      "execution_count": 22,
      "metadata": {
        "id": "jas6F141gR06"
      },
      "outputs": [],
      "source": [
        "cut = ['source', 'context', 'question', 'answer', 'history']\n",
        "df_cut = df[cut]\n",
        "df_train, df_val = train_test_split(df_cut, test_size=0.2, random_state=seed)\n",
        "df_test = df_t[cut]"
      ]
    },
    {
      "cell_type": "markdown",
      "metadata": {
        "id": "zq4o2Wn1gR07"
      },
      "source": [
        "## Task 3 - Model definition"
      ]
    },
    {
      "cell_type": "markdown",
      "metadata": {
        "id": "eqL3g58hhYxF"
      },
      "source": [
        "In this section the base wrapper is defined in order to carry out subsequent experiments in an orderly manner."
      ]
    },
    {
      "cell_type": "code",
      "execution_count": 23,
      "metadata": {
        "id": "sd6VlTIlo3kW"
      },
      "outputs": [],
      "source": [
        "class s2smodel:\n",
        "    \"\"\"\n",
        "    Wrapper class for HF encoder-decoder-based model and tokenizer for Question Answering.\n",
        "    \"\"\"\n",
        "\n",
        "    def __init__(self, model_name : str, tie_encoder_decoder : bool = True):\n",
        "        \"\"\"\n",
        "        Initialize the model.\n",
        "\n",
        "        Parameters\n",
        "        ----------\n",
        "        model_name : str\n",
        "            nome of the chosen model, prajjwal1/bert-tiny or distilroberta-base.\n",
        "        tie_encoder_decoder: bool\n",
        "        \"\"\"\n",
        "        # DO NOT translate to cuda BEFORE setting parameters, your config shall be cast into void!!!\n",
        "        # bert2bert = EncoderDecoderModel(encoder=encoder, decoder=decoder).to(\"cuda\")\n",
        "\n",
        "        config_name = model_name\n",
        "        # The two following try-catch blocks are an ugly solution to an ugly library issue when loading config/weights\n",
        "        try:\n",
        "            bert2bert = EncoderDecoderModel.from_pretrained(model_name, tie_encoder_decoder=tie_encoder_decoder)\n",
        "        except:\n",
        "            bert2bert = EncoderDecoderModel.from_encoder_decoder_pretrained(\n",
        "                model_name, model_name, tie_encoder_decoder=tie_encoder_decoder)\n",
        "\n",
        "        try:\n",
        "            tokenizer = AutoTokenizer.from_pretrained(model_name)\n",
        "        except:\n",
        "            config_name = bert2bert.config.encoder._name_or_path\n",
        "            tokenizer = AutoTokenizer.from_pretrained(config_name)\n",
        "\n",
        "        bert2bert.config.decoder.is_decoder = True\n",
        "        bert2bert.config.decoder.add_cross_attention = True\n",
        "\n",
        "        if config_name == 'prajjwal1/bert-tiny':\n",
        "          bert2bert.config.decoder_start_token_id = tokenizer.cls_token_id\n",
        "          bert2bert.config.eos_token_id = tokenizer.sep_token_id\n",
        "          bert2bert.config.pad_token_id = tokenizer.pad_token_id\n",
        "\n",
        "        if config_name == 'distilroberta-base':\n",
        "          tokenizer.bos_token = tokenizer.cls_token\n",
        "          tokenizer.eos_token = tokenizer.sep_token\n",
        "          bert2bert.config.decoder_start_token_id = tokenizer.bos_token_id                                             \n",
        "          bert2bert.config.eos_token_id = tokenizer.eos_token_id\n",
        "          bert2bert.config.pad_token_id = tokenizer.pad_token_id\n",
        "        \n",
        "        bert2bert.config.vocab_size = bert2bert.config.encoder.vocab_size\n",
        "\n",
        "\n",
        "        bert2bert.config.max_length = 512\n",
        "        bert2bert.config.min_length = 1\n",
        "        bert2bert.finetuning_task = True\n",
        "        bert2bert.config.no_repeat_ngram_size = 3\n",
        "        bert2bert.config.num_beams = 50\n",
        "\n",
        "        self.model = bert2bert\n",
        "        self.tokenizer = tokenizer\n",
        "        self.config_name = config_name\n",
        "        self.model_name = model_name.split('/')[-1] if '/' in model_name else model_name\n",
        "\n",
        "    def encode_history(self, history):\n",
        "        \"\"\"\n",
        "        Encode history in text format.\n",
        "\n",
        "        Parameters\n",
        "        ----------\n",
        "        history : list\n",
        "            list of  the previous questions and answers.\n",
        "\n",
        "        Returns\n",
        "        -------\n",
        "        str\n",
        "            previous questions and answers with respect to the current question.\n",
        "        \"\"\"\n",
        "        return '; '.join([f\"question: {entry['question']} answer: {entry['answer']}\" for entry in history])\n",
        "\n",
        "    def tokenize(self, data, encoder_max_length=512, decoder_max_length=32, include_history=False):\n",
        "        \"\"\"\n",
        "        Tokenize data\n",
        "\n",
        "        Parameters\n",
        "        ----------\n",
        "        data : list\n",
        "            list of  data.\n",
        "        encoder_max_length : int\n",
        "            encoder max length.\n",
        "        decoder_max_length : int\n",
        "            decoder max length.\n",
        "        include_history : bool\n",
        "            True if you want the model that include the history, False otherwise.\n",
        "\n",
        "        Returns\n",
        "        -------\n",
        "        dataset\n",
        "            tokenized dataset.\n",
        "        \"\"\"\n",
        "        if include_history:\n",
        "            inputs = self.tokenizer(data['question'], [f\"{context} {history}\" for context, history in zip(data['context'], [self.encode_history(history) for history in data['history']])],\n",
        "                                    padding=\"max_length\", truncation=True, max_length=encoder_max_length)\n",
        "        else:\n",
        "            inputs = self.tokenizer(data['question'], data['context'],\n",
        "                                    padding=\"max_length\", truncation=True, max_length=encoder_max_length)\n",
        "        outputs = self.tokenizer(\n",
        "            data[\"answer\"], padding=\"max_length\", truncation=True, max_length=decoder_max_length)\n",
        "\n",
        "        input_ids = inputs.input_ids\n",
        "        attention_mask = inputs.attention_mask\n",
        "        # data[\"decoder_input_ids\"] = outputs.input_ids\n",
        "        # data[\"decoder_attention_mask\"] = outputs.attention_mask\n",
        "        out_labels = outputs.input_ids.copy()\n",
        "\n",
        "        # because BERT automatically shifts the labels, the labels correspond exactly to `decoder_input_ids`.\n",
        "        # We have to make sure that the PAD token is ignored\n",
        "        if self.config_name == 'prajjwal1/bert-tiny':\n",
        "            out_labels = [[-100 if token == self.tokenizer.pad_token_id else token for token in labels]\n",
        "                                for labels in out_labels]\n",
        "        # For single sample\n",
        "        #  out_labels = [-100 if token == tokenizer.pad_token_id else token for token in out_labels]\n",
        "        out = Dataset.from_dict({'input_ids': input_ids, 'attention_mask': attention_mask, 'labels': out_labels})\n",
        "        out.set_format('torch')\n",
        "        return out\n",
        "\n",
        "    def process_data_to_model_inputs(self, batch, encoder_max_length=512, decoder_max_length=32, include_history=False):\n",
        "        \"\"\"\n",
        "        Process data to be fed into the network, modifies batch\n",
        "\n",
        "        Parameters\n",
        "        ----------\n",
        "        batch : list\n",
        "            input batch.\n",
        "        encoder_max_length : int\n",
        "            max length of the encoder.\n",
        "        decoder_max_length : int\n",
        "            max length of the decoder.\n",
        "        \n",
        "        Returns\n",
        "        -------\n",
        "        batch\n",
        "        \"\"\"\n",
        "        # tokenize the inputs and labels\n",
        "        # concat = 'question: ' + batch['question'] + ' context: ' + batch['context']\n",
        "\n",
        "        tokenized = self.tokenize(\n",
        "            batch,\n",
        "            encoder_max_length=encoder_max_length, \n",
        "            decoder_max_length=decoder_max_length,\n",
        "            include_history=include_history\n",
        "        )\n",
        "\n",
        "        batch[\"input_ids\"] = tokenized[\"input_ids\"]\n",
        "        batch[\"attention_mask\"] = tokenized[\"attention_mask\"]\n",
        "        batch[\"labels\"] = tokenized[\"labels\"]\n",
        "        \n",
        "        return batch\n",
        "\n",
        "    def process_dataset(self, dataset, batch_size=512, **kwargs):\n",
        "        \"\"\"\n",
        "        Map function to process the dataset\n",
        "\n",
        "        Parameters\n",
        "        ----------\n",
        "        dataset : dataset\n",
        "            input dataset.\n",
        "        batch_size : int\n",
        "            size of the batch.\n",
        "        \"\"\"\n",
        "        if batch_size > 1:\n",
        "          batched = True\n",
        "        else:\n",
        "          batched = False\n",
        "        return dataset.map(self.process_data_to_model_inputs, batch_size=batch_size, batched=batched, fn_kwargs=kwargs)\n",
        "\n",
        "    def train(self, train_data, val_data, num_epochs=3, batch_size=8, learning_rate=1e-3):\n",
        "        \"\"\"\n",
        "        Train the model.\n",
        "\n",
        "        Parameters\n",
        "        ----------\n",
        "        train_data : pandas dataframe\n",
        "            train dataset.\n",
        "        val_data : pandas dataframe\n",
        "            validation dataset.\n",
        "        num_epochs : int\n",
        "            number of training epochs\n",
        "        batch_size : int\n",
        "            size of the batch.\n",
        "        learning_rate : real number\n",
        "            startint learning rate\n",
        "        \"\"\"\n",
        "        self.model.train()\n",
        "\n",
        "        training_args = Seq2SeqTrainingArguments(\n",
        "            num_train_epochs=num_epochs,\n",
        "            prediction_loss_only=True,               # Do not compute metrics during train\n",
        "            predict_with_generate=True,\n",
        "            evaluation_strategy=\"epoch\",\n",
        "            per_device_train_batch_size=batch_size,\n",
        "            per_device_eval_batch_size=batch_size,\n",
        "            fp16=True,\n",
        "            output_dir=\"./training\",\n",
        "            # logging_steps=4,\n",
        "            # save_steps=10,\n",
        "            eval_steps=4,\n",
        "            # optim=\"adamw_torch\",\n",
        "            learning_rate=learning_rate,\n",
        "            weight_decay=0.01,\n",
        "            # logging_steps=1000,\n",
        "            save_steps=500,\n",
        "            # eval_steps=7500,\n",
        "            # warmup_steps=2000,\n",
        "            save_total_limit=3,\n",
        "            report_to=\"none\",\n",
        "        )\n",
        "\n",
        "        trainer = Seq2SeqTrainer(\n",
        "            model=self.model,\n",
        "            tokenizer=self.tokenizer,\n",
        "            args=training_args,\n",
        "            compute_metrics=self.compute_metrics,\n",
        "            train_dataset=train_data,\n",
        "            eval_dataset=val_data\n",
        "        )\n",
        "        trainer.train()\n",
        "\n",
        "    def compute_metrics(self, pred):\n",
        "        \"\"\"\n",
        "        Compute the squad f1-score during validation.\n",
        "\n",
        "        Parameters\n",
        "        ----------\n",
        "        pred : list\n",
        "            prediction\n",
        "        \n",
        "        Returns\n",
        "        -------\n",
        "        computed squad f1-score\n",
        "            dict\n",
        "        \"\"\"\n",
        "        \n",
        "        labels_ids = pred.label_ids\n",
        "        pred_ids = pred.predictions\n",
        "\n",
        "        pred_str = self.tokenizer.batch_decode(pred_ids, skip_special_tokens=True)\n",
        "        if self.config_name == 'prajjwal1/bert-tiny':\n",
        "            labels_ids[labels_ids == -100] = self.tokenizer.pad_token_id\n",
        "        label_str = self.tokenizer.batch_decode(labels_ids, skip_special_tokens=True)\n",
        "\n",
        "        pred_str = ' '.join(pred_str)\n",
        "        label_str = ' '.join(label_str)\n",
        "\n",
        "        return {\n",
        "            # \"exact\": squad.compute_exact(pred_str, label_str),\n",
        "            \"squad_f1\": squad.compute_f1(pred_str, label_str),\n",
        "        }\n",
        "\n",
        "    def evaluate(self, samples, batch_size=32, return_preds=True, **kwargs):\n",
        "        \"\"\"\n",
        "        Evaluate the model.\n",
        "\n",
        "        Parameters\n",
        "        ----------\n",
        "        samples : list\n",
        "            list of samples\n",
        "        batch_size : int\n",
        "            size of batch\n",
        "        return_preds :  bool\n",
        "            True if you want to unclude the prediction in the return data, False otherwise\n",
        "        \n",
        "        Returns\n",
        "        -------\n",
        "        squad f1-score or (squad f1-score, prediction)\n",
        "        \"\"\"\n",
        "        score = 0\n",
        "        y_pred = []\n",
        "        for i in tqdm(range(int(np.ceil(len(samples)/batch_size)))):\n",
        "            sample = samples.select(range(i*batch_size,(i+1)*batch_size if (i+1)*batch_size < len(samples) else len(samples)))\n",
        "            y_true = sample['answer']\n",
        "            pred = self.predict_from_tokenized(sample['input_ids'], sample['attention_mask'], num_return_sequences=1)\n",
        "            for p, t in zip(pred, y_true):\n",
        "                pred_score = squad.compute_f1(p, t)\n",
        "                y_pred.append({\"prediction\": p, \"squad_f1\": pred_score})\n",
        "                score += pred_score\n",
        "        \n",
        "        score = score / len(samples)\n",
        "\n",
        "        if return_preds:\n",
        "            return score, y_pred\n",
        "        \n",
        "        return score\n",
        "\n",
        "    def predict(self, data, mode='beam', num_return_sequences=1, repetition_penalty=3.0, length_penalty=2.0, include_history=False, batch_size=1):\n",
        "        \"\"\"\n",
        "        Predict method.\n",
        "\n",
        "        Parameters\n",
        "        ----------\n",
        "        data : dataset\n",
        "            dataset taken into consideration.\n",
        "        mode : str\n",
        "            search mode.\n",
        "        num_return_sequences :  int\n",
        "            set the number of returned sequences\n",
        "        repetition_penalty : float\n",
        "            penalty give to the prediction\n",
        "        length_penalty : float\n",
        "            penalty give to the prediction\n",
        "        include_history : bool\n",
        "            True if you want the model that include the history, False otherwise.\n",
        "        batch_size : int \n",
        "            size of the batch.\n",
        "\n",
        "        Returns\n",
        "        -------\n",
        "        y_pred\n",
        "        \"\"\"\n",
        "        self.model.eval()\n",
        "\n",
        "        with torch.no_grad():\n",
        "            device = torch.device('cuda' if torch.cuda.is_available() else 'cpu')\n",
        "            self.model.to(device)\n",
        "\n",
        "            if batch_size > 1:\n",
        "                y_pred = []\n",
        "                for i in tqdm(range(int(np.ceil(len(data)/batch_size)))):\n",
        "                    sample = data.select(range(i*batch_size,(i+1)*batch_size if (i+1)*batch_size < len(data) else len(data)))\n",
        "\n",
        "                    tokenized = self.tokenize(sample, include_history=include_history)\n",
        "                    input_ids = tokenized['input_ids']\n",
        "                    attention_mask = tokenized['attention_mask']\n",
        "                    \n",
        "                    pred = self.predict_from_tokenized(input_ids, attention_mask, mode=mode, num_return_sequences=num_return_sequences, repetition_penalty=repetition_penalty, length_penalty=length_penalty)\n",
        "                    for p in pred:\n",
        "                        y_pred.append(p)\n",
        "                \n",
        "            else:\n",
        "                question = data['question']\n",
        "                context = data['context']\n",
        "                if include_history:\n",
        "                    context = [f\"{context} {history}\" for context, history in zip(data['context'], [self.encode_history(history) for history in data['history']])]\n",
        "\n",
        "                tokenized = self.tokenize(data, include_history=include_history)\n",
        "                input_ids = tokenized['input_ids']\n",
        "                attention_mask = tokenized['attention_mask']\n",
        "                \n",
        "                y_pred = self.predict_from_tokenized(input_ids, attention_mask, mode=mode, num_return_sequences=num_return_sequences, repetition_penalty=repetition_penalty, length_penalty=length_penalty)\n",
        "            \n",
        "            return y_pred\n",
        "\n",
        "\n",
        "    def predict_from_tokenized(self, input_ids, attention_mask, mode='beam', num_return_sequences=1, repetition_penalty=3.0, length_penalty=2.0):\n",
        "        \"\"\"\n",
        "        Predict from pre-tokenized data.\n",
        "\n",
        "        Parameters\n",
        "        ----------\n",
        "        input_ids : list\n",
        "            ids of the input data.\n",
        "        mode : str\n",
        "            search mode.\n",
        "        num_return_sequences :  int\n",
        "            set the number of returned sequences\n",
        "        repetition_penalty : float\n",
        "            penalty give to the prediction\n",
        "        length_penalty : float\n",
        "            penalty give to the prediction\n",
        "\n",
        "        Returns\n",
        "        -------\n",
        "        str\n",
        "            the genereted text.\n",
        "        \"\"\"\n",
        "        self.model.eval()\n",
        "\n",
        "        device = torch.device('cuda' if torch.cuda.is_available() else 'cpu')\n",
        "        self.model.to(device)\n",
        "        input_ids = input_ids.to(device)\n",
        "        attention_mask = attention_mask.to(device)\n",
        "\n",
        "        with torch.no_grad():\n",
        "            if mode == 'beam':\n",
        "                generated_ids = self.model.generate(input_ids,\n",
        "                                                    attention_mask=attention_mask,\n",
        "                                                    decoder_start_token_id=self.model.config.decoder.bos_token_id,\n",
        "                                                    num_beams=15,\n",
        "                                                    no_repeat_ngram_size=2,\n",
        "                                                    early_stopping=True,\n",
        "                                                    repetition_penalty=repetition_penalty,\n",
        "                                                    length_penalty=length_penalty,\n",
        "                                                    num_return_sequences=num_return_sequences\n",
        "                                                    )\n",
        "            elif mode == 'topk':\n",
        "                generated_ids = self.model.generate(input_ids,\n",
        "                                                    attention_mask=attention_mask,\n",
        "                                                    decoder_start_token_id=self.model.config.decoder.bos_token_id,\n",
        "                                                    repetition_penalty=repetition_penalty,\n",
        "                                                    length_penalty=length_penalty,\n",
        "                                                    num_return_sequences=num_return_sequences,\n",
        "                                                    do_sample=True,\n",
        "                                                    top_k=50,\n",
        "                                                    top_p=0.95,\n",
        "                                                    )\n",
        "            else:\n",
        "                generated_ids = self.model.generate(input_ids,\n",
        "                                                    attention_mask=attention_mask,\n",
        "                                                    decoder_start_token_id=self.model.config.decoder.bos_token_id,\n",
        "                                                    num_return_sequences=num_return_sequences,\n",
        "                                                    repetition_penalty=repetition_penalty,\n",
        "                                                    length_penalty=length_penalty\n",
        "                                                    )\n",
        "            generated_text = self.tokenizer.batch_decode(\n",
        "                generated_ids, skip_special_tokens=True)\n",
        "                \n",
        "        return generated_text \n",
        "    \n",
        "    def save_pretrained(self, *args, **kwargs):\n",
        "        \"\"\"\n",
        "        Save the model.\n",
        "        \"\"\"\n",
        "        #saving model\n",
        "        return self.model.save_pretrained(*args, **kwargs)"
      ]
    },
    {
      "cell_type": "markdown",
      "metadata": {
        "id": "BaobnmLqhYxG"
      },
      "source": [
        "## Task 4 - Models with Context+Question"
      ]
    },
    {
      "cell_type": "markdown",
      "metadata": {
        "id": "zjfFcwUnhYxH"
      },
      "source": [
        "Implementation of $f_\\theta(P, Q)$ for both the models, using the wrapper model defined before."
      ]
    },
    {
      "cell_type": "code",
      "execution_count": null,
      "metadata": {
        "id": "c-LZzpDDhYxH"
      },
      "outputs": [],
      "source": [
        "bert_tiny = s2smodel('prajjwal1/bert-tiny')\n",
        "include_history = False"
      ]
    },
    {
      "cell_type": "code",
      "execution_count": null,
      "metadata": {
        "id": "VYAoLRGLhYxH"
      },
      "outputs": [],
      "source": [
        "roberta = s2smodel('distilroberta-base')\n",
        "include_history = False"
      ]
    },
    {
      "cell_type": "markdown",
      "metadata": {
        "id": "iSRQoWTzhYxH"
      },
      "source": [
        "## Task 5 - Models with Context+Question+History"
      ]
    },
    {
      "cell_type": "markdown",
      "metadata": {
        "id": "BYZTJF6DhYxH"
      },
      "source": [
        "Implementation of $f_\\theta(P, Q, H)$ for both the models, using the wrapper model defined before."
      ]
    },
    {
      "cell_type": "code",
      "execution_count": null,
      "metadata": {
        "id": "PYxqi7MXhYxI"
      },
      "outputs": [],
      "source": [
        "bert_tiny_history = s2smodel('prajjwal1/bert-tiny')\n",
        "include_history = True"
      ]
    },
    {
      "cell_type": "code",
      "execution_count": null,
      "metadata": {
        "id": "Y2ysDBB3hYxI"
      },
      "outputs": [],
      "source": [
        "roberta_history = s2smodel('distilroberta-base')\n",
        "include_history = True"
      ]
    },
    {
      "cell_type": "markdown",
      "metadata": {
        "id": "6hHTwq_1hYxI"
      },
      "source": [
        "## Task 6 - Training and Evaluation"
      ]
    },
    {
      "cell_type": "markdown",
      "metadata": {
        "id": "RFJZrzMwhYxJ"
      },
      "source": [
        "In this section the models are trained and evaluated. Please select the model and hyperparameters carefully as the training phase is quite heavy."
      ]
    },
    {
      "cell_type": "code",
      "execution_count": null,
      "metadata": {
        "id": "Fd9o3abHhYxJ"
      },
      "outputs": [],
      "source": [
        "# The model to train\n",
        "model = bert_tiny\n",
        "# Use the largest affordable batch_szie (suggested: 16 for bert-tiny, 8 or 4 for Distilroberta-base)\n",
        "batch_size = 16\n",
        "# Use 1e-3 for Bert-tiny, 2e-5 for Distilroberta-base\n",
        "learning_rate = 1e-3"
      ]
    },
    {
      "cell_type": "markdown",
      "metadata": {
        "id": "hGeJF2JehYxJ"
      },
      "source": [
        "### Training"
      ]
    },
    {
      "cell_type": "code",
      "execution_count": null,
      "metadata": {
        "colab": {
          "base_uri": "https://localhost:8080/"
        },
        "id": "JxCYWIW2gR08",
        "outputId": "755d7aa0-77a2-4307-c5cb-3c1954622cdd"
      },
      "outputs": [
        {
          "data": {
            "text/plain": [
              "Dataset({\n",
              "    features: ['context', 'question', 'answer', 'history'],\n",
              "    num_rows: 85820\n",
              "})"
            ]
          },
          "execution_count": 49,
          "metadata": {},
          "output_type": "execute_result"
        }
      ],
      "source": [
        "train_dataset = Dataset.from_dict(df_train)\n",
        "train_dataset"
      ]
    },
    {
      "cell_type": "code",
      "execution_count": null,
      "metadata": {
        "colab": {
          "base_uri": "https://localhost:8080/"
        },
        "id": "AIliXT1xgR09",
        "outputId": "381a92df-bebb-4747-eff9-269ccaf4cf55"
      },
      "outputs": [
        {
          "data": {
            "text/plain": [
              "Dataset({\n",
              "    features: ['context', 'question', 'answer', 'history'],\n",
              "    num_rows: 21455\n",
              "})"
            ]
          },
          "execution_count": 50,
          "metadata": {},
          "output_type": "execute_result"
        }
      ],
      "source": [
        "val_dataset = Dataset.from_dict(df_val)\n",
        "val_dataset"
      ]
    },
    {
      "cell_type": "code",
      "execution_count": null,
      "metadata": {
        "id": "cnALQjDohYxK"
      },
      "outputs": [],
      "source": [
        "test_dataset = Dataset.from_dict(df_test)\n",
        "test_dataset"
      ]
    },
    {
      "cell_type": "code",
      "execution_count": null,
      "metadata": {
        "colab": {
          "base_uri": "https://localhost:8080/"
        },
        "id": "gmVp6vFPgR0-",
        "outputId": "ebb39b94-c3ba-44dc-a0a6-16627404ab61"
      },
      "outputs": [
        {
          "data": {
            "text/plain": [
              "DatasetDict({\n",
              "    train: Dataset({\n",
              "        features: ['context', 'question', 'answer', 'history'],\n",
              "        num_rows: 85820\n",
              "    })\n",
              "    val: Dataset({\n",
              "        features: ['context', 'question', 'answer', 'history'],\n",
              "        num_rows: 21455\n",
              "    })\n",
              "})"
            ]
          },
          "execution_count": 51,
          "metadata": {},
          "output_type": "execute_result"
        }
      ],
      "source": [
        "dataset_dict = DatasetDict({\n",
        "    \"train\": train_dataset,\n",
        "    \"val\": val_dataset,\n",
        "    \"test\": test_dataset    # test data will be mapped but won't be considered during training\n",
        "})\n",
        "dataset_dict"
      ]
    },
    {
      "cell_type": "code",
      "execution_count": null,
      "metadata": {
        "id": "syTFfosfqNGZ"
      },
      "outputs": [],
      "source": [
        "dataset_dict = model.process_dataset(dataset_dict)"
      ]
    },
    {
      "cell_type": "code",
      "execution_count": null,
      "metadata": {
        "id": "kSTGaLxsiuRp"
      },
      "outputs": [],
      "source": [
        "train_data = dataset_dict['train']\n",
        "val_data = dataset_dict['val']\n",
        "test_data = dataset_dict['test']\n",
        "train_data.set_format('torch')\n",
        "val_data.set_format('torch')\n",
        "test_data.set_format('torch')"
      ]
    },
    {
      "cell_type": "code",
      "execution_count": null,
      "metadata": {
        "id": "7TUGy5ff8dYh"
      },
      "outputs": [],
      "source": [
        "model.train(train_data, val_data, batch_size=batch_size, learning_rate=learning_rate)"
      ]
    },
    {
      "cell_type": "markdown",
      "metadata": {
        "id": "iVjNYJOThYxL"
      },
      "source": [
        "### Saving model"
      ]
    },
    {
      "cell_type": "code",
      "execution_count": null,
      "metadata": {
        "id": "iqPQVw9ThYxL"
      },
      "outputs": [],
      "source": [
        "model.save_pretrained(os.path.join(models_path ,f\"{model.model_name}{'-history' if model.include_history else ''}-{str(seed)}\"))"
      ]
    },
    {
      "cell_type": "markdown",
      "metadata": {
        "id": "EbUwvW6rhYxL"
      },
      "source": [
        "### Evaluation"
      ]
    },
    {
      "cell_type": "code",
      "execution_count": null,
      "metadata": {
        "id": "MMLa1pdLhYxL",
        "outputId": "2c78c493-0ac3-4ad4-b57e-2cbbc7800431"
      },
      "outputs": [
        {
          "name": "stderr",
          "output_type": "stream",
          "text": [
            "The following encoder weights were not tied to the decoder ['bert/pooler']\n",
            "The following encoder weights were not tied to the decoder ['bert/pooler']\n"
          ]
        }
      ],
      "source": [
        "# Use the following to use finetuned weights\n",
        "# model = s2smodel(os.path.join(models_path, f\"bert-tiny-{seed}\"))\n",
        "# model = s2smodel(os.path.join(models_path, f\"bert-tiny-history-{seed}\"))\n",
        "# model = s2smodel(os.path.join(models_path, f\"distilroberta-base-{seed}\"))\n",
        "# model = s2smodel(os.path.join(models_path, f\"distilroberta-base-history-{seed}\"))\n",
        "\n",
        "include_history = True"
      ]
    },
    {
      "cell_type": "code",
      "execution_count": null,
      "metadata": {
        "id": "nGm9qVInhYxM"
      },
      "outputs": [],
      "source": [
        "batch_size = 16"
      ]
    },
    {
      "cell_type": "code",
      "execution_count": null,
      "metadata": {
        "colab": {
          "base_uri": "https://localhost:8080/"
        },
        "id": "SwkTAsWChYxM",
        "outputId": "381a92df-bebb-4747-eff9-269ccaf4cf55"
      },
      "outputs": [
        {
          "data": {
            "text/plain": [
              "Dataset({\n",
              "    features: ['source', 'context', 'question', 'answer', 'history'],\n",
              "    num_rows: 21455\n",
              "})"
            ]
          },
          "execution_count": 21,
          "metadata": {},
          "output_type": "execute_result"
        }
      ],
      "source": [
        "val_dataset = Dataset.from_dict(df_val)\n",
        "val_dataset"
      ]
    },
    {
      "cell_type": "code",
      "execution_count": null,
      "metadata": {
        "id": "HVKfgAL-hYxM",
        "outputId": "f876ef7a-f904-42bf-f78e-cac6e892c81e"
      },
      "outputs": [
        {
          "data": {
            "text/plain": [
              "Dataset({\n",
              "    features: ['source', 'context', 'question', 'answer', 'history'],\n",
              "    num_rows: 7983\n",
              "})"
            ]
          },
          "execution_count": 22,
          "metadata": {},
          "output_type": "execute_result"
        }
      ],
      "source": [
        "test_dataset = Dataset.from_dict(df_test)\n",
        "test_dataset"
      ]
    },
    {
      "cell_type": "code",
      "execution_count": null,
      "metadata": {
        "colab": {
          "base_uri": "https://localhost:8080/"
        },
        "id": "NAbUxYIGhYxN",
        "outputId": "ebb39b94-c3ba-44dc-a0a6-16627404ab61"
      },
      "outputs": [
        {
          "data": {
            "text/plain": [
              "DatasetDict({\n",
              "    val: Dataset({\n",
              "        features: ['source', 'context', 'question', 'answer', 'history'],\n",
              "        num_rows: 21455\n",
              "    })\n",
              "    test: Dataset({\n",
              "        features: ['source', 'context', 'question', 'answer', 'history'],\n",
              "        num_rows: 7983\n",
              "    })\n",
              "})"
            ]
          },
          "execution_count": 23,
          "metadata": {},
          "output_type": "execute_result"
        }
      ],
      "source": [
        "dataset_dict = DatasetDict({\n",
        "    \"val\": val_dataset,\n",
        "    \"test\": test_dataset\n",
        "})\n",
        "dataset_dict"
      ]
    },
    {
      "cell_type": "code",
      "execution_count": null,
      "metadata": {
        "colab": {
          "base_uri": "https://localhost:8080/",
          "height": 81,
          "referenced_widgets": [
            "679258861e7049f0a3b35f379a06b9ad",
            "450174dce52e4c0aa6d2ef490c2c9a43",
            "bbf1309b77f843bd8e009df4d03b7dd5",
            "60b6182c216347579805e246173f6941",
            "41f7dd9a88514b79ab1317c81e228284",
            "e2c2269b6e864307bcc8eff0bc5e4448",
            "14e434e798a541ad92594652628430ca",
            "570f400a534242fba65755d7f3ab96fe",
            "d31bc9a614684842b1d2e06de168b01d",
            "e4cf8ee5b85c4dc5a1ae9dc54599bdca",
            "43942507d3bd426b8c63d79e71356906",
            "4eb560eaa10d492a86e3c581d122bb60",
            "d1ff51fc9f0145bb98687fbafd225d9c",
            "e9b720e7d14343e3b9b9c155834a5081",
            "8d3e07acecdd44eaa7f75859208547af",
            "73ee267b642140b9bb4fd54d08f3a2a6",
            "a32345dc112648389cbf2306c1d4def8",
            "99585c42e0fb4cffb3e3342e76991b0c",
            "0500786c9b3b4b9697e724789fc102e3",
            "219ea72d9e434af9bfe3ac014e2cd1fc",
            "9022c3fcb05d4b8f955f5f65d9359aa7",
            "db3e8ff553974033b68d799e9b74655d"
          ]
        },
        "id": "0zr6T2QYhYxN",
        "outputId": "d4513c7c-fd19-475c-95bd-a668e249c1d6"
      },
      "outputs": [
        {
          "data": {
            "application/vnd.jupyter.widget-view+json": {
              "model_id": "cf53d9b9dbca4b18bad5bb36084e15e0",
              "version_major": 2,
              "version_minor": 0
            },
            "text/plain": [
              "  0%|          | 0/42 [00:00<?, ?ba/s]"
            ]
          },
          "metadata": {},
          "output_type": "display_data"
        },
        {
          "data": {
            "application/vnd.jupyter.widget-view+json": {
              "model_id": "2246dcd158b041a9a8cbb3aa45d7bfea",
              "version_major": 2,
              "version_minor": 0
            },
            "text/plain": [
              "  0%|          | 0/16 [00:00<?, ?ba/s]"
            ]
          },
          "metadata": {},
          "output_type": "display_data"
        }
      ],
      "source": [
        "dataset_dict = model.process_dataset(dataset_dict, include_history=include_history)"
      ]
    },
    {
      "cell_type": "code",
      "execution_count": null,
      "metadata": {
        "id": "8AnKsSKchYxN"
      },
      "outputs": [],
      "source": [
        "val_data = dataset_dict['val']\n",
        "test_data = dataset_dict['test']\n",
        "val_data.set_format('torch')\n",
        "test_data.set_format('torch')"
      ]
    },
    {
      "cell_type": "code",
      "execution_count": null,
      "metadata": {
        "colab": {
          "base_uri": "https://localhost:8080/",
          "height": 323
        },
        "id": "y9srMIgD19sj",
        "outputId": "0fe497aa-8bc3-4d3b-9083-2a0491d2c326"
      },
      "outputs": [
        {
          "name": "stderr",
          "output_type": "stream",
          "text": [
            "100%|██████████| 1341/1341 [19:14<00:00,  1.16it/s]"
          ]
        },
        {
          "name": "stdout",
          "output_type": "stream",
          "text": [
            "[val] SQUAD F1: 0.17001658389956673\n"
          ]
        },
        {
          "name": "stderr",
          "output_type": "stream",
          "text": [
            "\n"
          ]
        }
      ],
      "source": [
        "score, y_val_pred = model.evaluate(val_data, batch_size=batch_size)\n",
        "print(f\"[val] SQUAD F1: {score}\")"
      ]
    },
    {
      "cell_type": "code",
      "execution_count": null,
      "metadata": {
        "colab": {
          "base_uri": "https://localhost:8080/",
          "height": 323
        },
        "id": "-Qu_TmM5hYxO",
        "outputId": "0fe497aa-8bc3-4d3b-9083-2a0491d2c326"
      },
      "outputs": [
        {
          "name": "stderr",
          "output_type": "stream",
          "text": [
            "100%|██████████| 499/499 [07:00<00:00,  1.19it/s]"
          ]
        },
        {
          "name": "stdout",
          "output_type": "stream",
          "text": [
            "[test] SQUAD F1: 0.17098120847211923\n"
          ]
        },
        {
          "name": "stderr",
          "output_type": "stream",
          "text": [
            "\n"
          ]
        }
      ],
      "source": [
        "score, y_test_pred = model.evaluate(test_data, batch_size=batch_size)\n",
        "print(f\"[test] SQUAD F1: {score}\")"
      ]
    },
    {
      "cell_type": "markdown",
      "metadata": {
        "id": "LamIhPUBhYxO"
      },
      "source": [
        "## Task 7 - Error analysis"
      ]
    },
    {
      "cell_type": "markdown",
      "metadata": {
        "id": "M6kP-FJ_hYxO"
      },
      "source": [
        "In this section the top 5 errors per source are reported in order to observe specific patterns in wrong answers and their associated questions."
      ]
    },
    {
      "cell_type": "code",
      "execution_count": 24,
      "metadata": {
        "id": "e2jaEvAahYxQ"
      },
      "outputs": [],
      "source": [
        "def get_top_k_errors_per_source(data, predictions, k=5, metric='squad_f1', groupby='source'):\n",
        "    concat = pd.concat([pd.DataFrame(data), pd.DataFrame(predictions)], axis=1)[[groupby, 'question', 'answer', 'prediction', metric]]\n",
        "    return concat.sort_values(metric).groupby(groupby).head(k).sort_values([groupby, metric])"
      ]
    },
    {
      "cell_type": "code",
      "execution_count": 25,
      "metadata": {
        "colab": {
          "base_uri": "https://localhost:8080/",
          "height": 278,
          "referenced_widgets": [
            "10f779898d3a4bee85cab08e507ac1ed",
            "d224364d66424b2e8889a5ec98ee9df6",
            "7c4bb89c51944c8b840d89dac50ff634",
            "4408a5a66c99494986ba78fddfd19789",
            "83b4710a9e394fecba072d3274e29d9b",
            "ffdf5e909e364f4ea62e9c3fa5dfbfcd",
            "2a287a23e74b4ce0a913021aecc50af8",
            "f0ef26cbaeb24f32be50730678f7201a",
            "48ae7eb1609145e29455456adbccc7fa",
            "2febf4f451454a3fab63f5878e4c606e",
            "1921a77813c845d7834ac25e92c7dea4",
            "859c8a20ec5a4266baa284c55ed2d703",
            "558a77a936504a6e82c879efd318c06b",
            "2910880e7d4240a7bb911b69a7bb434d",
            "891f43a407a54f48b58fb87181a3fb70",
            "1a16d16842964af2a79c7d3960384987",
            "a24b5cbdef984aad8849a7754a80eea3",
            "239f2d1ebcc247bdbd878332d3788b93",
            "9f9743c29fff4262993bf463d370e6e1",
            "c0f004acbbe64606a38151457dabc3f0",
            "e340dca2fbe749278ef5c9bee81f90bc",
            "8c09e16229d54e16b868eb6017490317",
            "fdc633994c5241fca94416f6127576d4",
            "0f0b11d3afc6411cb00b7773b3f53a5d",
            "15ecf44cc0b542648aa78a24ddba47da",
            "c8b472a7d81c41be9c930ff14b50a4a2",
            "c5443be7c26249e4a5cf1b0956d30640",
            "763e5bfd83a64b2a9ac71c3472236c49",
            "2221c3177588423bb4ca96a2789bfb56",
            "b8faa2acf54c4a95ac46bad2d082052d",
            "a78407d1d3f64170990903d5eacb73af",
            "5fda01b9a1ce4a2d89b0daa74803739a",
            "ebc67d223bd4423f9ad05f0f560a5556",
            "b24a8e1d42b34d92bde60b8090a54407",
            "9f5c74263b4b4171b538eacb2ee90dbf",
            "cf89a7fbc62f43d6aa795dedc1cb8aa6",
            "43efe758e57244a3869195474f713aa8",
            "c4b697a0cf6e4384b50a5df4ce1ec4a8",
            "f5ecbbb392fe4c3e8fef3454ea7df977",
            "a4a6048cae3a4d6698bf6f4f391d9da9",
            "f1c6e6bde3204cb8bda22c442ecabac9",
            "fa1787342d404196bc2f85c753a7a89b",
            "49aae809ccb84d1a88fc9cfd9e241412",
            "135fe7cfcb6f41d4806b348e9ea3bc52",
            "87a18a7ac91247afa8913e3705763d15",
            "418806a9861c4ba8878d24ed25d8497b",
            "b800ed8c82f64c859cb9161c9fd9a3c0",
            "b932d79faadd46a297f69064dc34c992",
            "96de8141c4204857bcbfc77558990563",
            "028ecff7a4f245039b4682093086bcea",
            "ab3e549f48fe4b49835f13071ce105dc",
            "197681965f844f7dbbbc1b06412cf20f",
            "10e40140dd1c4295bb316f916e7339ec",
            "267f9b6b73d64198ad355ec88830f110",
            "4568dea9d32649a98fff61231d56341b",
            "7badca2f006048398a7e5af010e2b8fe",
            "7e577f8117074db796744006cc4c71ce",
            "c004bc1c584a41ba8f4ba360b92b21b0",
            "9746d0c45f6b47d1b8ba8f62c5fd1042",
            "4a611b4ec5864ce69cd3f03afe97e8b8",
            "64853426737649ef92fc42a24848561d",
            "12c40e543c894e29b56b5a3cc33a7989",
            "5729be6b125d4f57a37ba5127b44497e",
            "e056c5671c3d495785787a2219a5d134",
            "68a0e205ac3344cfa520eeeb3f9f50a9",
            "c488ce5f63b34a078bf973d6916f0626"
          ]
        },
        "id": "XqD89dv5hYxQ",
        "outputId": "e917123f-e4cf-4722-b392-677241de6436"
      },
      "outputs": [
        {
          "name": "stderr",
          "output_type": "stream",
          "text": [
            "The following encoder weights were not tied to the decoder ['roberta/pooler']\n",
            "The following encoder weights were not tied to the decoder ['roberta/pooler']\n"
          ]
        },
        {
          "data": {
            "application/vnd.jupyter.widget-view+json": {
              "model_id": "10f779898d3a4bee85cab08e507ac1ed",
              "version_major": 2,
              "version_minor": 0
            },
            "text/plain": [
              "Downloading:   0%|          | 0.00/480 [00:00<?, ?B/s]"
            ]
          },
          "metadata": {},
          "output_type": "display_data"
        },
        {
          "data": {
            "application/vnd.jupyter.widget-view+json": {
              "model_id": "859c8a20ec5a4266baa284c55ed2d703",
              "version_major": 2,
              "version_minor": 0
            },
            "text/plain": [
              "Downloading:   0%|          | 0.00/878k [00:00<?, ?B/s]"
            ]
          },
          "metadata": {},
          "output_type": "display_data"
        },
        {
          "data": {
            "application/vnd.jupyter.widget-view+json": {
              "model_id": "fdc633994c5241fca94416f6127576d4",
              "version_major": 2,
              "version_minor": 0
            },
            "text/plain": [
              "Downloading:   0%|          | 0.00/446k [00:00<?, ?B/s]"
            ]
          },
          "metadata": {},
          "output_type": "display_data"
        },
        {
          "data": {
            "application/vnd.jupyter.widget-view+json": {
              "model_id": "b24a8e1d42b34d92bde60b8090a54407",
              "version_major": 2,
              "version_minor": 0
            },
            "text/plain": [
              "Downloading:   0%|          | 0.00/1.29M [00:00<?, ?B/s]"
            ]
          },
          "metadata": {},
          "output_type": "display_data"
        },
        {
          "name": "stderr",
          "output_type": "stream",
          "text": [
            "The following encoder weights were not tied to the decoder ['bert/pooler']\n",
            "The following encoder weights were not tied to the decoder ['bert/pooler']\n"
          ]
        },
        {
          "data": {
            "application/vnd.jupyter.widget-view+json": {
              "model_id": "87a18a7ac91247afa8913e3705763d15",
              "version_major": 2,
              "version_minor": 0
            },
            "text/plain": [
              "Downloading:   0%|          | 0.00/285 [00:00<?, ?B/s]"
            ]
          },
          "metadata": {},
          "output_type": "display_data"
        },
        {
          "data": {
            "application/vnd.jupyter.widget-view+json": {
              "model_id": "7badca2f006048398a7e5af010e2b8fe",
              "version_major": 2,
              "version_minor": 0
            },
            "text/plain": [
              "Downloading:   0%|          | 0.00/226k [00:00<?, ?B/s]"
            ]
          },
          "metadata": {},
          "output_type": "display_data"
        }
      ],
      "source": [
        "batch_size = 32\n",
        "m1 = s2smodel(os.path.join(models_path, f\"distilroberta-base-history-{seed}\"))\n",
        "include_history_m1 = True\n",
        "m2 = s2smodel(os.path.join(models_path, f\"bert-tiny-history-{seed}\"))\n",
        "include_history_m2 = True"
      ]
    },
    {
      "cell_type": "code",
      "execution_count": 26,
      "metadata": {
        "colab": {
          "base_uri": "https://localhost:8080/",
          "height": 49,
          "referenced_widgets": [
            "5f53e55b5ac2429b80d3e7e85d5a5f99",
            "58dffa0201764ffd91954ca65c6f60e0",
            "9c0e139a62f449a1b8b5a9c2b5aecc0c",
            "a0a872ad8a4c4792942be1a1ceb1f772",
            "abddfa86a1b246c2afd4ec0d67db39a6",
            "93282283281b42c99ff7bcac5f87639a",
            "5d8dd7c187034a988ab45df25f23941a",
            "30477c18d1ab47a9a969250e05644515",
            "1ff6d5688c084d6e9f3eea153f47c678",
            "682dbc109ebf402cb7fc0e53f51f7c5e",
            "7174f32f9c8a4618b3d00b921a2427ac"
          ]
        },
        "id": "eXvYzklIhYxQ",
        "outputId": "c011aad9-ac80-40dd-8130-d0470758679d"
      },
      "outputs": [
        {
          "data": {
            "application/vnd.jupyter.widget-view+json": {
              "model_id": "5f53e55b5ac2429b80d3e7e85d5a5f99",
              "version_major": 2,
              "version_minor": 0
            },
            "text/plain": [
              "  0%|          | 0/16 [00:00<?, ?ba/s]"
            ]
          },
          "metadata": {},
          "output_type": "display_data"
        }
      ],
      "source": [
        "test_dataset_m1 = Dataset.from_dict(df_test)\n",
        "test_data_m1 = m1.process_dataset(test_dataset_m1, include_history=include_history_m1)\n",
        "test_data_m1.set_format('torch')"
      ]
    },
    {
      "cell_type": "code",
      "execution_count": 27,
      "metadata": {
        "colab": {
          "base_uri": "https://localhost:8080/",
          "height": 49,
          "referenced_widgets": [
            "aa5f0daca18e47c6ab6d62043a5e1a90",
            "633bd7d73b4146f18a1e2d7640af8f28",
            "57e37f97a9a4446aa6e55999e899a682",
            "021b175ff3b0476c95105ed33764450f",
            "85c89470a19645e58430da5b59aef354",
            "187f761ebcb54cdeae4b04ac90adbd7c",
            "e95a7d3266ca4e8fb713011247894de0",
            "0acb6f85670644aa8c05003b80216469",
            "fa6499eab22b4d2dac6f489e1fcdd8be",
            "9b37ec4586644401b59495fdc9fc13f6",
            "d43b476114384e32866af6e156a51787"
          ]
        },
        "id": "uoUyM_NQhYxQ",
        "outputId": "7830e8ff-a117-4aa3-8960-937de8371b78"
      },
      "outputs": [
        {
          "data": {
            "application/vnd.jupyter.widget-view+json": {
              "model_id": "aa5f0daca18e47c6ab6d62043a5e1a90",
              "version_major": 2,
              "version_minor": 0
            },
            "text/plain": [
              "  0%|          | 0/16 [00:00<?, ?ba/s]"
            ]
          },
          "metadata": {},
          "output_type": "display_data"
        }
      ],
      "source": [
        "test_dataset_m2 = Dataset.from_dict(df_test)\n",
        "test_data_m2 = m2.process_dataset(test_dataset_m2, include_history=include_history_m2)\n",
        "test_data_m2.set_format('torch')"
      ]
    },
    {
      "cell_type": "code",
      "execution_count": 28,
      "metadata": {
        "colab": {
          "base_uri": "https://localhost:8080/"
        },
        "id": "Qmpxt7RGhYxR",
        "outputId": "10672c67-757e-4e78-b47a-dd6f8d0d3adc"
      },
      "outputs": [
        {
          "name": "stderr",
          "output_type": "stream",
          "text": [
            "100%|██████████| 250/250 [04:40<00:00,  1.12s/it]\n"
          ]
        }
      ],
      "source": [
        "_, m1_pred = m1.evaluate(test_data_m1, batch_size=batch_size)"
      ]
    },
    {
      "cell_type": "code",
      "execution_count": 29,
      "metadata": {
        "colab": {
          "base_uri": "https://localhost:8080/",
          "height": 423
        },
        "id": "qrUrA4nbhYxR",
        "outputId": "0504fcc5-e534-4451-9567-7eb9dfece3c0"
      },
      "outputs": [
        {
          "data": {
            "text/html": [
              "\n",
              "  <div id=\"df-969b777e-5c4c-4ada-9084-2063bcae389b\">\n",
              "    <div class=\"colab-df-container\">\n",
              "      <div>\n",
              "<style scoped>\n",
              "    .dataframe tbody tr th:only-of-type {\n",
              "        vertical-align: middle;\n",
              "    }\n",
              "\n",
              "    .dataframe tbody tr th {\n",
              "        vertical-align: top;\n",
              "    }\n",
              "\n",
              "    .dataframe thead th {\n",
              "        text-align: right;\n",
              "    }\n",
              "</style>\n",
              "<table border=\"1\" class=\"dataframe\">\n",
              "  <thead>\n",
              "    <tr style=\"text-align: right;\">\n",
              "      <th></th>\n",
              "      <th>source</th>\n",
              "      <th>question</th>\n",
              "      <th>answer</th>\n",
              "      <th>prediction</th>\n",
              "      <th>squad_f1</th>\n",
              "    </tr>\n",
              "  </thead>\n",
              "  <tbody>\n",
              "    <tr>\n",
              "      <th>7510</th>\n",
              "      <td>2008_Summer_Olympics_torch_relay2008_Summer_Ol...</td>\n",
              "      <td>Did they visit any ancient Chinese sites?</td>\n",
              "      <td>Silk Road</td>\n",
              "      <td>yes</td>\n",
              "      <td>0.0</td>\n",
              "    </tr>\n",
              "    <tr>\n",
              "      <th>7509</th>\n",
              "      <td>2008_Summer_Olympics_torch_relay2008_Summer_Ol...</td>\n",
              "      <td>And did they climb any mountains?</td>\n",
              "      <td>unknown</td>\n",
              "      <td>yes</td>\n",
              "      <td>0.0</td>\n",
              "    </tr>\n",
              "    <tr>\n",
              "      <th>7508</th>\n",
              "      <td>2008_Summer_Olympics_torch_relay2008_Summer_Ol...</td>\n",
              "      <td>Did they visit any notable landmarks?</td>\n",
              "      <td>Panathinaiko Stadium</td>\n",
              "      <td>yes</td>\n",
              "      <td>0.0</td>\n",
              "    </tr>\n",
              "    <tr>\n",
              "      <th>7507</th>\n",
              "      <td>2008_Summer_Olympics_torch_relay2008_Summer_Ol...</td>\n",
              "      <td>How many days was the race?</td>\n",
              "      <td>seven</td>\n",
              "      <td>three years</td>\n",
              "      <td>0.0</td>\n",
              "    </tr>\n",
              "    <tr>\n",
              "      <th>7506</th>\n",
              "      <td>2008_Summer_Olympics_torch_relay2008_Summer_Ol...</td>\n",
              "      <td>Where did they go after?</td>\n",
              "      <td>Athens</td>\n",
              "      <td>in the Beijing Olympics</td>\n",
              "      <td>0.0</td>\n",
              "    </tr>\n",
              "    <tr>\n",
              "      <th>...</th>\n",
              "      <td>...</td>\n",
              "      <td>...</td>\n",
              "      <td>...</td>\n",
              "      <td>...</td>\n",
              "      <td>...</td>\n",
              "    </tr>\n",
              "    <tr>\n",
              "      <th>6641</th>\n",
              "      <td>middle880.txt</td>\n",
              "      <td>Who suggested making the spot easy to return to?</td>\n",
              "      <td>Bruce</td>\n",
              "      <td>Tommy</td>\n",
              "      <td>0.0</td>\n",
              "    </tr>\n",
              "    <tr>\n",
              "      <th>6640</th>\n",
              "      <td>middle880.txt</td>\n",
              "      <td>How come?</td>\n",
              "      <td>there were a lot of fish.</td>\n",
              "      <td>to go to the beach</td>\n",
              "      <td>0.0</td>\n",
              "    </tr>\n",
              "    <tr>\n",
              "      <th>6639</th>\n",
              "      <td>middle880.txt</td>\n",
              "      <td>Was the spot they found a good spot to cast th...</td>\n",
              "      <td>Yes</td>\n",
              "      <td>no</td>\n",
              "      <td>0.0</td>\n",
              "    </tr>\n",
              "    <tr>\n",
              "      <th>6638</th>\n",
              "      <td>middle880.txt</td>\n",
              "      <td>Did they search all day for a good spot to no ...</td>\n",
              "      <td>No.</td>\n",
              "      <td>yes</td>\n",
              "      <td>0.0</td>\n",
              "    </tr>\n",
              "    <tr>\n",
              "      <th>6635</th>\n",
              "      <td>middle880.txt</td>\n",
              "      <td>What did they do there?</td>\n",
              "      <td>Fished</td>\n",
              "      <td>took a boat</td>\n",
              "      <td>0.0</td>\n",
              "    </tr>\n",
              "  </tbody>\n",
              "</table>\n",
              "<p>2495 rows × 5 columns</p>\n",
              "</div>\n",
              "      <button class=\"colab-df-convert\" onclick=\"convertToInteractive('df-969b777e-5c4c-4ada-9084-2063bcae389b')\"\n",
              "              title=\"Convert this dataframe to an interactive table.\"\n",
              "              style=\"display:none;\">\n",
              "        \n",
              "  <svg xmlns=\"http://www.w3.org/2000/svg\" height=\"24px\"viewBox=\"0 0 24 24\"\n",
              "       width=\"24px\">\n",
              "    <path d=\"M0 0h24v24H0V0z\" fill=\"none\"/>\n",
              "    <path d=\"M18.56 5.44l.94 2.06.94-2.06 2.06-.94-2.06-.94-.94-2.06-.94 2.06-2.06.94zm-11 1L8.5 8.5l.94-2.06 2.06-.94-2.06-.94L8.5 2.5l-.94 2.06-2.06.94zm10 10l.94 2.06.94-2.06 2.06-.94-2.06-.94-.94-2.06-.94 2.06-2.06.94z\"/><path d=\"M17.41 7.96l-1.37-1.37c-.4-.4-.92-.59-1.43-.59-.52 0-1.04.2-1.43.59L10.3 9.45l-7.72 7.72c-.78.78-.78 2.05 0 2.83L4 21.41c.39.39.9.59 1.41.59.51 0 1.02-.2 1.41-.59l7.78-7.78 2.81-2.81c.8-.78.8-2.07 0-2.86zM5.41 20L4 18.59l7.72-7.72 1.47 1.35L5.41 20z\"/>\n",
              "  </svg>\n",
              "      </button>\n",
              "      \n",
              "  <style>\n",
              "    .colab-df-container {\n",
              "      display:flex;\n",
              "      flex-wrap:wrap;\n",
              "      gap: 12px;\n",
              "    }\n",
              "\n",
              "    .colab-df-convert {\n",
              "      background-color: #E8F0FE;\n",
              "      border: none;\n",
              "      border-radius: 50%;\n",
              "      cursor: pointer;\n",
              "      display: none;\n",
              "      fill: #1967D2;\n",
              "      height: 32px;\n",
              "      padding: 0 0 0 0;\n",
              "      width: 32px;\n",
              "    }\n",
              "\n",
              "    .colab-df-convert:hover {\n",
              "      background-color: #E2EBFA;\n",
              "      box-shadow: 0px 1px 2px rgba(60, 64, 67, 0.3), 0px 1px 3px 1px rgba(60, 64, 67, 0.15);\n",
              "      fill: #174EA6;\n",
              "    }\n",
              "\n",
              "    [theme=dark] .colab-df-convert {\n",
              "      background-color: #3B4455;\n",
              "      fill: #D2E3FC;\n",
              "    }\n",
              "\n",
              "    [theme=dark] .colab-df-convert:hover {\n",
              "      background-color: #434B5C;\n",
              "      box-shadow: 0px 1px 3px 1px rgba(0, 0, 0, 0.15);\n",
              "      filter: drop-shadow(0px 1px 2px rgba(0, 0, 0, 0.3));\n",
              "      fill: #FFFFFF;\n",
              "    }\n",
              "  </style>\n",
              "\n",
              "      <script>\n",
              "        const buttonEl =\n",
              "          document.querySelector('#df-969b777e-5c4c-4ada-9084-2063bcae389b button.colab-df-convert');\n",
              "        buttonEl.style.display =\n",
              "          google.colab.kernel.accessAllowed ? 'block' : 'none';\n",
              "\n",
              "        async function convertToInteractive(key) {\n",
              "          const element = document.querySelector('#df-969b777e-5c4c-4ada-9084-2063bcae389b');\n",
              "          const dataTable =\n",
              "            await google.colab.kernel.invokeFunction('convertToInteractive',\n",
              "                                                     [key], {});\n",
              "          if (!dataTable) return;\n",
              "\n",
              "          const docLinkHtml = 'Like what you see? Visit the ' +\n",
              "            '<a target=\"_blank\" href=https://colab.research.google.com/notebooks/data_table.ipynb>data table notebook</a>'\n",
              "            + ' to learn more about interactive tables.';\n",
              "          element.innerHTML = '';\n",
              "          dataTable['output_type'] = 'display_data';\n",
              "          await google.colab.output.renderOutput(dataTable, element);\n",
              "          const docLink = document.createElement('div');\n",
              "          docLink.innerHTML = docLinkHtml;\n",
              "          element.appendChild(docLink);\n",
              "        }\n",
              "      </script>\n",
              "    </div>\n",
              "  </div>\n",
              "  "
            ],
            "text/plain": [
              "                                                 source  \\\n",
              "7510  2008_Summer_Olympics_torch_relay2008_Summer_Ol...   \n",
              "7509  2008_Summer_Olympics_torch_relay2008_Summer_Ol...   \n",
              "7508  2008_Summer_Olympics_torch_relay2008_Summer_Ol...   \n",
              "7507  2008_Summer_Olympics_torch_relay2008_Summer_Ol...   \n",
              "7506  2008_Summer_Olympics_torch_relay2008_Summer_Ol...   \n",
              "...                                                 ...   \n",
              "6641                                      middle880.txt   \n",
              "6640                                      middle880.txt   \n",
              "6639                                      middle880.txt   \n",
              "6638                                      middle880.txt   \n",
              "6635                                      middle880.txt   \n",
              "\n",
              "                                               question  \\\n",
              "7510          Did they visit any ancient Chinese sites?   \n",
              "7509                  And did they climb any mountains?   \n",
              "7508              Did they visit any notable landmarks?   \n",
              "7507                        How many days was the race?   \n",
              "7506                           Where did they go after?   \n",
              "...                                                 ...   \n",
              "6641   Who suggested making the spot easy to return to?   \n",
              "6640                                          How come?   \n",
              "6639  Was the spot they found a good spot to cast th...   \n",
              "6638  Did they search all day for a good spot to no ...   \n",
              "6635                            What did they do there?   \n",
              "\n",
              "                         answer               prediction  squad_f1  \n",
              "7510                  Silk Road                      yes       0.0  \n",
              "7509                    unknown                      yes       0.0  \n",
              "7508       Panathinaiko Stadium                      yes       0.0  \n",
              "7507                      seven              three years       0.0  \n",
              "7506                     Athens  in the Beijing Olympics       0.0  \n",
              "...                         ...                      ...       ...  \n",
              "6641                      Bruce                    Tommy       0.0  \n",
              "6640  there were a lot of fish.       to go to the beach       0.0  \n",
              "6639                        Yes                       no       0.0  \n",
              "6638                        No.                      yes       0.0  \n",
              "6635                     Fished              took a boat       0.0  \n",
              "\n",
              "[2495 rows x 5 columns]"
            ]
          },
          "execution_count": 29,
          "metadata": {},
          "output_type": "execute_result"
        }
      ],
      "source": [
        "get_top_k_errors_per_source(test_data_m1, m1_pred)"
      ]
    },
    {
      "cell_type": "code",
      "execution_count": 31,
      "metadata": {
        "colab": {
          "base_uri": "https://localhost:8080/"
        },
        "id": "dWw5Gz_AhYxR",
        "outputId": "03ff5ab2-c061-47be-d5db-694a086fbe1c"
      },
      "outputs": [
        {
          "name": "stderr",
          "output_type": "stream",
          "text": [
            "100%|██████████| 250/250 [03:09<00:00,  1.32it/s]\n"
          ]
        }
      ],
      "source": [
        "_, m2_pred = m2.evaluate(test_data_m2, batch_size=batch_size)"
      ]
    },
    {
      "cell_type": "code",
      "execution_count": 32,
      "metadata": {
        "colab": {
          "base_uri": "https://localhost:8080/",
          "height": 423
        },
        "id": "l5c9AtgahYxR",
        "outputId": "946250d6-5cb6-4f65-e20c-2e26cc4a6a19"
      },
      "outputs": [
        {
          "data": {
            "text/html": [
              "\n",
              "  <div id=\"df-e82823dd-677f-4e91-a2a0-72e295ee6dba\">\n",
              "    <div class=\"colab-df-container\">\n",
              "      <div>\n",
              "<style scoped>\n",
              "    .dataframe tbody tr th:only-of-type {\n",
              "        vertical-align: middle;\n",
              "    }\n",
              "\n",
              "    .dataframe tbody tr th {\n",
              "        vertical-align: top;\n",
              "    }\n",
              "\n",
              "    .dataframe thead th {\n",
              "        text-align: right;\n",
              "    }\n",
              "</style>\n",
              "<table border=\"1\" class=\"dataframe\">\n",
              "  <thead>\n",
              "    <tr style=\"text-align: right;\">\n",
              "      <th></th>\n",
              "      <th>source</th>\n",
              "      <th>question</th>\n",
              "      <th>answer</th>\n",
              "      <th>prediction</th>\n",
              "      <th>squad_f1</th>\n",
              "    </tr>\n",
              "  </thead>\n",
              "  <tbody>\n",
              "    <tr>\n",
              "      <th>7510</th>\n",
              "      <td>2008_Summer_Olympics_torch_relay2008_Summer_Ol...</td>\n",
              "      <td>Did they visit any ancient Chinese sites?</td>\n",
              "      <td>Silk Road</td>\n",
              "      <td>yes</td>\n",
              "      <td>0.0</td>\n",
              "    </tr>\n",
              "    <tr>\n",
              "      <th>7509</th>\n",
              "      <td>2008_Summer_Olympics_torch_relay2008_Summer_Ol...</td>\n",
              "      <td>And did they climb any mountains?</td>\n",
              "      <td>unknown</td>\n",
              "      <td>the journey of harmony</td>\n",
              "      <td>0.0</td>\n",
              "    </tr>\n",
              "    <tr>\n",
              "      <th>7508</th>\n",
              "      <td>2008_Summer_Olympics_torch_relay2008_Summer_Ol...</td>\n",
              "      <td>Did they visit any notable landmarks?</td>\n",
              "      <td>Panathinaiko Stadium</td>\n",
              "      <td>yes</td>\n",
              "      <td>0.0</td>\n",
              "    </tr>\n",
              "    <tr>\n",
              "      <th>7507</th>\n",
              "      <td>2008_Summer_Olympics_torch_relay2008_Summer_Ol...</td>\n",
              "      <td>How many days was the race?</td>\n",
              "      <td>seven</td>\n",
              "      <td>two</td>\n",
              "      <td>0.0</td>\n",
              "    </tr>\n",
              "    <tr>\n",
              "      <th>7506</th>\n",
              "      <td>2008_Summer_Olympics_torch_relay2008_Summer_Ol...</td>\n",
              "      <td>Where did they go after?</td>\n",
              "      <td>Athens</td>\n",
              "      <td>beijing</td>\n",
              "      <td>0.0</td>\n",
              "    </tr>\n",
              "    <tr>\n",
              "      <th>...</th>\n",
              "      <td>...</td>\n",
              "      <td>...</td>\n",
              "      <td>...</td>\n",
              "      <td>...</td>\n",
              "      <td>...</td>\n",
              "    </tr>\n",
              "    <tr>\n",
              "      <th>6632</th>\n",
              "      <td>middle880.txt</td>\n",
              "      <td>Where did they live?</td>\n",
              "      <td>England.</td>\n",
              "      <td>in the lake</td>\n",
              "      <td>0.0</td>\n",
              "    </tr>\n",
              "    <tr>\n",
              "      <th>6631</th>\n",
              "      <td>middle880.txt</td>\n",
              "      <td>How many friends were there?</td>\n",
              "      <td>Three</td>\n",
              "      <td>two</td>\n",
              "      <td>0.0</td>\n",
              "    </tr>\n",
              "    <tr>\n",
              "      <th>6633</th>\n",
              "      <td>middle880.txt</td>\n",
              "      <td>Did they all live in different cities there?</td>\n",
              "      <td>No</td>\n",
              "      <td>yes</td>\n",
              "      <td>0.0</td>\n",
              "    </tr>\n",
              "    <tr>\n",
              "      <th>6635</th>\n",
              "      <td>middle880.txt</td>\n",
              "      <td>What did they do there?</td>\n",
              "      <td>Fished</td>\n",
              "      <td>go to the lake</td>\n",
              "      <td>0.0</td>\n",
              "    </tr>\n",
              "    <tr>\n",
              "      <th>6636</th>\n",
              "      <td>middle880.txt</td>\n",
              "      <td>From the shore?</td>\n",
              "      <td>No</td>\n",
              "      <td>the lake</td>\n",
              "      <td>0.0</td>\n",
              "    </tr>\n",
              "  </tbody>\n",
              "</table>\n",
              "<p>2495 rows × 5 columns</p>\n",
              "</div>\n",
              "      <button class=\"colab-df-convert\" onclick=\"convertToInteractive('df-e82823dd-677f-4e91-a2a0-72e295ee6dba')\"\n",
              "              title=\"Convert this dataframe to an interactive table.\"\n",
              "              style=\"display:none;\">\n",
              "        \n",
              "  <svg xmlns=\"http://www.w3.org/2000/svg\" height=\"24px\"viewBox=\"0 0 24 24\"\n",
              "       width=\"24px\">\n",
              "    <path d=\"M0 0h24v24H0V0z\" fill=\"none\"/>\n",
              "    <path d=\"M18.56 5.44l.94 2.06.94-2.06 2.06-.94-2.06-.94-.94-2.06-.94 2.06-2.06.94zm-11 1L8.5 8.5l.94-2.06 2.06-.94-2.06-.94L8.5 2.5l-.94 2.06-2.06.94zm10 10l.94 2.06.94-2.06 2.06-.94-2.06-.94-.94-2.06-.94 2.06-2.06.94z\"/><path d=\"M17.41 7.96l-1.37-1.37c-.4-.4-.92-.59-1.43-.59-.52 0-1.04.2-1.43.59L10.3 9.45l-7.72 7.72c-.78.78-.78 2.05 0 2.83L4 21.41c.39.39.9.59 1.41.59.51 0 1.02-.2 1.41-.59l7.78-7.78 2.81-2.81c.8-.78.8-2.07 0-2.86zM5.41 20L4 18.59l7.72-7.72 1.47 1.35L5.41 20z\"/>\n",
              "  </svg>\n",
              "      </button>\n",
              "      \n",
              "  <style>\n",
              "    .colab-df-container {\n",
              "      display:flex;\n",
              "      flex-wrap:wrap;\n",
              "      gap: 12px;\n",
              "    }\n",
              "\n",
              "    .colab-df-convert {\n",
              "      background-color: #E8F0FE;\n",
              "      border: none;\n",
              "      border-radius: 50%;\n",
              "      cursor: pointer;\n",
              "      display: none;\n",
              "      fill: #1967D2;\n",
              "      height: 32px;\n",
              "      padding: 0 0 0 0;\n",
              "      width: 32px;\n",
              "    }\n",
              "\n",
              "    .colab-df-convert:hover {\n",
              "      background-color: #E2EBFA;\n",
              "      box-shadow: 0px 1px 2px rgba(60, 64, 67, 0.3), 0px 1px 3px 1px rgba(60, 64, 67, 0.15);\n",
              "      fill: #174EA6;\n",
              "    }\n",
              "\n",
              "    [theme=dark] .colab-df-convert {\n",
              "      background-color: #3B4455;\n",
              "      fill: #D2E3FC;\n",
              "    }\n",
              "\n",
              "    [theme=dark] .colab-df-convert:hover {\n",
              "      background-color: #434B5C;\n",
              "      box-shadow: 0px 1px 3px 1px rgba(0, 0, 0, 0.15);\n",
              "      filter: drop-shadow(0px 1px 2px rgba(0, 0, 0, 0.3));\n",
              "      fill: #FFFFFF;\n",
              "    }\n",
              "  </style>\n",
              "\n",
              "      <script>\n",
              "        const buttonEl =\n",
              "          document.querySelector('#df-e82823dd-677f-4e91-a2a0-72e295ee6dba button.colab-df-convert');\n",
              "        buttonEl.style.display =\n",
              "          google.colab.kernel.accessAllowed ? 'block' : 'none';\n",
              "\n",
              "        async function convertToInteractive(key) {\n",
              "          const element = document.querySelector('#df-e82823dd-677f-4e91-a2a0-72e295ee6dba');\n",
              "          const dataTable =\n",
              "            await google.colab.kernel.invokeFunction('convertToInteractive',\n",
              "                                                     [key], {});\n",
              "          if (!dataTable) return;\n",
              "\n",
              "          const docLinkHtml = 'Like what you see? Visit the ' +\n",
              "            '<a target=\"_blank\" href=https://colab.research.google.com/notebooks/data_table.ipynb>data table notebook</a>'\n",
              "            + ' to learn more about interactive tables.';\n",
              "          element.innerHTML = '';\n",
              "          dataTable['output_type'] = 'display_data';\n",
              "          await google.colab.output.renderOutput(dataTable, element);\n",
              "          const docLink = document.createElement('div');\n",
              "          docLink.innerHTML = docLinkHtml;\n",
              "          element.appendChild(docLink);\n",
              "        }\n",
              "      </script>\n",
              "    </div>\n",
              "  </div>\n",
              "  "
            ],
            "text/plain": [
              "                                                 source  \\\n",
              "7510  2008_Summer_Olympics_torch_relay2008_Summer_Ol...   \n",
              "7509  2008_Summer_Olympics_torch_relay2008_Summer_Ol...   \n",
              "7508  2008_Summer_Olympics_torch_relay2008_Summer_Ol...   \n",
              "7507  2008_Summer_Olympics_torch_relay2008_Summer_Ol...   \n",
              "7506  2008_Summer_Olympics_torch_relay2008_Summer_Ol...   \n",
              "...                                                 ...   \n",
              "6632                                      middle880.txt   \n",
              "6631                                      middle880.txt   \n",
              "6633                                      middle880.txt   \n",
              "6635                                      middle880.txt   \n",
              "6636                                      middle880.txt   \n",
              "\n",
              "                                          question                answer  \\\n",
              "7510     Did they visit any ancient Chinese sites?             Silk Road   \n",
              "7509             And did they climb any mountains?               unknown   \n",
              "7508         Did they visit any notable landmarks?  Panathinaiko Stadium   \n",
              "7507                   How many days was the race?                 seven   \n",
              "7506                      Where did they go after?                Athens   \n",
              "...                                            ...                   ...   \n",
              "6632                          Where did they live?              England.   \n",
              "6631                  How many friends were there?                 Three   \n",
              "6633  Did they all live in different cities there?                    No   \n",
              "6635                       What did they do there?                Fished   \n",
              "6636                               From the shore?                    No   \n",
              "\n",
              "                  prediction  squad_f1  \n",
              "7510                     yes       0.0  \n",
              "7509  the journey of harmony       0.0  \n",
              "7508                     yes       0.0  \n",
              "7507                     two       0.0  \n",
              "7506                 beijing       0.0  \n",
              "...                      ...       ...  \n",
              "6632             in the lake       0.0  \n",
              "6631                     two       0.0  \n",
              "6633                     yes       0.0  \n",
              "6635          go to the lake       0.0  \n",
              "6636                the lake       0.0  \n",
              "\n",
              "[2495 rows x 5 columns]"
            ]
          },
          "execution_count": 32,
          "metadata": {},
          "output_type": "execute_result"
        }
      ],
      "source": [
        "get_top_k_errors_per_source(test_data_m2, m2_pred)"
      ]
    },
    {
      "cell_type": "markdown",
      "metadata": {
        "id": "dWAcxkH0hYxR"
      },
      "source": [
        "### Sample predictions"
      ]
    },
    {
      "cell_type": "markdown",
      "metadata": {
        "id": "NnEaWCZqhYxR"
      },
      "source": [
        "In this section a utility script is defined to look at the model performance on a per-question basis."
      ]
    },
    {
      "cell_type": "code",
      "execution_count": null,
      "metadata": {
        "id": "lmxXd4aogR1I"
      },
      "outputs": [],
      "source": [
        "def sample_predict(model, sample, df, include_history=False):\n",
        "\n",
        "    question = df.iloc[sample].question\n",
        "    context = df.iloc[sample].context\n",
        "    answer = df.iloc[sample].answer\n",
        "    if include_history:\n",
        "        history = df.iloc[sample].history\n",
        "\n",
        "    data = Dataset.from_pandas(pd.DataFrame(df.iloc[sample]).T)\n",
        "\n",
        "    print(f\"Context: {context}\")\n",
        "    if include_history:\n",
        "        print(f\"\\nHistory: {history}\")\n",
        "    print(f\"\\n\\nQuestion: {question}\")\n",
        "    print(f\"Answer: {answer}\")\n",
        "\n",
        "    pred = model.predict(data, mode='beam', include_history=include_history)\n",
        "    \n",
        "    print(f\"Predicted answer: {pred[0]}\")\n",
        "    print(f\"F1-score {squad.compute_f1(pred[0], answer)}\")\n"
      ]
    },
    {
      "cell_type": "code",
      "execution_count": null,
      "metadata": {
        "id": "VW1mzvPZhYxS",
        "outputId": "a7774bda-b6b7-4d72-866e-0bcdd2af9dc7"
      },
      "outputs": [
        {
          "name": "stdout",
          "output_type": "stream",
          "text": [
            "Context: Johnny and his class were looking forward to a fun day in art class. The teacher gave the class paint, brushes and other items to use to make their drawings. Johnny's friend Kevin used a straw to blow paint on his paper. It looked very cool. Lisa used markers to make a picture of her and her dog. Lisa has several pets, but her favorite one is her dog, Ben. Tony used a potato to make stars. He then put the potato into different colors of paint and made a nice pattern. Johnny used feathers to make his picture. When they had finished, the class chose which picture was the best. Johnny got second place and was very excited. Then it was time for lunch and the class had a party. They had hamburgers with ketchup and had cake for dessert. It was a very fun day for the whole class. They all went home tired and happy. Johnny took a nap when he went home.\n",
            "\n",
            "\n",
            "Question: What was eaten?\n",
            "Answer: hamburgers with ketchup and  cake\n",
            "Predicted answer: strawberries\n",
            "F1-score 0.0\n"
          ]
        }
      ],
      "source": [
        "sample_predict(model, 8, df_train)"
      ]
    },
    {
      "cell_type": "markdown",
      "metadata": {
        "id": "o4Zp02nshYxT"
      },
      "source": [
        "## Conclusions"
      ]
    },
    {
      "cell_type": "markdown",
      "metadata": {
        "id": "kv0mqvenhYxT"
      },
      "source": [
        "It has been possible to implement all the given tasks. The models employing history have been empirically proven to be slightly superior with respect to their non-history variants. While it has been possible to obtain some results, the limit on the number of epochs and the lack of required equipment to train the models have severely limited the possibility to obtain significative results. As a result of this the error analysis did not highlight anything in particular as both models are incapable of answering to most questions and most of the positive results are due to closed yes/no questions.\n",
        "\n",
        "Moreover, the method used to implement history (i.e. concatenating history and context) has proven to be somewhat useful, but it is once again limited by the input length which is in turn limited by the available resources to train the model. A different approach would have required different architectures and/or multiple networks, which was again, not allowed.\n",
        "\n",
        "Overall distilroberta-base performed only slightly better compared to bert-tiny (w.r.t squad-f1) while using many more parameters, resources."
      ]
    }
  ],
  "metadata": {
    "accelerator": "GPU",
    "colab": {
      "provenance": []
    },
    "gpuClass": "premium",
    "kernelspec": {
      "display_name": "nlp-ass2",
      "language": "python",
      "name": "python3"
    },
    "language_info": {
      "codemirror_mode": {
        "name": "ipython",
        "version": 3
      },
      "file_extension": ".py",
      "mimetype": "text/x-python",
      "name": "python",
      "nbconvert_exporter": "python",
      "pygments_lexer": "ipython3",
      "version": "3.7.15 (default, Nov 24 2022, 18:44:54) [MSC v.1916 64 bit (AMD64)]"
    },
    "orig_nbformat": 4,
    "vscode": {
      "interpreter": {
        "hash": "24e95ac57877278af98ef272b5e1935138ac89e63086537b11440ff4559840a9"
      }
    },
    "widgets": {
      "application/vnd.jupyter.widget-state+json": {
        "021b175ff3b0476c95105ed33764450f": {
          "model_module": "@jupyter-widgets/controls",
          "model_module_version": "1.5.0",
          "model_name": "HTMLModel",
          "state": {
            "_dom_classes": [],
            "_model_module": "@jupyter-widgets/controls",
            "_model_module_version": "1.5.0",
            "_model_name": "HTMLModel",
            "_view_count": null,
            "_view_module": "@jupyter-widgets/controls",
            "_view_module_version": "1.5.0",
            "_view_name": "HTMLView",
            "description": "",
            "description_tooltip": null,
            "layout": "IPY_MODEL_9b37ec4586644401b59495fdc9fc13f6",
            "placeholder": "​",
            "style": "IPY_MODEL_d43b476114384e32866af6e156a51787",
            "value": " 16/16 [00:03&lt;00:00,  4.50ba/s]"
          }
        },
        "028ecff7a4f245039b4682093086bcea": {
          "model_module": "@jupyter-widgets/base",
          "model_module_version": "1.2.0",
          "model_name": "LayoutModel",
          "state": {
            "_model_module": "@jupyter-widgets/base",
            "_model_module_version": "1.2.0",
            "_model_name": "LayoutModel",
            "_view_count": null,
            "_view_module": "@jupyter-widgets/base",
            "_view_module_version": "1.2.0",
            "_view_name": "LayoutView",
            "align_content": null,
            "align_items": null,
            "align_self": null,
            "border": null,
            "bottom": null,
            "display": null,
            "flex": null,
            "flex_flow": null,
            "grid_area": null,
            "grid_auto_columns": null,
            "grid_auto_flow": null,
            "grid_auto_rows": null,
            "grid_column": null,
            "grid_gap": null,
            "grid_row": null,
            "grid_template_areas": null,
            "grid_template_columns": null,
            "grid_template_rows": null,
            "height": null,
            "justify_content": null,
            "justify_items": null,
            "left": null,
            "margin": null,
            "max_height": null,
            "max_width": null,
            "min_height": null,
            "min_width": null,
            "object_fit": null,
            "object_position": null,
            "order": null,
            "overflow": null,
            "overflow_x": null,
            "overflow_y": null,
            "padding": null,
            "right": null,
            "top": null,
            "visibility": null,
            "width": null
          }
        },
        "0500786c9b3b4b9697e724789fc102e3": {
          "model_module": "@jupyter-widgets/base",
          "model_module_version": "1.2.0",
          "model_name": "LayoutModel",
          "state": {
            "_model_module": "@jupyter-widgets/base",
            "_model_module_version": "1.2.0",
            "_model_name": "LayoutModel",
            "_view_count": null,
            "_view_module": "@jupyter-widgets/base",
            "_view_module_version": "1.2.0",
            "_view_name": "LayoutView",
            "align_content": null,
            "align_items": null,
            "align_self": null,
            "border": null,
            "bottom": null,
            "display": null,
            "flex": null,
            "flex_flow": null,
            "grid_area": null,
            "grid_auto_columns": null,
            "grid_auto_flow": null,
            "grid_auto_rows": null,
            "grid_column": null,
            "grid_gap": null,
            "grid_row": null,
            "grid_template_areas": null,
            "grid_template_columns": null,
            "grid_template_rows": null,
            "height": null,
            "justify_content": null,
            "justify_items": null,
            "left": null,
            "margin": null,
            "max_height": null,
            "max_width": null,
            "min_height": null,
            "min_width": null,
            "object_fit": null,
            "object_position": null,
            "order": null,
            "overflow": null,
            "overflow_x": null,
            "overflow_y": null,
            "padding": null,
            "right": null,
            "top": null,
            "visibility": null,
            "width": null
          }
        },
        "0acb6f85670644aa8c05003b80216469": {
          "model_module": "@jupyter-widgets/base",
          "model_module_version": "1.2.0",
          "model_name": "LayoutModel",
          "state": {
            "_model_module": "@jupyter-widgets/base",
            "_model_module_version": "1.2.0",
            "_model_name": "LayoutModel",
            "_view_count": null,
            "_view_module": "@jupyter-widgets/base",
            "_view_module_version": "1.2.0",
            "_view_name": "LayoutView",
            "align_content": null,
            "align_items": null,
            "align_self": null,
            "border": null,
            "bottom": null,
            "display": null,
            "flex": null,
            "flex_flow": null,
            "grid_area": null,
            "grid_auto_columns": null,
            "grid_auto_flow": null,
            "grid_auto_rows": null,
            "grid_column": null,
            "grid_gap": null,
            "grid_row": null,
            "grid_template_areas": null,
            "grid_template_columns": null,
            "grid_template_rows": null,
            "height": null,
            "justify_content": null,
            "justify_items": null,
            "left": null,
            "margin": null,
            "max_height": null,
            "max_width": null,
            "min_height": null,
            "min_width": null,
            "object_fit": null,
            "object_position": null,
            "order": null,
            "overflow": null,
            "overflow_x": null,
            "overflow_y": null,
            "padding": null,
            "right": null,
            "top": null,
            "visibility": null,
            "width": null
          }
        },
        "0f0b11d3afc6411cb00b7773b3f53a5d": {
          "model_module": "@jupyter-widgets/controls",
          "model_module_version": "1.5.0",
          "model_name": "HTMLModel",
          "state": {
            "_dom_classes": [],
            "_model_module": "@jupyter-widgets/controls",
            "_model_module_version": "1.5.0",
            "_model_name": "HTMLModel",
            "_view_count": null,
            "_view_module": "@jupyter-widgets/controls",
            "_view_module_version": "1.5.0",
            "_view_name": "HTMLView",
            "description": "",
            "description_tooltip": null,
            "layout": "IPY_MODEL_763e5bfd83a64b2a9ac71c3472236c49",
            "placeholder": "​",
            "style": "IPY_MODEL_2221c3177588423bb4ca96a2789bfb56",
            "value": "Downloading: 100%"
          }
        },
        "10e40140dd1c4295bb316f916e7339ec": {
          "model_module": "@jupyter-widgets/controls",
          "model_module_version": "1.5.0",
          "model_name": "ProgressStyleModel",
          "state": {
            "_model_module": "@jupyter-widgets/controls",
            "_model_module_version": "1.5.0",
            "_model_name": "ProgressStyleModel",
            "_view_count": null,
            "_view_module": "@jupyter-widgets/base",
            "_view_module_version": "1.2.0",
            "_view_name": "StyleView",
            "bar_color": null,
            "description_width": ""
          }
        },
        "10f779898d3a4bee85cab08e507ac1ed": {
          "model_module": "@jupyter-widgets/controls",
          "model_module_version": "1.5.0",
          "model_name": "HBoxModel",
          "state": {
            "_dom_classes": [],
            "_model_module": "@jupyter-widgets/controls",
            "_model_module_version": "1.5.0",
            "_model_name": "HBoxModel",
            "_view_count": null,
            "_view_module": "@jupyter-widgets/controls",
            "_view_module_version": "1.5.0",
            "_view_name": "HBoxView",
            "box_style": "",
            "children": [
              "IPY_MODEL_d224364d66424b2e8889a5ec98ee9df6",
              "IPY_MODEL_7c4bb89c51944c8b840d89dac50ff634",
              "IPY_MODEL_4408a5a66c99494986ba78fddfd19789"
            ],
            "layout": "IPY_MODEL_83b4710a9e394fecba072d3274e29d9b"
          }
        },
        "12c40e543c894e29b56b5a3cc33a7989": {
          "model_module": "@jupyter-widgets/controls",
          "model_module_version": "1.5.0",
          "model_name": "DescriptionStyleModel",
          "state": {
            "_model_module": "@jupyter-widgets/controls",
            "_model_module_version": "1.5.0",
            "_model_name": "DescriptionStyleModel",
            "_view_count": null,
            "_view_module": "@jupyter-widgets/base",
            "_view_module_version": "1.2.0",
            "_view_name": "StyleView",
            "description_width": ""
          }
        },
        "135fe7cfcb6f41d4806b348e9ea3bc52": {
          "model_module": "@jupyter-widgets/controls",
          "model_module_version": "1.5.0",
          "model_name": "DescriptionStyleModel",
          "state": {
            "_model_module": "@jupyter-widgets/controls",
            "_model_module_version": "1.5.0",
            "_model_name": "DescriptionStyleModel",
            "_view_count": null,
            "_view_module": "@jupyter-widgets/base",
            "_view_module_version": "1.2.0",
            "_view_name": "StyleView",
            "description_width": ""
          }
        },
        "14e434e798a541ad92594652628430ca": {
          "model_module": "@jupyter-widgets/controls",
          "model_module_version": "1.5.0",
          "model_name": "DescriptionStyleModel",
          "state": {
            "_model_module": "@jupyter-widgets/controls",
            "_model_module_version": "1.5.0",
            "_model_name": "DescriptionStyleModel",
            "_view_count": null,
            "_view_module": "@jupyter-widgets/base",
            "_view_module_version": "1.2.0",
            "_view_name": "StyleView",
            "description_width": ""
          }
        },
        "15ecf44cc0b542648aa78a24ddba47da": {
          "model_module": "@jupyter-widgets/controls",
          "model_module_version": "1.5.0",
          "model_name": "FloatProgressModel",
          "state": {
            "_dom_classes": [],
            "_model_module": "@jupyter-widgets/controls",
            "_model_module_version": "1.5.0",
            "_model_name": "FloatProgressModel",
            "_view_count": null,
            "_view_module": "@jupyter-widgets/controls",
            "_view_module_version": "1.5.0",
            "_view_name": "ProgressView",
            "bar_style": "success",
            "description": "",
            "description_tooltip": null,
            "layout": "IPY_MODEL_b8faa2acf54c4a95ac46bad2d082052d",
            "max": 456318,
            "min": 0,
            "orientation": "horizontal",
            "style": "IPY_MODEL_a78407d1d3f64170990903d5eacb73af",
            "value": 456318
          }
        },
        "187f761ebcb54cdeae4b04ac90adbd7c": {
          "model_module": "@jupyter-widgets/base",
          "model_module_version": "1.2.0",
          "model_name": "LayoutModel",
          "state": {
            "_model_module": "@jupyter-widgets/base",
            "_model_module_version": "1.2.0",
            "_model_name": "LayoutModel",
            "_view_count": null,
            "_view_module": "@jupyter-widgets/base",
            "_view_module_version": "1.2.0",
            "_view_name": "LayoutView",
            "align_content": null,
            "align_items": null,
            "align_self": null,
            "border": null,
            "bottom": null,
            "display": null,
            "flex": null,
            "flex_flow": null,
            "grid_area": null,
            "grid_auto_columns": null,
            "grid_auto_flow": null,
            "grid_auto_rows": null,
            "grid_column": null,
            "grid_gap": null,
            "grid_row": null,
            "grid_template_areas": null,
            "grid_template_columns": null,
            "grid_template_rows": null,
            "height": null,
            "justify_content": null,
            "justify_items": null,
            "left": null,
            "margin": null,
            "max_height": null,
            "max_width": null,
            "min_height": null,
            "min_width": null,
            "object_fit": null,
            "object_position": null,
            "order": null,
            "overflow": null,
            "overflow_x": null,
            "overflow_y": null,
            "padding": null,
            "right": null,
            "top": null,
            "visibility": null,
            "width": null
          }
        },
        "1921a77813c845d7834ac25e92c7dea4": {
          "model_module": "@jupyter-widgets/controls",
          "model_module_version": "1.5.0",
          "model_name": "DescriptionStyleModel",
          "state": {
            "_model_module": "@jupyter-widgets/controls",
            "_model_module_version": "1.5.0",
            "_model_name": "DescriptionStyleModel",
            "_view_count": null,
            "_view_module": "@jupyter-widgets/base",
            "_view_module_version": "1.2.0",
            "_view_name": "StyleView",
            "description_width": ""
          }
        },
        "197681965f844f7dbbbc1b06412cf20f": {
          "model_module": "@jupyter-widgets/base",
          "model_module_version": "1.2.0",
          "model_name": "LayoutModel",
          "state": {
            "_model_module": "@jupyter-widgets/base",
            "_model_module_version": "1.2.0",
            "_model_name": "LayoutModel",
            "_view_count": null,
            "_view_module": "@jupyter-widgets/base",
            "_view_module_version": "1.2.0",
            "_view_name": "LayoutView",
            "align_content": null,
            "align_items": null,
            "align_self": null,
            "border": null,
            "bottom": null,
            "display": null,
            "flex": null,
            "flex_flow": null,
            "grid_area": null,
            "grid_auto_columns": null,
            "grid_auto_flow": null,
            "grid_auto_rows": null,
            "grid_column": null,
            "grid_gap": null,
            "grid_row": null,
            "grid_template_areas": null,
            "grid_template_columns": null,
            "grid_template_rows": null,
            "height": null,
            "justify_content": null,
            "justify_items": null,
            "left": null,
            "margin": null,
            "max_height": null,
            "max_width": null,
            "min_height": null,
            "min_width": null,
            "object_fit": null,
            "object_position": null,
            "order": null,
            "overflow": null,
            "overflow_x": null,
            "overflow_y": null,
            "padding": null,
            "right": null,
            "top": null,
            "visibility": null,
            "width": null
          }
        },
        "1a16d16842964af2a79c7d3960384987": {
          "model_module": "@jupyter-widgets/base",
          "model_module_version": "1.2.0",
          "model_name": "LayoutModel",
          "state": {
            "_model_module": "@jupyter-widgets/base",
            "_model_module_version": "1.2.0",
            "_model_name": "LayoutModel",
            "_view_count": null,
            "_view_module": "@jupyter-widgets/base",
            "_view_module_version": "1.2.0",
            "_view_name": "LayoutView",
            "align_content": null,
            "align_items": null,
            "align_self": null,
            "border": null,
            "bottom": null,
            "display": null,
            "flex": null,
            "flex_flow": null,
            "grid_area": null,
            "grid_auto_columns": null,
            "grid_auto_flow": null,
            "grid_auto_rows": null,
            "grid_column": null,
            "grid_gap": null,
            "grid_row": null,
            "grid_template_areas": null,
            "grid_template_columns": null,
            "grid_template_rows": null,
            "height": null,
            "justify_content": null,
            "justify_items": null,
            "left": null,
            "margin": null,
            "max_height": null,
            "max_width": null,
            "min_height": null,
            "min_width": null,
            "object_fit": null,
            "object_position": null,
            "order": null,
            "overflow": null,
            "overflow_x": null,
            "overflow_y": null,
            "padding": null,
            "right": null,
            "top": null,
            "visibility": null,
            "width": null
          }
        },
        "1ff6d5688c084d6e9f3eea153f47c678": {
          "model_module": "@jupyter-widgets/controls",
          "model_module_version": "1.5.0",
          "model_name": "ProgressStyleModel",
          "state": {
            "_model_module": "@jupyter-widgets/controls",
            "_model_module_version": "1.5.0",
            "_model_name": "ProgressStyleModel",
            "_view_count": null,
            "_view_module": "@jupyter-widgets/base",
            "_view_module_version": "1.2.0",
            "_view_name": "StyleView",
            "bar_color": null,
            "description_width": ""
          }
        },
        "219ea72d9e434af9bfe3ac014e2cd1fc": {
          "model_module": "@jupyter-widgets/controls",
          "model_module_version": "1.5.0",
          "model_name": "ProgressStyleModel",
          "state": {
            "_model_module": "@jupyter-widgets/controls",
            "_model_module_version": "1.5.0",
            "_model_name": "ProgressStyleModel",
            "_view_count": null,
            "_view_module": "@jupyter-widgets/base",
            "_view_module_version": "1.2.0",
            "_view_name": "StyleView",
            "bar_color": null,
            "description_width": ""
          }
        },
        "2221c3177588423bb4ca96a2789bfb56": {
          "model_module": "@jupyter-widgets/controls",
          "model_module_version": "1.5.0",
          "model_name": "DescriptionStyleModel",
          "state": {
            "_model_module": "@jupyter-widgets/controls",
            "_model_module_version": "1.5.0",
            "_model_name": "DescriptionStyleModel",
            "_view_count": null,
            "_view_module": "@jupyter-widgets/base",
            "_view_module_version": "1.2.0",
            "_view_name": "StyleView",
            "description_width": ""
          }
        },
        "239f2d1ebcc247bdbd878332d3788b93": {
          "model_module": "@jupyter-widgets/controls",
          "model_module_version": "1.5.0",
          "model_name": "DescriptionStyleModel",
          "state": {
            "_model_module": "@jupyter-widgets/controls",
            "_model_module_version": "1.5.0",
            "_model_name": "DescriptionStyleModel",
            "_view_count": null,
            "_view_module": "@jupyter-widgets/base",
            "_view_module_version": "1.2.0",
            "_view_name": "StyleView",
            "description_width": ""
          }
        },
        "267f9b6b73d64198ad355ec88830f110": {
          "model_module": "@jupyter-widgets/base",
          "model_module_version": "1.2.0",
          "model_name": "LayoutModel",
          "state": {
            "_model_module": "@jupyter-widgets/base",
            "_model_module_version": "1.2.0",
            "_model_name": "LayoutModel",
            "_view_count": null,
            "_view_module": "@jupyter-widgets/base",
            "_view_module_version": "1.2.0",
            "_view_name": "LayoutView",
            "align_content": null,
            "align_items": null,
            "align_self": null,
            "border": null,
            "bottom": null,
            "display": null,
            "flex": null,
            "flex_flow": null,
            "grid_area": null,
            "grid_auto_columns": null,
            "grid_auto_flow": null,
            "grid_auto_rows": null,
            "grid_column": null,
            "grid_gap": null,
            "grid_row": null,
            "grid_template_areas": null,
            "grid_template_columns": null,
            "grid_template_rows": null,
            "height": null,
            "justify_content": null,
            "justify_items": null,
            "left": null,
            "margin": null,
            "max_height": null,
            "max_width": null,
            "min_height": null,
            "min_width": null,
            "object_fit": null,
            "object_position": null,
            "order": null,
            "overflow": null,
            "overflow_x": null,
            "overflow_y": null,
            "padding": null,
            "right": null,
            "top": null,
            "visibility": null,
            "width": null
          }
        },
        "2910880e7d4240a7bb911b69a7bb434d": {
          "model_module": "@jupyter-widgets/controls",
          "model_module_version": "1.5.0",
          "model_name": "FloatProgressModel",
          "state": {
            "_dom_classes": [],
            "_model_module": "@jupyter-widgets/controls",
            "_model_module_version": "1.5.0",
            "_model_name": "FloatProgressModel",
            "_view_count": null,
            "_view_module": "@jupyter-widgets/controls",
            "_view_module_version": "1.5.0",
            "_view_name": "ProgressView",
            "bar_style": "success",
            "description": "",
            "description_tooltip": null,
            "layout": "IPY_MODEL_9f9743c29fff4262993bf463d370e6e1",
            "max": 898823,
            "min": 0,
            "orientation": "horizontal",
            "style": "IPY_MODEL_c0f004acbbe64606a38151457dabc3f0",
            "value": 898823
          }
        },
        "2a287a23e74b4ce0a913021aecc50af8": {
          "model_module": "@jupyter-widgets/controls",
          "model_module_version": "1.5.0",
          "model_name": "DescriptionStyleModel",
          "state": {
            "_model_module": "@jupyter-widgets/controls",
            "_model_module_version": "1.5.0",
            "_model_name": "DescriptionStyleModel",
            "_view_count": null,
            "_view_module": "@jupyter-widgets/base",
            "_view_module_version": "1.2.0",
            "_view_name": "StyleView",
            "description_width": ""
          }
        },
        "2febf4f451454a3fab63f5878e4c606e": {
          "model_module": "@jupyter-widgets/base",
          "model_module_version": "1.2.0",
          "model_name": "LayoutModel",
          "state": {
            "_model_module": "@jupyter-widgets/base",
            "_model_module_version": "1.2.0",
            "_model_name": "LayoutModel",
            "_view_count": null,
            "_view_module": "@jupyter-widgets/base",
            "_view_module_version": "1.2.0",
            "_view_name": "LayoutView",
            "align_content": null,
            "align_items": null,
            "align_self": null,
            "border": null,
            "bottom": null,
            "display": null,
            "flex": null,
            "flex_flow": null,
            "grid_area": null,
            "grid_auto_columns": null,
            "grid_auto_flow": null,
            "grid_auto_rows": null,
            "grid_column": null,
            "grid_gap": null,
            "grid_row": null,
            "grid_template_areas": null,
            "grid_template_columns": null,
            "grid_template_rows": null,
            "height": null,
            "justify_content": null,
            "justify_items": null,
            "left": null,
            "margin": null,
            "max_height": null,
            "max_width": null,
            "min_height": null,
            "min_width": null,
            "object_fit": null,
            "object_position": null,
            "order": null,
            "overflow": null,
            "overflow_x": null,
            "overflow_y": null,
            "padding": null,
            "right": null,
            "top": null,
            "visibility": null,
            "width": null
          }
        },
        "30477c18d1ab47a9a969250e05644515": {
          "model_module": "@jupyter-widgets/base",
          "model_module_version": "1.2.0",
          "model_name": "LayoutModel",
          "state": {
            "_model_module": "@jupyter-widgets/base",
            "_model_module_version": "1.2.0",
            "_model_name": "LayoutModel",
            "_view_count": null,
            "_view_module": "@jupyter-widgets/base",
            "_view_module_version": "1.2.0",
            "_view_name": "LayoutView",
            "align_content": null,
            "align_items": null,
            "align_self": null,
            "border": null,
            "bottom": null,
            "display": null,
            "flex": null,
            "flex_flow": null,
            "grid_area": null,
            "grid_auto_columns": null,
            "grid_auto_flow": null,
            "grid_auto_rows": null,
            "grid_column": null,
            "grid_gap": null,
            "grid_row": null,
            "grid_template_areas": null,
            "grid_template_columns": null,
            "grid_template_rows": null,
            "height": null,
            "justify_content": null,
            "justify_items": null,
            "left": null,
            "margin": null,
            "max_height": null,
            "max_width": null,
            "min_height": null,
            "min_width": null,
            "object_fit": null,
            "object_position": null,
            "order": null,
            "overflow": null,
            "overflow_x": null,
            "overflow_y": null,
            "padding": null,
            "right": null,
            "top": null,
            "visibility": null,
            "width": null
          }
        },
        "418806a9861c4ba8878d24ed25d8497b": {
          "model_module": "@jupyter-widgets/controls",
          "model_module_version": "1.5.0",
          "model_name": "HTMLModel",
          "state": {
            "_dom_classes": [],
            "_model_module": "@jupyter-widgets/controls",
            "_model_module_version": "1.5.0",
            "_model_name": "HTMLModel",
            "_view_count": null,
            "_view_module": "@jupyter-widgets/controls",
            "_view_module_version": "1.5.0",
            "_view_name": "HTMLView",
            "description": "",
            "description_tooltip": null,
            "layout": "IPY_MODEL_028ecff7a4f245039b4682093086bcea",
            "placeholder": "​",
            "style": "IPY_MODEL_ab3e549f48fe4b49835f13071ce105dc",
            "value": "Downloading: 100%"
          }
        },
        "41f7dd9a88514b79ab1317c81e228284": {
          "model_module": "@jupyter-widgets/base",
          "model_module_version": "1.2.0",
          "model_name": "LayoutModel",
          "state": {
            "_model_module": "@jupyter-widgets/base",
            "_model_module_version": "1.2.0",
            "_model_name": "LayoutModel",
            "_view_count": null,
            "_view_module": "@jupyter-widgets/base",
            "_view_module_version": "1.2.0",
            "_view_name": "LayoutView",
            "align_content": null,
            "align_items": null,
            "align_self": null,
            "border": null,
            "bottom": null,
            "display": null,
            "flex": null,
            "flex_flow": null,
            "grid_area": null,
            "grid_auto_columns": null,
            "grid_auto_flow": null,
            "grid_auto_rows": null,
            "grid_column": null,
            "grid_gap": null,
            "grid_row": null,
            "grid_template_areas": null,
            "grid_template_columns": null,
            "grid_template_rows": null,
            "height": null,
            "justify_content": null,
            "justify_items": null,
            "left": null,
            "margin": null,
            "max_height": null,
            "max_width": null,
            "min_height": null,
            "min_width": null,
            "object_fit": null,
            "object_position": null,
            "order": null,
            "overflow": null,
            "overflow_x": null,
            "overflow_y": null,
            "padding": null,
            "right": null,
            "top": null,
            "visibility": null,
            "width": null
          }
        },
        "43942507d3bd426b8c63d79e71356906": {
          "model_module": "@jupyter-widgets/controls",
          "model_module_version": "1.5.0",
          "model_name": "DescriptionStyleModel",
          "state": {
            "_model_module": "@jupyter-widgets/controls",
            "_model_module_version": "1.5.0",
            "_model_name": "DescriptionStyleModel",
            "_view_count": null,
            "_view_module": "@jupyter-widgets/base",
            "_view_module_version": "1.2.0",
            "_view_name": "StyleView",
            "description_width": ""
          }
        },
        "43efe758e57244a3869195474f713aa8": {
          "model_module": "@jupyter-widgets/controls",
          "model_module_version": "1.5.0",
          "model_name": "HTMLModel",
          "state": {
            "_dom_classes": [],
            "_model_module": "@jupyter-widgets/controls",
            "_model_module_version": "1.5.0",
            "_model_name": "HTMLModel",
            "_view_count": null,
            "_view_module": "@jupyter-widgets/controls",
            "_view_module_version": "1.5.0",
            "_view_name": "HTMLView",
            "description": "",
            "description_tooltip": null,
            "layout": "IPY_MODEL_49aae809ccb84d1a88fc9cfd9e241412",
            "placeholder": "​",
            "style": "IPY_MODEL_135fe7cfcb6f41d4806b348e9ea3bc52",
            "value": " 1.29M/1.29M [00:00&lt;00:00, 4.24MB/s]"
          }
        },
        "4408a5a66c99494986ba78fddfd19789": {
          "model_module": "@jupyter-widgets/controls",
          "model_module_version": "1.5.0",
          "model_name": "HTMLModel",
          "state": {
            "_dom_classes": [],
            "_model_module": "@jupyter-widgets/controls",
            "_model_module_version": "1.5.0",
            "_model_name": "HTMLModel",
            "_view_count": null,
            "_view_module": "@jupyter-widgets/controls",
            "_view_module_version": "1.5.0",
            "_view_name": "HTMLView",
            "description": "",
            "description_tooltip": null,
            "layout": "IPY_MODEL_2febf4f451454a3fab63f5878e4c606e",
            "placeholder": "​",
            "style": "IPY_MODEL_1921a77813c845d7834ac25e92c7dea4",
            "value": " 480/480 [00:00&lt;00:00, 18.6kB/s]"
          }
        },
        "450174dce52e4c0aa6d2ef490c2c9a43": {
          "model_module": "@jupyter-widgets/controls",
          "model_module_version": "1.5.0",
          "model_name": "HTMLModel",
          "state": {
            "_dom_classes": [],
            "_model_module": "@jupyter-widgets/controls",
            "_model_module_version": "1.5.0",
            "_model_name": "HTMLModel",
            "_view_count": null,
            "_view_module": "@jupyter-widgets/controls",
            "_view_module_version": "1.5.0",
            "_view_name": "HTMLView",
            "description": "",
            "description_tooltip": null,
            "layout": "IPY_MODEL_e2c2269b6e864307bcc8eff0bc5e4448",
            "placeholder": "​",
            "style": "IPY_MODEL_14e434e798a541ad92594652628430ca",
            "value": "100%"
          }
        },
        "4568dea9d32649a98fff61231d56341b": {
          "model_module": "@jupyter-widgets/controls",
          "model_module_version": "1.5.0",
          "model_name": "DescriptionStyleModel",
          "state": {
            "_model_module": "@jupyter-widgets/controls",
            "_model_module_version": "1.5.0",
            "_model_name": "DescriptionStyleModel",
            "_view_count": null,
            "_view_module": "@jupyter-widgets/base",
            "_view_module_version": "1.2.0",
            "_view_name": "StyleView",
            "description_width": ""
          }
        },
        "48ae7eb1609145e29455456adbccc7fa": {
          "model_module": "@jupyter-widgets/controls",
          "model_module_version": "1.5.0",
          "model_name": "ProgressStyleModel",
          "state": {
            "_model_module": "@jupyter-widgets/controls",
            "_model_module_version": "1.5.0",
            "_model_name": "ProgressStyleModel",
            "_view_count": null,
            "_view_module": "@jupyter-widgets/base",
            "_view_module_version": "1.2.0",
            "_view_name": "StyleView",
            "bar_color": null,
            "description_width": ""
          }
        },
        "49aae809ccb84d1a88fc9cfd9e241412": {
          "model_module": "@jupyter-widgets/base",
          "model_module_version": "1.2.0",
          "model_name": "LayoutModel",
          "state": {
            "_model_module": "@jupyter-widgets/base",
            "_model_module_version": "1.2.0",
            "_model_name": "LayoutModel",
            "_view_count": null,
            "_view_module": "@jupyter-widgets/base",
            "_view_module_version": "1.2.0",
            "_view_name": "LayoutView",
            "align_content": null,
            "align_items": null,
            "align_self": null,
            "border": null,
            "bottom": null,
            "display": null,
            "flex": null,
            "flex_flow": null,
            "grid_area": null,
            "grid_auto_columns": null,
            "grid_auto_flow": null,
            "grid_auto_rows": null,
            "grid_column": null,
            "grid_gap": null,
            "grid_row": null,
            "grid_template_areas": null,
            "grid_template_columns": null,
            "grid_template_rows": null,
            "height": null,
            "justify_content": null,
            "justify_items": null,
            "left": null,
            "margin": null,
            "max_height": null,
            "max_width": null,
            "min_height": null,
            "min_width": null,
            "object_fit": null,
            "object_position": null,
            "order": null,
            "overflow": null,
            "overflow_x": null,
            "overflow_y": null,
            "padding": null,
            "right": null,
            "top": null,
            "visibility": null,
            "width": null
          }
        },
        "4a611b4ec5864ce69cd3f03afe97e8b8": {
          "model_module": "@jupyter-widgets/base",
          "model_module_version": "1.2.0",
          "model_name": "LayoutModel",
          "state": {
            "_model_module": "@jupyter-widgets/base",
            "_model_module_version": "1.2.0",
            "_model_name": "LayoutModel",
            "_view_count": null,
            "_view_module": "@jupyter-widgets/base",
            "_view_module_version": "1.2.0",
            "_view_name": "LayoutView",
            "align_content": null,
            "align_items": null,
            "align_self": null,
            "border": null,
            "bottom": null,
            "display": null,
            "flex": null,
            "flex_flow": null,
            "grid_area": null,
            "grid_auto_columns": null,
            "grid_auto_flow": null,
            "grid_auto_rows": null,
            "grid_column": null,
            "grid_gap": null,
            "grid_row": null,
            "grid_template_areas": null,
            "grid_template_columns": null,
            "grid_template_rows": null,
            "height": null,
            "justify_content": null,
            "justify_items": null,
            "left": null,
            "margin": null,
            "max_height": null,
            "max_width": null,
            "min_height": null,
            "min_width": null,
            "object_fit": null,
            "object_position": null,
            "order": null,
            "overflow": null,
            "overflow_x": null,
            "overflow_y": null,
            "padding": null,
            "right": null,
            "top": null,
            "visibility": null,
            "width": null
          }
        },
        "4eb560eaa10d492a86e3c581d122bb60": {
          "model_module": "@jupyter-widgets/controls",
          "model_module_version": "1.5.0",
          "model_name": "HBoxModel",
          "state": {
            "_dom_classes": [],
            "_model_module": "@jupyter-widgets/controls",
            "_model_module_version": "1.5.0",
            "_model_name": "HBoxModel",
            "_view_count": null,
            "_view_module": "@jupyter-widgets/controls",
            "_view_module_version": "1.5.0",
            "_view_name": "HBoxView",
            "box_style": "",
            "children": [
              "IPY_MODEL_d1ff51fc9f0145bb98687fbafd225d9c",
              "IPY_MODEL_e9b720e7d14343e3b9b9c155834a5081",
              "IPY_MODEL_8d3e07acecdd44eaa7f75859208547af"
            ],
            "layout": "IPY_MODEL_73ee267b642140b9bb4fd54d08f3a2a6"
          }
        },
        "558a77a936504a6e82c879efd318c06b": {
          "model_module": "@jupyter-widgets/controls",
          "model_module_version": "1.5.0",
          "model_name": "HTMLModel",
          "state": {
            "_dom_classes": [],
            "_model_module": "@jupyter-widgets/controls",
            "_model_module_version": "1.5.0",
            "_model_name": "HTMLModel",
            "_view_count": null,
            "_view_module": "@jupyter-widgets/controls",
            "_view_module_version": "1.5.0",
            "_view_name": "HTMLView",
            "description": "",
            "description_tooltip": null,
            "layout": "IPY_MODEL_a24b5cbdef984aad8849a7754a80eea3",
            "placeholder": "​",
            "style": "IPY_MODEL_239f2d1ebcc247bdbd878332d3788b93",
            "value": "Downloading: 100%"
          }
        },
        "570f400a534242fba65755d7f3ab96fe": {
          "model_module": "@jupyter-widgets/base",
          "model_module_version": "1.2.0",
          "model_name": "LayoutModel",
          "state": {
            "_model_module": "@jupyter-widgets/base",
            "_model_module_version": "1.2.0",
            "_model_name": "LayoutModel",
            "_view_count": null,
            "_view_module": "@jupyter-widgets/base",
            "_view_module_version": "1.2.0",
            "_view_name": "LayoutView",
            "align_content": null,
            "align_items": null,
            "align_self": null,
            "border": null,
            "bottom": null,
            "display": null,
            "flex": null,
            "flex_flow": null,
            "grid_area": null,
            "grid_auto_columns": null,
            "grid_auto_flow": null,
            "grid_auto_rows": null,
            "grid_column": null,
            "grid_gap": null,
            "grid_row": null,
            "grid_template_areas": null,
            "grid_template_columns": null,
            "grid_template_rows": null,
            "height": null,
            "justify_content": null,
            "justify_items": null,
            "left": null,
            "margin": null,
            "max_height": null,
            "max_width": null,
            "min_height": null,
            "min_width": null,
            "object_fit": null,
            "object_position": null,
            "order": null,
            "overflow": null,
            "overflow_x": null,
            "overflow_y": null,
            "padding": null,
            "right": null,
            "top": null,
            "visibility": null,
            "width": null
          }
        },
        "5729be6b125d4f57a37ba5127b44497e": {
          "model_module": "@jupyter-widgets/base",
          "model_module_version": "1.2.0",
          "model_name": "LayoutModel",
          "state": {
            "_model_module": "@jupyter-widgets/base",
            "_model_module_version": "1.2.0",
            "_model_name": "LayoutModel",
            "_view_count": null,
            "_view_module": "@jupyter-widgets/base",
            "_view_module_version": "1.2.0",
            "_view_name": "LayoutView",
            "align_content": null,
            "align_items": null,
            "align_self": null,
            "border": null,
            "bottom": null,
            "display": null,
            "flex": null,
            "flex_flow": null,
            "grid_area": null,
            "grid_auto_columns": null,
            "grid_auto_flow": null,
            "grid_auto_rows": null,
            "grid_column": null,
            "grid_gap": null,
            "grid_row": null,
            "grid_template_areas": null,
            "grid_template_columns": null,
            "grid_template_rows": null,
            "height": null,
            "justify_content": null,
            "justify_items": null,
            "left": null,
            "margin": null,
            "max_height": null,
            "max_width": null,
            "min_height": null,
            "min_width": null,
            "object_fit": null,
            "object_position": null,
            "order": null,
            "overflow": null,
            "overflow_x": null,
            "overflow_y": null,
            "padding": null,
            "right": null,
            "top": null,
            "visibility": null,
            "width": null
          }
        },
        "57e37f97a9a4446aa6e55999e899a682": {
          "model_module": "@jupyter-widgets/controls",
          "model_module_version": "1.5.0",
          "model_name": "FloatProgressModel",
          "state": {
            "_dom_classes": [],
            "_model_module": "@jupyter-widgets/controls",
            "_model_module_version": "1.5.0",
            "_model_name": "FloatProgressModel",
            "_view_count": null,
            "_view_module": "@jupyter-widgets/controls",
            "_view_module_version": "1.5.0",
            "_view_name": "ProgressView",
            "bar_style": "success",
            "description": "",
            "description_tooltip": null,
            "layout": "IPY_MODEL_0acb6f85670644aa8c05003b80216469",
            "max": 16,
            "min": 0,
            "orientation": "horizontal",
            "style": "IPY_MODEL_fa6499eab22b4d2dac6f489e1fcdd8be",
            "value": 16
          }
        },
        "58dffa0201764ffd91954ca65c6f60e0": {
          "model_module": "@jupyter-widgets/controls",
          "model_module_version": "1.5.0",
          "model_name": "HTMLModel",
          "state": {
            "_dom_classes": [],
            "_model_module": "@jupyter-widgets/controls",
            "_model_module_version": "1.5.0",
            "_model_name": "HTMLModel",
            "_view_count": null,
            "_view_module": "@jupyter-widgets/controls",
            "_view_module_version": "1.5.0",
            "_view_name": "HTMLView",
            "description": "",
            "description_tooltip": null,
            "layout": "IPY_MODEL_93282283281b42c99ff7bcac5f87639a",
            "placeholder": "​",
            "style": "IPY_MODEL_5d8dd7c187034a988ab45df25f23941a",
            "value": "100%"
          }
        },
        "5d8dd7c187034a988ab45df25f23941a": {
          "model_module": "@jupyter-widgets/controls",
          "model_module_version": "1.5.0",
          "model_name": "DescriptionStyleModel",
          "state": {
            "_model_module": "@jupyter-widgets/controls",
            "_model_module_version": "1.5.0",
            "_model_name": "DescriptionStyleModel",
            "_view_count": null,
            "_view_module": "@jupyter-widgets/base",
            "_view_module_version": "1.2.0",
            "_view_name": "StyleView",
            "description_width": ""
          }
        },
        "5f53e55b5ac2429b80d3e7e85d5a5f99": {
          "model_module": "@jupyter-widgets/controls",
          "model_module_version": "1.5.0",
          "model_name": "HBoxModel",
          "state": {
            "_dom_classes": [],
            "_model_module": "@jupyter-widgets/controls",
            "_model_module_version": "1.5.0",
            "_model_name": "HBoxModel",
            "_view_count": null,
            "_view_module": "@jupyter-widgets/controls",
            "_view_module_version": "1.5.0",
            "_view_name": "HBoxView",
            "box_style": "",
            "children": [
              "IPY_MODEL_58dffa0201764ffd91954ca65c6f60e0",
              "IPY_MODEL_9c0e139a62f449a1b8b5a9c2b5aecc0c",
              "IPY_MODEL_a0a872ad8a4c4792942be1a1ceb1f772"
            ],
            "layout": "IPY_MODEL_abddfa86a1b246c2afd4ec0d67db39a6"
          }
        },
        "5fda01b9a1ce4a2d89b0daa74803739a": {
          "model_module": "@jupyter-widgets/base",
          "model_module_version": "1.2.0",
          "model_name": "LayoutModel",
          "state": {
            "_model_module": "@jupyter-widgets/base",
            "_model_module_version": "1.2.0",
            "_model_name": "LayoutModel",
            "_view_count": null,
            "_view_module": "@jupyter-widgets/base",
            "_view_module_version": "1.2.0",
            "_view_name": "LayoutView",
            "align_content": null,
            "align_items": null,
            "align_self": null,
            "border": null,
            "bottom": null,
            "display": null,
            "flex": null,
            "flex_flow": null,
            "grid_area": null,
            "grid_auto_columns": null,
            "grid_auto_flow": null,
            "grid_auto_rows": null,
            "grid_column": null,
            "grid_gap": null,
            "grid_row": null,
            "grid_template_areas": null,
            "grid_template_columns": null,
            "grid_template_rows": null,
            "height": null,
            "justify_content": null,
            "justify_items": null,
            "left": null,
            "margin": null,
            "max_height": null,
            "max_width": null,
            "min_height": null,
            "min_width": null,
            "object_fit": null,
            "object_position": null,
            "order": null,
            "overflow": null,
            "overflow_x": null,
            "overflow_y": null,
            "padding": null,
            "right": null,
            "top": null,
            "visibility": null,
            "width": null
          }
        },
        "60b6182c216347579805e246173f6941": {
          "model_module": "@jupyter-widgets/controls",
          "model_module_version": "1.5.0",
          "model_name": "HTMLModel",
          "state": {
            "_dom_classes": [],
            "_model_module": "@jupyter-widgets/controls",
            "_model_module_version": "1.5.0",
            "_model_name": "HTMLModel",
            "_view_count": null,
            "_view_module": "@jupyter-widgets/controls",
            "_view_module_version": "1.5.0",
            "_view_name": "HTMLView",
            "description": "",
            "description_tooltip": null,
            "layout": "IPY_MODEL_e4cf8ee5b85c4dc5a1ae9dc54599bdca",
            "placeholder": "​",
            "style": "IPY_MODEL_43942507d3bd426b8c63d79e71356906",
            "value": " 168/168 [00:35&lt;00:00,  5.22ba/s]"
          }
        },
        "633bd7d73b4146f18a1e2d7640af8f28": {
          "model_module": "@jupyter-widgets/controls",
          "model_module_version": "1.5.0",
          "model_name": "HTMLModel",
          "state": {
            "_dom_classes": [],
            "_model_module": "@jupyter-widgets/controls",
            "_model_module_version": "1.5.0",
            "_model_name": "HTMLModel",
            "_view_count": null,
            "_view_module": "@jupyter-widgets/controls",
            "_view_module_version": "1.5.0",
            "_view_name": "HTMLView",
            "description": "",
            "description_tooltip": null,
            "layout": "IPY_MODEL_187f761ebcb54cdeae4b04ac90adbd7c",
            "placeholder": "​",
            "style": "IPY_MODEL_e95a7d3266ca4e8fb713011247894de0",
            "value": "100%"
          }
        },
        "64853426737649ef92fc42a24848561d": {
          "model_module": "@jupyter-widgets/base",
          "model_module_version": "1.2.0",
          "model_name": "LayoutModel",
          "state": {
            "_model_module": "@jupyter-widgets/base",
            "_model_module_version": "1.2.0",
            "_model_name": "LayoutModel",
            "_view_count": null,
            "_view_module": "@jupyter-widgets/base",
            "_view_module_version": "1.2.0",
            "_view_name": "LayoutView",
            "align_content": null,
            "align_items": null,
            "align_self": null,
            "border": null,
            "bottom": null,
            "display": null,
            "flex": null,
            "flex_flow": null,
            "grid_area": null,
            "grid_auto_columns": null,
            "grid_auto_flow": null,
            "grid_auto_rows": null,
            "grid_column": null,
            "grid_gap": null,
            "grid_row": null,
            "grid_template_areas": null,
            "grid_template_columns": null,
            "grid_template_rows": null,
            "height": null,
            "justify_content": null,
            "justify_items": null,
            "left": null,
            "margin": null,
            "max_height": null,
            "max_width": null,
            "min_height": null,
            "min_width": null,
            "object_fit": null,
            "object_position": null,
            "order": null,
            "overflow": null,
            "overflow_x": null,
            "overflow_y": null,
            "padding": null,
            "right": null,
            "top": null,
            "visibility": null,
            "width": null
          }
        },
        "679258861e7049f0a3b35f379a06b9ad": {
          "model_module": "@jupyter-widgets/controls",
          "model_module_version": "1.5.0",
          "model_name": "HBoxModel",
          "state": {
            "_dom_classes": [],
            "_model_module": "@jupyter-widgets/controls",
            "_model_module_version": "1.5.0",
            "_model_name": "HBoxModel",
            "_view_count": null,
            "_view_module": "@jupyter-widgets/controls",
            "_view_module_version": "1.5.0",
            "_view_name": "HBoxView",
            "box_style": "",
            "children": [
              "IPY_MODEL_450174dce52e4c0aa6d2ef490c2c9a43",
              "IPY_MODEL_bbf1309b77f843bd8e009df4d03b7dd5",
              "IPY_MODEL_60b6182c216347579805e246173f6941"
            ],
            "layout": "IPY_MODEL_41f7dd9a88514b79ab1317c81e228284"
          }
        },
        "682dbc109ebf402cb7fc0e53f51f7c5e": {
          "model_module": "@jupyter-widgets/base",
          "model_module_version": "1.2.0",
          "model_name": "LayoutModel",
          "state": {
            "_model_module": "@jupyter-widgets/base",
            "_model_module_version": "1.2.0",
            "_model_name": "LayoutModel",
            "_view_count": null,
            "_view_module": "@jupyter-widgets/base",
            "_view_module_version": "1.2.0",
            "_view_name": "LayoutView",
            "align_content": null,
            "align_items": null,
            "align_self": null,
            "border": null,
            "bottom": null,
            "display": null,
            "flex": null,
            "flex_flow": null,
            "grid_area": null,
            "grid_auto_columns": null,
            "grid_auto_flow": null,
            "grid_auto_rows": null,
            "grid_column": null,
            "grid_gap": null,
            "grid_row": null,
            "grid_template_areas": null,
            "grid_template_columns": null,
            "grid_template_rows": null,
            "height": null,
            "justify_content": null,
            "justify_items": null,
            "left": null,
            "margin": null,
            "max_height": null,
            "max_width": null,
            "min_height": null,
            "min_width": null,
            "object_fit": null,
            "object_position": null,
            "order": null,
            "overflow": null,
            "overflow_x": null,
            "overflow_y": null,
            "padding": null,
            "right": null,
            "top": null,
            "visibility": null,
            "width": null
          }
        },
        "68a0e205ac3344cfa520eeeb3f9f50a9": {
          "model_module": "@jupyter-widgets/base",
          "model_module_version": "1.2.0",
          "model_name": "LayoutModel",
          "state": {
            "_model_module": "@jupyter-widgets/base",
            "_model_module_version": "1.2.0",
            "_model_name": "LayoutModel",
            "_view_count": null,
            "_view_module": "@jupyter-widgets/base",
            "_view_module_version": "1.2.0",
            "_view_name": "LayoutView",
            "align_content": null,
            "align_items": null,
            "align_self": null,
            "border": null,
            "bottom": null,
            "display": null,
            "flex": null,
            "flex_flow": null,
            "grid_area": null,
            "grid_auto_columns": null,
            "grid_auto_flow": null,
            "grid_auto_rows": null,
            "grid_column": null,
            "grid_gap": null,
            "grid_row": null,
            "grid_template_areas": null,
            "grid_template_columns": null,
            "grid_template_rows": null,
            "height": null,
            "justify_content": null,
            "justify_items": null,
            "left": null,
            "margin": null,
            "max_height": null,
            "max_width": null,
            "min_height": null,
            "min_width": null,
            "object_fit": null,
            "object_position": null,
            "order": null,
            "overflow": null,
            "overflow_x": null,
            "overflow_y": null,
            "padding": null,
            "right": null,
            "top": null,
            "visibility": null,
            "width": null
          }
        },
        "7174f32f9c8a4618b3d00b921a2427ac": {
          "model_module": "@jupyter-widgets/controls",
          "model_module_version": "1.5.0",
          "model_name": "DescriptionStyleModel",
          "state": {
            "_model_module": "@jupyter-widgets/controls",
            "_model_module_version": "1.5.0",
            "_model_name": "DescriptionStyleModel",
            "_view_count": null,
            "_view_module": "@jupyter-widgets/base",
            "_view_module_version": "1.2.0",
            "_view_name": "StyleView",
            "description_width": ""
          }
        },
        "73ee267b642140b9bb4fd54d08f3a2a6": {
          "model_module": "@jupyter-widgets/base",
          "model_module_version": "1.2.0",
          "model_name": "LayoutModel",
          "state": {
            "_model_module": "@jupyter-widgets/base",
            "_model_module_version": "1.2.0",
            "_model_name": "LayoutModel",
            "_view_count": null,
            "_view_module": "@jupyter-widgets/base",
            "_view_module_version": "1.2.0",
            "_view_name": "LayoutView",
            "align_content": null,
            "align_items": null,
            "align_self": null,
            "border": null,
            "bottom": null,
            "display": null,
            "flex": null,
            "flex_flow": null,
            "grid_area": null,
            "grid_auto_columns": null,
            "grid_auto_flow": null,
            "grid_auto_rows": null,
            "grid_column": null,
            "grid_gap": null,
            "grid_row": null,
            "grid_template_areas": null,
            "grid_template_columns": null,
            "grid_template_rows": null,
            "height": null,
            "justify_content": null,
            "justify_items": null,
            "left": null,
            "margin": null,
            "max_height": null,
            "max_width": null,
            "min_height": null,
            "min_width": null,
            "object_fit": null,
            "object_position": null,
            "order": null,
            "overflow": null,
            "overflow_x": null,
            "overflow_y": null,
            "padding": null,
            "right": null,
            "top": null,
            "visibility": null,
            "width": null
          }
        },
        "763e5bfd83a64b2a9ac71c3472236c49": {
          "model_module": "@jupyter-widgets/base",
          "model_module_version": "1.2.0",
          "model_name": "LayoutModel",
          "state": {
            "_model_module": "@jupyter-widgets/base",
            "_model_module_version": "1.2.0",
            "_model_name": "LayoutModel",
            "_view_count": null,
            "_view_module": "@jupyter-widgets/base",
            "_view_module_version": "1.2.0",
            "_view_name": "LayoutView",
            "align_content": null,
            "align_items": null,
            "align_self": null,
            "border": null,
            "bottom": null,
            "display": null,
            "flex": null,
            "flex_flow": null,
            "grid_area": null,
            "grid_auto_columns": null,
            "grid_auto_flow": null,
            "grid_auto_rows": null,
            "grid_column": null,
            "grid_gap": null,
            "grid_row": null,
            "grid_template_areas": null,
            "grid_template_columns": null,
            "grid_template_rows": null,
            "height": null,
            "justify_content": null,
            "justify_items": null,
            "left": null,
            "margin": null,
            "max_height": null,
            "max_width": null,
            "min_height": null,
            "min_width": null,
            "object_fit": null,
            "object_position": null,
            "order": null,
            "overflow": null,
            "overflow_x": null,
            "overflow_y": null,
            "padding": null,
            "right": null,
            "top": null,
            "visibility": null,
            "width": null
          }
        },
        "7badca2f006048398a7e5af010e2b8fe": {
          "model_module": "@jupyter-widgets/controls",
          "model_module_version": "1.5.0",
          "model_name": "HBoxModel",
          "state": {
            "_dom_classes": [],
            "_model_module": "@jupyter-widgets/controls",
            "_model_module_version": "1.5.0",
            "_model_name": "HBoxModel",
            "_view_count": null,
            "_view_module": "@jupyter-widgets/controls",
            "_view_module_version": "1.5.0",
            "_view_name": "HBoxView",
            "box_style": "",
            "children": [
              "IPY_MODEL_7e577f8117074db796744006cc4c71ce",
              "IPY_MODEL_c004bc1c584a41ba8f4ba360b92b21b0",
              "IPY_MODEL_9746d0c45f6b47d1b8ba8f62c5fd1042"
            ],
            "layout": "IPY_MODEL_4a611b4ec5864ce69cd3f03afe97e8b8"
          }
        },
        "7c4bb89c51944c8b840d89dac50ff634": {
          "model_module": "@jupyter-widgets/controls",
          "model_module_version": "1.5.0",
          "model_name": "FloatProgressModel",
          "state": {
            "_dom_classes": [],
            "_model_module": "@jupyter-widgets/controls",
            "_model_module_version": "1.5.0",
            "_model_name": "FloatProgressModel",
            "_view_count": null,
            "_view_module": "@jupyter-widgets/controls",
            "_view_module_version": "1.5.0",
            "_view_name": "ProgressView",
            "bar_style": "success",
            "description": "",
            "description_tooltip": null,
            "layout": "IPY_MODEL_f0ef26cbaeb24f32be50730678f7201a",
            "max": 480,
            "min": 0,
            "orientation": "horizontal",
            "style": "IPY_MODEL_48ae7eb1609145e29455456adbccc7fa",
            "value": 480
          }
        },
        "7e577f8117074db796744006cc4c71ce": {
          "model_module": "@jupyter-widgets/controls",
          "model_module_version": "1.5.0",
          "model_name": "HTMLModel",
          "state": {
            "_dom_classes": [],
            "_model_module": "@jupyter-widgets/controls",
            "_model_module_version": "1.5.0",
            "_model_name": "HTMLModel",
            "_view_count": null,
            "_view_module": "@jupyter-widgets/controls",
            "_view_module_version": "1.5.0",
            "_view_name": "HTMLView",
            "description": "",
            "description_tooltip": null,
            "layout": "IPY_MODEL_64853426737649ef92fc42a24848561d",
            "placeholder": "​",
            "style": "IPY_MODEL_12c40e543c894e29b56b5a3cc33a7989",
            "value": "Downloading: 100%"
          }
        },
        "83b4710a9e394fecba072d3274e29d9b": {
          "model_module": "@jupyter-widgets/base",
          "model_module_version": "1.2.0",
          "model_name": "LayoutModel",
          "state": {
            "_model_module": "@jupyter-widgets/base",
            "_model_module_version": "1.2.0",
            "_model_name": "LayoutModel",
            "_view_count": null,
            "_view_module": "@jupyter-widgets/base",
            "_view_module_version": "1.2.0",
            "_view_name": "LayoutView",
            "align_content": null,
            "align_items": null,
            "align_self": null,
            "border": null,
            "bottom": null,
            "display": null,
            "flex": null,
            "flex_flow": null,
            "grid_area": null,
            "grid_auto_columns": null,
            "grid_auto_flow": null,
            "grid_auto_rows": null,
            "grid_column": null,
            "grid_gap": null,
            "grid_row": null,
            "grid_template_areas": null,
            "grid_template_columns": null,
            "grid_template_rows": null,
            "height": null,
            "justify_content": null,
            "justify_items": null,
            "left": null,
            "margin": null,
            "max_height": null,
            "max_width": null,
            "min_height": null,
            "min_width": null,
            "object_fit": null,
            "object_position": null,
            "order": null,
            "overflow": null,
            "overflow_x": null,
            "overflow_y": null,
            "padding": null,
            "right": null,
            "top": null,
            "visibility": null,
            "width": null
          }
        },
        "859c8a20ec5a4266baa284c55ed2d703": {
          "model_module": "@jupyter-widgets/controls",
          "model_module_version": "1.5.0",
          "model_name": "HBoxModel",
          "state": {
            "_dom_classes": [],
            "_model_module": "@jupyter-widgets/controls",
            "_model_module_version": "1.5.0",
            "_model_name": "HBoxModel",
            "_view_count": null,
            "_view_module": "@jupyter-widgets/controls",
            "_view_module_version": "1.5.0",
            "_view_name": "HBoxView",
            "box_style": "",
            "children": [
              "IPY_MODEL_558a77a936504a6e82c879efd318c06b",
              "IPY_MODEL_2910880e7d4240a7bb911b69a7bb434d",
              "IPY_MODEL_891f43a407a54f48b58fb87181a3fb70"
            ],
            "layout": "IPY_MODEL_1a16d16842964af2a79c7d3960384987"
          }
        },
        "85c89470a19645e58430da5b59aef354": {
          "model_module": "@jupyter-widgets/base",
          "model_module_version": "1.2.0",
          "model_name": "LayoutModel",
          "state": {
            "_model_module": "@jupyter-widgets/base",
            "_model_module_version": "1.2.0",
            "_model_name": "LayoutModel",
            "_view_count": null,
            "_view_module": "@jupyter-widgets/base",
            "_view_module_version": "1.2.0",
            "_view_name": "LayoutView",
            "align_content": null,
            "align_items": null,
            "align_self": null,
            "border": null,
            "bottom": null,
            "display": null,
            "flex": null,
            "flex_flow": null,
            "grid_area": null,
            "grid_auto_columns": null,
            "grid_auto_flow": null,
            "grid_auto_rows": null,
            "grid_column": null,
            "grid_gap": null,
            "grid_row": null,
            "grid_template_areas": null,
            "grid_template_columns": null,
            "grid_template_rows": null,
            "height": null,
            "justify_content": null,
            "justify_items": null,
            "left": null,
            "margin": null,
            "max_height": null,
            "max_width": null,
            "min_height": null,
            "min_width": null,
            "object_fit": null,
            "object_position": null,
            "order": null,
            "overflow": null,
            "overflow_x": null,
            "overflow_y": null,
            "padding": null,
            "right": null,
            "top": null,
            "visibility": null,
            "width": null
          }
        },
        "87a18a7ac91247afa8913e3705763d15": {
          "model_module": "@jupyter-widgets/controls",
          "model_module_version": "1.5.0",
          "model_name": "HBoxModel",
          "state": {
            "_dom_classes": [],
            "_model_module": "@jupyter-widgets/controls",
            "_model_module_version": "1.5.0",
            "_model_name": "HBoxModel",
            "_view_count": null,
            "_view_module": "@jupyter-widgets/controls",
            "_view_module_version": "1.5.0",
            "_view_name": "HBoxView",
            "box_style": "",
            "children": [
              "IPY_MODEL_418806a9861c4ba8878d24ed25d8497b",
              "IPY_MODEL_b800ed8c82f64c859cb9161c9fd9a3c0",
              "IPY_MODEL_b932d79faadd46a297f69064dc34c992"
            ],
            "layout": "IPY_MODEL_96de8141c4204857bcbfc77558990563"
          }
        },
        "891f43a407a54f48b58fb87181a3fb70": {
          "model_module": "@jupyter-widgets/controls",
          "model_module_version": "1.5.0",
          "model_name": "HTMLModel",
          "state": {
            "_dom_classes": [],
            "_model_module": "@jupyter-widgets/controls",
            "_model_module_version": "1.5.0",
            "_model_name": "HTMLModel",
            "_view_count": null,
            "_view_module": "@jupyter-widgets/controls",
            "_view_module_version": "1.5.0",
            "_view_name": "HTMLView",
            "description": "",
            "description_tooltip": null,
            "layout": "IPY_MODEL_e340dca2fbe749278ef5c9bee81f90bc",
            "placeholder": "​",
            "style": "IPY_MODEL_8c09e16229d54e16b868eb6017490317",
            "value": " 878k/878k [00:00&lt;00:00, 6.32MB/s]"
          }
        },
        "8c09e16229d54e16b868eb6017490317": {
          "model_module": "@jupyter-widgets/controls",
          "model_module_version": "1.5.0",
          "model_name": "DescriptionStyleModel",
          "state": {
            "_model_module": "@jupyter-widgets/controls",
            "_model_module_version": "1.5.0",
            "_model_name": "DescriptionStyleModel",
            "_view_count": null,
            "_view_module": "@jupyter-widgets/base",
            "_view_module_version": "1.2.0",
            "_view_name": "StyleView",
            "description_width": ""
          }
        },
        "8d3e07acecdd44eaa7f75859208547af": {
          "model_module": "@jupyter-widgets/controls",
          "model_module_version": "1.5.0",
          "model_name": "HTMLModel",
          "state": {
            "_dom_classes": [],
            "_model_module": "@jupyter-widgets/controls",
            "_model_module_version": "1.5.0",
            "_model_name": "HTMLModel",
            "_view_count": null,
            "_view_module": "@jupyter-widgets/controls",
            "_view_module_version": "1.5.0",
            "_view_name": "HTMLView",
            "description": "",
            "description_tooltip": null,
            "layout": "IPY_MODEL_9022c3fcb05d4b8f955f5f65d9359aa7",
            "placeholder": "​",
            "style": "IPY_MODEL_db3e8ff553974033b68d799e9b74655d",
            "value": " 42/42 [00:09&lt;00:00,  4.79ba/s]"
          }
        },
        "9022c3fcb05d4b8f955f5f65d9359aa7": {
          "model_module": "@jupyter-widgets/base",
          "model_module_version": "1.2.0",
          "model_name": "LayoutModel",
          "state": {
            "_model_module": "@jupyter-widgets/base",
            "_model_module_version": "1.2.0",
            "_model_name": "LayoutModel",
            "_view_count": null,
            "_view_module": "@jupyter-widgets/base",
            "_view_module_version": "1.2.0",
            "_view_name": "LayoutView",
            "align_content": null,
            "align_items": null,
            "align_self": null,
            "border": null,
            "bottom": null,
            "display": null,
            "flex": null,
            "flex_flow": null,
            "grid_area": null,
            "grid_auto_columns": null,
            "grid_auto_flow": null,
            "grid_auto_rows": null,
            "grid_column": null,
            "grid_gap": null,
            "grid_row": null,
            "grid_template_areas": null,
            "grid_template_columns": null,
            "grid_template_rows": null,
            "height": null,
            "justify_content": null,
            "justify_items": null,
            "left": null,
            "margin": null,
            "max_height": null,
            "max_width": null,
            "min_height": null,
            "min_width": null,
            "object_fit": null,
            "object_position": null,
            "order": null,
            "overflow": null,
            "overflow_x": null,
            "overflow_y": null,
            "padding": null,
            "right": null,
            "top": null,
            "visibility": null,
            "width": null
          }
        },
        "93282283281b42c99ff7bcac5f87639a": {
          "model_module": "@jupyter-widgets/base",
          "model_module_version": "1.2.0",
          "model_name": "LayoutModel",
          "state": {
            "_model_module": "@jupyter-widgets/base",
            "_model_module_version": "1.2.0",
            "_model_name": "LayoutModel",
            "_view_count": null,
            "_view_module": "@jupyter-widgets/base",
            "_view_module_version": "1.2.0",
            "_view_name": "LayoutView",
            "align_content": null,
            "align_items": null,
            "align_self": null,
            "border": null,
            "bottom": null,
            "display": null,
            "flex": null,
            "flex_flow": null,
            "grid_area": null,
            "grid_auto_columns": null,
            "grid_auto_flow": null,
            "grid_auto_rows": null,
            "grid_column": null,
            "grid_gap": null,
            "grid_row": null,
            "grid_template_areas": null,
            "grid_template_columns": null,
            "grid_template_rows": null,
            "height": null,
            "justify_content": null,
            "justify_items": null,
            "left": null,
            "margin": null,
            "max_height": null,
            "max_width": null,
            "min_height": null,
            "min_width": null,
            "object_fit": null,
            "object_position": null,
            "order": null,
            "overflow": null,
            "overflow_x": null,
            "overflow_y": null,
            "padding": null,
            "right": null,
            "top": null,
            "visibility": null,
            "width": null
          }
        },
        "96de8141c4204857bcbfc77558990563": {
          "model_module": "@jupyter-widgets/base",
          "model_module_version": "1.2.0",
          "model_name": "LayoutModel",
          "state": {
            "_model_module": "@jupyter-widgets/base",
            "_model_module_version": "1.2.0",
            "_model_name": "LayoutModel",
            "_view_count": null,
            "_view_module": "@jupyter-widgets/base",
            "_view_module_version": "1.2.0",
            "_view_name": "LayoutView",
            "align_content": null,
            "align_items": null,
            "align_self": null,
            "border": null,
            "bottom": null,
            "display": null,
            "flex": null,
            "flex_flow": null,
            "grid_area": null,
            "grid_auto_columns": null,
            "grid_auto_flow": null,
            "grid_auto_rows": null,
            "grid_column": null,
            "grid_gap": null,
            "grid_row": null,
            "grid_template_areas": null,
            "grid_template_columns": null,
            "grid_template_rows": null,
            "height": null,
            "justify_content": null,
            "justify_items": null,
            "left": null,
            "margin": null,
            "max_height": null,
            "max_width": null,
            "min_height": null,
            "min_width": null,
            "object_fit": null,
            "object_position": null,
            "order": null,
            "overflow": null,
            "overflow_x": null,
            "overflow_y": null,
            "padding": null,
            "right": null,
            "top": null,
            "visibility": null,
            "width": null
          }
        },
        "9746d0c45f6b47d1b8ba8f62c5fd1042": {
          "model_module": "@jupyter-widgets/controls",
          "model_module_version": "1.5.0",
          "model_name": "HTMLModel",
          "state": {
            "_dom_classes": [],
            "_model_module": "@jupyter-widgets/controls",
            "_model_module_version": "1.5.0",
            "_model_name": "HTMLModel",
            "_view_count": null,
            "_view_module": "@jupyter-widgets/controls",
            "_view_module_version": "1.5.0",
            "_view_name": "HTMLView",
            "description": "",
            "description_tooltip": null,
            "layout": "IPY_MODEL_68a0e205ac3344cfa520eeeb3f9f50a9",
            "placeholder": "​",
            "style": "IPY_MODEL_c488ce5f63b34a078bf973d6916f0626",
            "value": " 226k/226k [00:00&lt;00:00, 2.98MB/s]"
          }
        },
        "99585c42e0fb4cffb3e3342e76991b0c": {
          "model_module": "@jupyter-widgets/controls",
          "model_module_version": "1.5.0",
          "model_name": "DescriptionStyleModel",
          "state": {
            "_model_module": "@jupyter-widgets/controls",
            "_model_module_version": "1.5.0",
            "_model_name": "DescriptionStyleModel",
            "_view_count": null,
            "_view_module": "@jupyter-widgets/base",
            "_view_module_version": "1.2.0",
            "_view_name": "StyleView",
            "description_width": ""
          }
        },
        "9b37ec4586644401b59495fdc9fc13f6": {
          "model_module": "@jupyter-widgets/base",
          "model_module_version": "1.2.0",
          "model_name": "LayoutModel",
          "state": {
            "_model_module": "@jupyter-widgets/base",
            "_model_module_version": "1.2.0",
            "_model_name": "LayoutModel",
            "_view_count": null,
            "_view_module": "@jupyter-widgets/base",
            "_view_module_version": "1.2.0",
            "_view_name": "LayoutView",
            "align_content": null,
            "align_items": null,
            "align_self": null,
            "border": null,
            "bottom": null,
            "display": null,
            "flex": null,
            "flex_flow": null,
            "grid_area": null,
            "grid_auto_columns": null,
            "grid_auto_flow": null,
            "grid_auto_rows": null,
            "grid_column": null,
            "grid_gap": null,
            "grid_row": null,
            "grid_template_areas": null,
            "grid_template_columns": null,
            "grid_template_rows": null,
            "height": null,
            "justify_content": null,
            "justify_items": null,
            "left": null,
            "margin": null,
            "max_height": null,
            "max_width": null,
            "min_height": null,
            "min_width": null,
            "object_fit": null,
            "object_position": null,
            "order": null,
            "overflow": null,
            "overflow_x": null,
            "overflow_y": null,
            "padding": null,
            "right": null,
            "top": null,
            "visibility": null,
            "width": null
          }
        },
        "9c0e139a62f449a1b8b5a9c2b5aecc0c": {
          "model_module": "@jupyter-widgets/controls",
          "model_module_version": "1.5.0",
          "model_name": "FloatProgressModel",
          "state": {
            "_dom_classes": [],
            "_model_module": "@jupyter-widgets/controls",
            "_model_module_version": "1.5.0",
            "_model_name": "FloatProgressModel",
            "_view_count": null,
            "_view_module": "@jupyter-widgets/controls",
            "_view_module_version": "1.5.0",
            "_view_name": "ProgressView",
            "bar_style": "success",
            "description": "",
            "description_tooltip": null,
            "layout": "IPY_MODEL_30477c18d1ab47a9a969250e05644515",
            "max": 16,
            "min": 0,
            "orientation": "horizontal",
            "style": "IPY_MODEL_1ff6d5688c084d6e9f3eea153f47c678",
            "value": 16
          }
        },
        "9f5c74263b4b4171b538eacb2ee90dbf": {
          "model_module": "@jupyter-widgets/controls",
          "model_module_version": "1.5.0",
          "model_name": "HTMLModel",
          "state": {
            "_dom_classes": [],
            "_model_module": "@jupyter-widgets/controls",
            "_model_module_version": "1.5.0",
            "_model_name": "HTMLModel",
            "_view_count": null,
            "_view_module": "@jupyter-widgets/controls",
            "_view_module_version": "1.5.0",
            "_view_name": "HTMLView",
            "description": "",
            "description_tooltip": null,
            "layout": "IPY_MODEL_f5ecbbb392fe4c3e8fef3454ea7df977",
            "placeholder": "​",
            "style": "IPY_MODEL_a4a6048cae3a4d6698bf6f4f391d9da9",
            "value": "Downloading: 100%"
          }
        },
        "9f9743c29fff4262993bf463d370e6e1": {
          "model_module": "@jupyter-widgets/base",
          "model_module_version": "1.2.0",
          "model_name": "LayoutModel",
          "state": {
            "_model_module": "@jupyter-widgets/base",
            "_model_module_version": "1.2.0",
            "_model_name": "LayoutModel",
            "_view_count": null,
            "_view_module": "@jupyter-widgets/base",
            "_view_module_version": "1.2.0",
            "_view_name": "LayoutView",
            "align_content": null,
            "align_items": null,
            "align_self": null,
            "border": null,
            "bottom": null,
            "display": null,
            "flex": null,
            "flex_flow": null,
            "grid_area": null,
            "grid_auto_columns": null,
            "grid_auto_flow": null,
            "grid_auto_rows": null,
            "grid_column": null,
            "grid_gap": null,
            "grid_row": null,
            "grid_template_areas": null,
            "grid_template_columns": null,
            "grid_template_rows": null,
            "height": null,
            "justify_content": null,
            "justify_items": null,
            "left": null,
            "margin": null,
            "max_height": null,
            "max_width": null,
            "min_height": null,
            "min_width": null,
            "object_fit": null,
            "object_position": null,
            "order": null,
            "overflow": null,
            "overflow_x": null,
            "overflow_y": null,
            "padding": null,
            "right": null,
            "top": null,
            "visibility": null,
            "width": null
          }
        },
        "a0a872ad8a4c4792942be1a1ceb1f772": {
          "model_module": "@jupyter-widgets/controls",
          "model_module_version": "1.5.0",
          "model_name": "HTMLModel",
          "state": {
            "_dom_classes": [],
            "_model_module": "@jupyter-widgets/controls",
            "_model_module_version": "1.5.0",
            "_model_name": "HTMLModel",
            "_view_count": null,
            "_view_module": "@jupyter-widgets/controls",
            "_view_module_version": "1.5.0",
            "_view_name": "HTMLView",
            "description": "",
            "description_tooltip": null,
            "layout": "IPY_MODEL_682dbc109ebf402cb7fc0e53f51f7c5e",
            "placeholder": "​",
            "style": "IPY_MODEL_7174f32f9c8a4618b3d00b921a2427ac",
            "value": " 16/16 [00:03&lt;00:00,  4.89ba/s]"
          }
        },
        "a24b5cbdef984aad8849a7754a80eea3": {
          "model_module": "@jupyter-widgets/base",
          "model_module_version": "1.2.0",
          "model_name": "LayoutModel",
          "state": {
            "_model_module": "@jupyter-widgets/base",
            "_model_module_version": "1.2.0",
            "_model_name": "LayoutModel",
            "_view_count": null,
            "_view_module": "@jupyter-widgets/base",
            "_view_module_version": "1.2.0",
            "_view_name": "LayoutView",
            "align_content": null,
            "align_items": null,
            "align_self": null,
            "border": null,
            "bottom": null,
            "display": null,
            "flex": null,
            "flex_flow": null,
            "grid_area": null,
            "grid_auto_columns": null,
            "grid_auto_flow": null,
            "grid_auto_rows": null,
            "grid_column": null,
            "grid_gap": null,
            "grid_row": null,
            "grid_template_areas": null,
            "grid_template_columns": null,
            "grid_template_rows": null,
            "height": null,
            "justify_content": null,
            "justify_items": null,
            "left": null,
            "margin": null,
            "max_height": null,
            "max_width": null,
            "min_height": null,
            "min_width": null,
            "object_fit": null,
            "object_position": null,
            "order": null,
            "overflow": null,
            "overflow_x": null,
            "overflow_y": null,
            "padding": null,
            "right": null,
            "top": null,
            "visibility": null,
            "width": null
          }
        },
        "a32345dc112648389cbf2306c1d4def8": {
          "model_module": "@jupyter-widgets/base",
          "model_module_version": "1.2.0",
          "model_name": "LayoutModel",
          "state": {
            "_model_module": "@jupyter-widgets/base",
            "_model_module_version": "1.2.0",
            "_model_name": "LayoutModel",
            "_view_count": null,
            "_view_module": "@jupyter-widgets/base",
            "_view_module_version": "1.2.0",
            "_view_name": "LayoutView",
            "align_content": null,
            "align_items": null,
            "align_self": null,
            "border": null,
            "bottom": null,
            "display": null,
            "flex": null,
            "flex_flow": null,
            "grid_area": null,
            "grid_auto_columns": null,
            "grid_auto_flow": null,
            "grid_auto_rows": null,
            "grid_column": null,
            "grid_gap": null,
            "grid_row": null,
            "grid_template_areas": null,
            "grid_template_columns": null,
            "grid_template_rows": null,
            "height": null,
            "justify_content": null,
            "justify_items": null,
            "left": null,
            "margin": null,
            "max_height": null,
            "max_width": null,
            "min_height": null,
            "min_width": null,
            "object_fit": null,
            "object_position": null,
            "order": null,
            "overflow": null,
            "overflow_x": null,
            "overflow_y": null,
            "padding": null,
            "right": null,
            "top": null,
            "visibility": null,
            "width": null
          }
        },
        "a4a6048cae3a4d6698bf6f4f391d9da9": {
          "model_module": "@jupyter-widgets/controls",
          "model_module_version": "1.5.0",
          "model_name": "DescriptionStyleModel",
          "state": {
            "_model_module": "@jupyter-widgets/controls",
            "_model_module_version": "1.5.0",
            "_model_name": "DescriptionStyleModel",
            "_view_count": null,
            "_view_module": "@jupyter-widgets/base",
            "_view_module_version": "1.2.0",
            "_view_name": "StyleView",
            "description_width": ""
          }
        },
        "a78407d1d3f64170990903d5eacb73af": {
          "model_module": "@jupyter-widgets/controls",
          "model_module_version": "1.5.0",
          "model_name": "ProgressStyleModel",
          "state": {
            "_model_module": "@jupyter-widgets/controls",
            "_model_module_version": "1.5.0",
            "_model_name": "ProgressStyleModel",
            "_view_count": null,
            "_view_module": "@jupyter-widgets/base",
            "_view_module_version": "1.2.0",
            "_view_name": "StyleView",
            "bar_color": null,
            "description_width": ""
          }
        },
        "aa5f0daca18e47c6ab6d62043a5e1a90": {
          "model_module": "@jupyter-widgets/controls",
          "model_module_version": "1.5.0",
          "model_name": "HBoxModel",
          "state": {
            "_dom_classes": [],
            "_model_module": "@jupyter-widgets/controls",
            "_model_module_version": "1.5.0",
            "_model_name": "HBoxModel",
            "_view_count": null,
            "_view_module": "@jupyter-widgets/controls",
            "_view_module_version": "1.5.0",
            "_view_name": "HBoxView",
            "box_style": "",
            "children": [
              "IPY_MODEL_633bd7d73b4146f18a1e2d7640af8f28",
              "IPY_MODEL_57e37f97a9a4446aa6e55999e899a682",
              "IPY_MODEL_021b175ff3b0476c95105ed33764450f"
            ],
            "layout": "IPY_MODEL_85c89470a19645e58430da5b59aef354"
          }
        },
        "ab3e549f48fe4b49835f13071ce105dc": {
          "model_module": "@jupyter-widgets/controls",
          "model_module_version": "1.5.0",
          "model_name": "DescriptionStyleModel",
          "state": {
            "_model_module": "@jupyter-widgets/controls",
            "_model_module_version": "1.5.0",
            "_model_name": "DescriptionStyleModel",
            "_view_count": null,
            "_view_module": "@jupyter-widgets/base",
            "_view_module_version": "1.2.0",
            "_view_name": "StyleView",
            "description_width": ""
          }
        },
        "abddfa86a1b246c2afd4ec0d67db39a6": {
          "model_module": "@jupyter-widgets/base",
          "model_module_version": "1.2.0",
          "model_name": "LayoutModel",
          "state": {
            "_model_module": "@jupyter-widgets/base",
            "_model_module_version": "1.2.0",
            "_model_name": "LayoutModel",
            "_view_count": null,
            "_view_module": "@jupyter-widgets/base",
            "_view_module_version": "1.2.0",
            "_view_name": "LayoutView",
            "align_content": null,
            "align_items": null,
            "align_self": null,
            "border": null,
            "bottom": null,
            "display": null,
            "flex": null,
            "flex_flow": null,
            "grid_area": null,
            "grid_auto_columns": null,
            "grid_auto_flow": null,
            "grid_auto_rows": null,
            "grid_column": null,
            "grid_gap": null,
            "grid_row": null,
            "grid_template_areas": null,
            "grid_template_columns": null,
            "grid_template_rows": null,
            "height": null,
            "justify_content": null,
            "justify_items": null,
            "left": null,
            "margin": null,
            "max_height": null,
            "max_width": null,
            "min_height": null,
            "min_width": null,
            "object_fit": null,
            "object_position": null,
            "order": null,
            "overflow": null,
            "overflow_x": null,
            "overflow_y": null,
            "padding": null,
            "right": null,
            "top": null,
            "visibility": null,
            "width": null
          }
        },
        "b24a8e1d42b34d92bde60b8090a54407": {
          "model_module": "@jupyter-widgets/controls",
          "model_module_version": "1.5.0",
          "model_name": "HBoxModel",
          "state": {
            "_dom_classes": [],
            "_model_module": "@jupyter-widgets/controls",
            "_model_module_version": "1.5.0",
            "_model_name": "HBoxModel",
            "_view_count": null,
            "_view_module": "@jupyter-widgets/controls",
            "_view_module_version": "1.5.0",
            "_view_name": "HBoxView",
            "box_style": "",
            "children": [
              "IPY_MODEL_9f5c74263b4b4171b538eacb2ee90dbf",
              "IPY_MODEL_cf89a7fbc62f43d6aa795dedc1cb8aa6",
              "IPY_MODEL_43efe758e57244a3869195474f713aa8"
            ],
            "layout": "IPY_MODEL_c4b697a0cf6e4384b50a5df4ce1ec4a8"
          }
        },
        "b800ed8c82f64c859cb9161c9fd9a3c0": {
          "model_module": "@jupyter-widgets/controls",
          "model_module_version": "1.5.0",
          "model_name": "FloatProgressModel",
          "state": {
            "_dom_classes": [],
            "_model_module": "@jupyter-widgets/controls",
            "_model_module_version": "1.5.0",
            "_model_name": "FloatProgressModel",
            "_view_count": null,
            "_view_module": "@jupyter-widgets/controls",
            "_view_module_version": "1.5.0",
            "_view_name": "ProgressView",
            "bar_style": "success",
            "description": "",
            "description_tooltip": null,
            "layout": "IPY_MODEL_197681965f844f7dbbbc1b06412cf20f",
            "max": 285,
            "min": 0,
            "orientation": "horizontal",
            "style": "IPY_MODEL_10e40140dd1c4295bb316f916e7339ec",
            "value": 285
          }
        },
        "b8faa2acf54c4a95ac46bad2d082052d": {
          "model_module": "@jupyter-widgets/base",
          "model_module_version": "1.2.0",
          "model_name": "LayoutModel",
          "state": {
            "_model_module": "@jupyter-widgets/base",
            "_model_module_version": "1.2.0",
            "_model_name": "LayoutModel",
            "_view_count": null,
            "_view_module": "@jupyter-widgets/base",
            "_view_module_version": "1.2.0",
            "_view_name": "LayoutView",
            "align_content": null,
            "align_items": null,
            "align_self": null,
            "border": null,
            "bottom": null,
            "display": null,
            "flex": null,
            "flex_flow": null,
            "grid_area": null,
            "grid_auto_columns": null,
            "grid_auto_flow": null,
            "grid_auto_rows": null,
            "grid_column": null,
            "grid_gap": null,
            "grid_row": null,
            "grid_template_areas": null,
            "grid_template_columns": null,
            "grid_template_rows": null,
            "height": null,
            "justify_content": null,
            "justify_items": null,
            "left": null,
            "margin": null,
            "max_height": null,
            "max_width": null,
            "min_height": null,
            "min_width": null,
            "object_fit": null,
            "object_position": null,
            "order": null,
            "overflow": null,
            "overflow_x": null,
            "overflow_y": null,
            "padding": null,
            "right": null,
            "top": null,
            "visibility": null,
            "width": null
          }
        },
        "b932d79faadd46a297f69064dc34c992": {
          "model_module": "@jupyter-widgets/controls",
          "model_module_version": "1.5.0",
          "model_name": "HTMLModel",
          "state": {
            "_dom_classes": [],
            "_model_module": "@jupyter-widgets/controls",
            "_model_module_version": "1.5.0",
            "_model_name": "HTMLModel",
            "_view_count": null,
            "_view_module": "@jupyter-widgets/controls",
            "_view_module_version": "1.5.0",
            "_view_name": "HTMLView",
            "description": "",
            "description_tooltip": null,
            "layout": "IPY_MODEL_267f9b6b73d64198ad355ec88830f110",
            "placeholder": "​",
            "style": "IPY_MODEL_4568dea9d32649a98fff61231d56341b",
            "value": " 285/285 [00:00&lt;00:00, 12.4kB/s]"
          }
        },
        "bbf1309b77f843bd8e009df4d03b7dd5": {
          "model_module": "@jupyter-widgets/controls",
          "model_module_version": "1.5.0",
          "model_name": "FloatProgressModel",
          "state": {
            "_dom_classes": [],
            "_model_module": "@jupyter-widgets/controls",
            "_model_module_version": "1.5.0",
            "_model_name": "FloatProgressModel",
            "_view_count": null,
            "_view_module": "@jupyter-widgets/controls",
            "_view_module_version": "1.5.0",
            "_view_name": "ProgressView",
            "bar_style": "success",
            "description": "",
            "description_tooltip": null,
            "layout": "IPY_MODEL_570f400a534242fba65755d7f3ab96fe",
            "max": 168,
            "min": 0,
            "orientation": "horizontal",
            "style": "IPY_MODEL_d31bc9a614684842b1d2e06de168b01d",
            "value": 168
          }
        },
        "c004bc1c584a41ba8f4ba360b92b21b0": {
          "model_module": "@jupyter-widgets/controls",
          "model_module_version": "1.5.0",
          "model_name": "FloatProgressModel",
          "state": {
            "_dom_classes": [],
            "_model_module": "@jupyter-widgets/controls",
            "_model_module_version": "1.5.0",
            "_model_name": "FloatProgressModel",
            "_view_count": null,
            "_view_module": "@jupyter-widgets/controls",
            "_view_module_version": "1.5.0",
            "_view_name": "ProgressView",
            "bar_style": "success",
            "description": "",
            "description_tooltip": null,
            "layout": "IPY_MODEL_5729be6b125d4f57a37ba5127b44497e",
            "max": 231508,
            "min": 0,
            "orientation": "horizontal",
            "style": "IPY_MODEL_e056c5671c3d495785787a2219a5d134",
            "value": 231508
          }
        },
        "c0f004acbbe64606a38151457dabc3f0": {
          "model_module": "@jupyter-widgets/controls",
          "model_module_version": "1.5.0",
          "model_name": "ProgressStyleModel",
          "state": {
            "_model_module": "@jupyter-widgets/controls",
            "_model_module_version": "1.5.0",
            "_model_name": "ProgressStyleModel",
            "_view_count": null,
            "_view_module": "@jupyter-widgets/base",
            "_view_module_version": "1.2.0",
            "_view_name": "StyleView",
            "bar_color": null,
            "description_width": ""
          }
        },
        "c488ce5f63b34a078bf973d6916f0626": {
          "model_module": "@jupyter-widgets/controls",
          "model_module_version": "1.5.0",
          "model_name": "DescriptionStyleModel",
          "state": {
            "_model_module": "@jupyter-widgets/controls",
            "_model_module_version": "1.5.0",
            "_model_name": "DescriptionStyleModel",
            "_view_count": null,
            "_view_module": "@jupyter-widgets/base",
            "_view_module_version": "1.2.0",
            "_view_name": "StyleView",
            "description_width": ""
          }
        },
        "c4b697a0cf6e4384b50a5df4ce1ec4a8": {
          "model_module": "@jupyter-widgets/base",
          "model_module_version": "1.2.0",
          "model_name": "LayoutModel",
          "state": {
            "_model_module": "@jupyter-widgets/base",
            "_model_module_version": "1.2.0",
            "_model_name": "LayoutModel",
            "_view_count": null,
            "_view_module": "@jupyter-widgets/base",
            "_view_module_version": "1.2.0",
            "_view_name": "LayoutView",
            "align_content": null,
            "align_items": null,
            "align_self": null,
            "border": null,
            "bottom": null,
            "display": null,
            "flex": null,
            "flex_flow": null,
            "grid_area": null,
            "grid_auto_columns": null,
            "grid_auto_flow": null,
            "grid_auto_rows": null,
            "grid_column": null,
            "grid_gap": null,
            "grid_row": null,
            "grid_template_areas": null,
            "grid_template_columns": null,
            "grid_template_rows": null,
            "height": null,
            "justify_content": null,
            "justify_items": null,
            "left": null,
            "margin": null,
            "max_height": null,
            "max_width": null,
            "min_height": null,
            "min_width": null,
            "object_fit": null,
            "object_position": null,
            "order": null,
            "overflow": null,
            "overflow_x": null,
            "overflow_y": null,
            "padding": null,
            "right": null,
            "top": null,
            "visibility": null,
            "width": null
          }
        },
        "c5443be7c26249e4a5cf1b0956d30640": {
          "model_module": "@jupyter-widgets/base",
          "model_module_version": "1.2.0",
          "model_name": "LayoutModel",
          "state": {
            "_model_module": "@jupyter-widgets/base",
            "_model_module_version": "1.2.0",
            "_model_name": "LayoutModel",
            "_view_count": null,
            "_view_module": "@jupyter-widgets/base",
            "_view_module_version": "1.2.0",
            "_view_name": "LayoutView",
            "align_content": null,
            "align_items": null,
            "align_self": null,
            "border": null,
            "bottom": null,
            "display": null,
            "flex": null,
            "flex_flow": null,
            "grid_area": null,
            "grid_auto_columns": null,
            "grid_auto_flow": null,
            "grid_auto_rows": null,
            "grid_column": null,
            "grid_gap": null,
            "grid_row": null,
            "grid_template_areas": null,
            "grid_template_columns": null,
            "grid_template_rows": null,
            "height": null,
            "justify_content": null,
            "justify_items": null,
            "left": null,
            "margin": null,
            "max_height": null,
            "max_width": null,
            "min_height": null,
            "min_width": null,
            "object_fit": null,
            "object_position": null,
            "order": null,
            "overflow": null,
            "overflow_x": null,
            "overflow_y": null,
            "padding": null,
            "right": null,
            "top": null,
            "visibility": null,
            "width": null
          }
        },
        "c8b472a7d81c41be9c930ff14b50a4a2": {
          "model_module": "@jupyter-widgets/controls",
          "model_module_version": "1.5.0",
          "model_name": "HTMLModel",
          "state": {
            "_dom_classes": [],
            "_model_module": "@jupyter-widgets/controls",
            "_model_module_version": "1.5.0",
            "_model_name": "HTMLModel",
            "_view_count": null,
            "_view_module": "@jupyter-widgets/controls",
            "_view_module_version": "1.5.0",
            "_view_name": "HTMLView",
            "description": "",
            "description_tooltip": null,
            "layout": "IPY_MODEL_5fda01b9a1ce4a2d89b0daa74803739a",
            "placeholder": "​",
            "style": "IPY_MODEL_ebc67d223bd4423f9ad05f0f560a5556",
            "value": " 446k/446k [00:00&lt;00:00, 4.86MB/s]"
          }
        },
        "cf89a7fbc62f43d6aa795dedc1cb8aa6": {
          "model_module": "@jupyter-widgets/controls",
          "model_module_version": "1.5.0",
          "model_name": "FloatProgressModel",
          "state": {
            "_dom_classes": [],
            "_model_module": "@jupyter-widgets/controls",
            "_model_module_version": "1.5.0",
            "_model_name": "FloatProgressModel",
            "_view_count": null,
            "_view_module": "@jupyter-widgets/controls",
            "_view_module_version": "1.5.0",
            "_view_name": "ProgressView",
            "bar_style": "success",
            "description": "",
            "description_tooltip": null,
            "layout": "IPY_MODEL_f1c6e6bde3204cb8bda22c442ecabac9",
            "max": 1355863,
            "min": 0,
            "orientation": "horizontal",
            "style": "IPY_MODEL_fa1787342d404196bc2f85c753a7a89b",
            "value": 1355863
          }
        },
        "d1ff51fc9f0145bb98687fbafd225d9c": {
          "model_module": "@jupyter-widgets/controls",
          "model_module_version": "1.5.0",
          "model_name": "HTMLModel",
          "state": {
            "_dom_classes": [],
            "_model_module": "@jupyter-widgets/controls",
            "_model_module_version": "1.5.0",
            "_model_name": "HTMLModel",
            "_view_count": null,
            "_view_module": "@jupyter-widgets/controls",
            "_view_module_version": "1.5.0",
            "_view_name": "HTMLView",
            "description": "",
            "description_tooltip": null,
            "layout": "IPY_MODEL_a32345dc112648389cbf2306c1d4def8",
            "placeholder": "​",
            "style": "IPY_MODEL_99585c42e0fb4cffb3e3342e76991b0c",
            "value": "100%"
          }
        },
        "d224364d66424b2e8889a5ec98ee9df6": {
          "model_module": "@jupyter-widgets/controls",
          "model_module_version": "1.5.0",
          "model_name": "HTMLModel",
          "state": {
            "_dom_classes": [],
            "_model_module": "@jupyter-widgets/controls",
            "_model_module_version": "1.5.0",
            "_model_name": "HTMLModel",
            "_view_count": null,
            "_view_module": "@jupyter-widgets/controls",
            "_view_module_version": "1.5.0",
            "_view_name": "HTMLView",
            "description": "",
            "description_tooltip": null,
            "layout": "IPY_MODEL_ffdf5e909e364f4ea62e9c3fa5dfbfcd",
            "placeholder": "​",
            "style": "IPY_MODEL_2a287a23e74b4ce0a913021aecc50af8",
            "value": "Downloading: 100%"
          }
        },
        "d31bc9a614684842b1d2e06de168b01d": {
          "model_module": "@jupyter-widgets/controls",
          "model_module_version": "1.5.0",
          "model_name": "ProgressStyleModel",
          "state": {
            "_model_module": "@jupyter-widgets/controls",
            "_model_module_version": "1.5.0",
            "_model_name": "ProgressStyleModel",
            "_view_count": null,
            "_view_module": "@jupyter-widgets/base",
            "_view_module_version": "1.2.0",
            "_view_name": "StyleView",
            "bar_color": null,
            "description_width": ""
          }
        },
        "d43b476114384e32866af6e156a51787": {
          "model_module": "@jupyter-widgets/controls",
          "model_module_version": "1.5.0",
          "model_name": "DescriptionStyleModel",
          "state": {
            "_model_module": "@jupyter-widgets/controls",
            "_model_module_version": "1.5.0",
            "_model_name": "DescriptionStyleModel",
            "_view_count": null,
            "_view_module": "@jupyter-widgets/base",
            "_view_module_version": "1.2.0",
            "_view_name": "StyleView",
            "description_width": ""
          }
        },
        "db3e8ff553974033b68d799e9b74655d": {
          "model_module": "@jupyter-widgets/controls",
          "model_module_version": "1.5.0",
          "model_name": "DescriptionStyleModel",
          "state": {
            "_model_module": "@jupyter-widgets/controls",
            "_model_module_version": "1.5.0",
            "_model_name": "DescriptionStyleModel",
            "_view_count": null,
            "_view_module": "@jupyter-widgets/base",
            "_view_module_version": "1.2.0",
            "_view_name": "StyleView",
            "description_width": ""
          }
        },
        "e056c5671c3d495785787a2219a5d134": {
          "model_module": "@jupyter-widgets/controls",
          "model_module_version": "1.5.0",
          "model_name": "ProgressStyleModel",
          "state": {
            "_model_module": "@jupyter-widgets/controls",
            "_model_module_version": "1.5.0",
            "_model_name": "ProgressStyleModel",
            "_view_count": null,
            "_view_module": "@jupyter-widgets/base",
            "_view_module_version": "1.2.0",
            "_view_name": "StyleView",
            "bar_color": null,
            "description_width": ""
          }
        },
        "e2c2269b6e864307bcc8eff0bc5e4448": {
          "model_module": "@jupyter-widgets/base",
          "model_module_version": "1.2.0",
          "model_name": "LayoutModel",
          "state": {
            "_model_module": "@jupyter-widgets/base",
            "_model_module_version": "1.2.0",
            "_model_name": "LayoutModel",
            "_view_count": null,
            "_view_module": "@jupyter-widgets/base",
            "_view_module_version": "1.2.0",
            "_view_name": "LayoutView",
            "align_content": null,
            "align_items": null,
            "align_self": null,
            "border": null,
            "bottom": null,
            "display": null,
            "flex": null,
            "flex_flow": null,
            "grid_area": null,
            "grid_auto_columns": null,
            "grid_auto_flow": null,
            "grid_auto_rows": null,
            "grid_column": null,
            "grid_gap": null,
            "grid_row": null,
            "grid_template_areas": null,
            "grid_template_columns": null,
            "grid_template_rows": null,
            "height": null,
            "justify_content": null,
            "justify_items": null,
            "left": null,
            "margin": null,
            "max_height": null,
            "max_width": null,
            "min_height": null,
            "min_width": null,
            "object_fit": null,
            "object_position": null,
            "order": null,
            "overflow": null,
            "overflow_x": null,
            "overflow_y": null,
            "padding": null,
            "right": null,
            "top": null,
            "visibility": null,
            "width": null
          }
        },
        "e340dca2fbe749278ef5c9bee81f90bc": {
          "model_module": "@jupyter-widgets/base",
          "model_module_version": "1.2.0",
          "model_name": "LayoutModel",
          "state": {
            "_model_module": "@jupyter-widgets/base",
            "_model_module_version": "1.2.0",
            "_model_name": "LayoutModel",
            "_view_count": null,
            "_view_module": "@jupyter-widgets/base",
            "_view_module_version": "1.2.0",
            "_view_name": "LayoutView",
            "align_content": null,
            "align_items": null,
            "align_self": null,
            "border": null,
            "bottom": null,
            "display": null,
            "flex": null,
            "flex_flow": null,
            "grid_area": null,
            "grid_auto_columns": null,
            "grid_auto_flow": null,
            "grid_auto_rows": null,
            "grid_column": null,
            "grid_gap": null,
            "grid_row": null,
            "grid_template_areas": null,
            "grid_template_columns": null,
            "grid_template_rows": null,
            "height": null,
            "justify_content": null,
            "justify_items": null,
            "left": null,
            "margin": null,
            "max_height": null,
            "max_width": null,
            "min_height": null,
            "min_width": null,
            "object_fit": null,
            "object_position": null,
            "order": null,
            "overflow": null,
            "overflow_x": null,
            "overflow_y": null,
            "padding": null,
            "right": null,
            "top": null,
            "visibility": null,
            "width": null
          }
        },
        "e4cf8ee5b85c4dc5a1ae9dc54599bdca": {
          "model_module": "@jupyter-widgets/base",
          "model_module_version": "1.2.0",
          "model_name": "LayoutModel",
          "state": {
            "_model_module": "@jupyter-widgets/base",
            "_model_module_version": "1.2.0",
            "_model_name": "LayoutModel",
            "_view_count": null,
            "_view_module": "@jupyter-widgets/base",
            "_view_module_version": "1.2.0",
            "_view_name": "LayoutView",
            "align_content": null,
            "align_items": null,
            "align_self": null,
            "border": null,
            "bottom": null,
            "display": null,
            "flex": null,
            "flex_flow": null,
            "grid_area": null,
            "grid_auto_columns": null,
            "grid_auto_flow": null,
            "grid_auto_rows": null,
            "grid_column": null,
            "grid_gap": null,
            "grid_row": null,
            "grid_template_areas": null,
            "grid_template_columns": null,
            "grid_template_rows": null,
            "height": null,
            "justify_content": null,
            "justify_items": null,
            "left": null,
            "margin": null,
            "max_height": null,
            "max_width": null,
            "min_height": null,
            "min_width": null,
            "object_fit": null,
            "object_position": null,
            "order": null,
            "overflow": null,
            "overflow_x": null,
            "overflow_y": null,
            "padding": null,
            "right": null,
            "top": null,
            "visibility": null,
            "width": null
          }
        },
        "e95a7d3266ca4e8fb713011247894de0": {
          "model_module": "@jupyter-widgets/controls",
          "model_module_version": "1.5.0",
          "model_name": "DescriptionStyleModel",
          "state": {
            "_model_module": "@jupyter-widgets/controls",
            "_model_module_version": "1.5.0",
            "_model_name": "DescriptionStyleModel",
            "_view_count": null,
            "_view_module": "@jupyter-widgets/base",
            "_view_module_version": "1.2.0",
            "_view_name": "StyleView",
            "description_width": ""
          }
        },
        "e9b720e7d14343e3b9b9c155834a5081": {
          "model_module": "@jupyter-widgets/controls",
          "model_module_version": "1.5.0",
          "model_name": "FloatProgressModel",
          "state": {
            "_dom_classes": [],
            "_model_module": "@jupyter-widgets/controls",
            "_model_module_version": "1.5.0",
            "_model_name": "FloatProgressModel",
            "_view_count": null,
            "_view_module": "@jupyter-widgets/controls",
            "_view_module_version": "1.5.0",
            "_view_name": "ProgressView",
            "bar_style": "success",
            "description": "",
            "description_tooltip": null,
            "layout": "IPY_MODEL_0500786c9b3b4b9697e724789fc102e3",
            "max": 42,
            "min": 0,
            "orientation": "horizontal",
            "style": "IPY_MODEL_219ea72d9e434af9bfe3ac014e2cd1fc",
            "value": 42
          }
        },
        "ebc67d223bd4423f9ad05f0f560a5556": {
          "model_module": "@jupyter-widgets/controls",
          "model_module_version": "1.5.0",
          "model_name": "DescriptionStyleModel",
          "state": {
            "_model_module": "@jupyter-widgets/controls",
            "_model_module_version": "1.5.0",
            "_model_name": "DescriptionStyleModel",
            "_view_count": null,
            "_view_module": "@jupyter-widgets/base",
            "_view_module_version": "1.2.0",
            "_view_name": "StyleView",
            "description_width": ""
          }
        },
        "f0ef26cbaeb24f32be50730678f7201a": {
          "model_module": "@jupyter-widgets/base",
          "model_module_version": "1.2.0",
          "model_name": "LayoutModel",
          "state": {
            "_model_module": "@jupyter-widgets/base",
            "_model_module_version": "1.2.0",
            "_model_name": "LayoutModel",
            "_view_count": null,
            "_view_module": "@jupyter-widgets/base",
            "_view_module_version": "1.2.0",
            "_view_name": "LayoutView",
            "align_content": null,
            "align_items": null,
            "align_self": null,
            "border": null,
            "bottom": null,
            "display": null,
            "flex": null,
            "flex_flow": null,
            "grid_area": null,
            "grid_auto_columns": null,
            "grid_auto_flow": null,
            "grid_auto_rows": null,
            "grid_column": null,
            "grid_gap": null,
            "grid_row": null,
            "grid_template_areas": null,
            "grid_template_columns": null,
            "grid_template_rows": null,
            "height": null,
            "justify_content": null,
            "justify_items": null,
            "left": null,
            "margin": null,
            "max_height": null,
            "max_width": null,
            "min_height": null,
            "min_width": null,
            "object_fit": null,
            "object_position": null,
            "order": null,
            "overflow": null,
            "overflow_x": null,
            "overflow_y": null,
            "padding": null,
            "right": null,
            "top": null,
            "visibility": null,
            "width": null
          }
        },
        "f1c6e6bde3204cb8bda22c442ecabac9": {
          "model_module": "@jupyter-widgets/base",
          "model_module_version": "1.2.0",
          "model_name": "LayoutModel",
          "state": {
            "_model_module": "@jupyter-widgets/base",
            "_model_module_version": "1.2.0",
            "_model_name": "LayoutModel",
            "_view_count": null,
            "_view_module": "@jupyter-widgets/base",
            "_view_module_version": "1.2.0",
            "_view_name": "LayoutView",
            "align_content": null,
            "align_items": null,
            "align_self": null,
            "border": null,
            "bottom": null,
            "display": null,
            "flex": null,
            "flex_flow": null,
            "grid_area": null,
            "grid_auto_columns": null,
            "grid_auto_flow": null,
            "grid_auto_rows": null,
            "grid_column": null,
            "grid_gap": null,
            "grid_row": null,
            "grid_template_areas": null,
            "grid_template_columns": null,
            "grid_template_rows": null,
            "height": null,
            "justify_content": null,
            "justify_items": null,
            "left": null,
            "margin": null,
            "max_height": null,
            "max_width": null,
            "min_height": null,
            "min_width": null,
            "object_fit": null,
            "object_position": null,
            "order": null,
            "overflow": null,
            "overflow_x": null,
            "overflow_y": null,
            "padding": null,
            "right": null,
            "top": null,
            "visibility": null,
            "width": null
          }
        },
        "f5ecbbb392fe4c3e8fef3454ea7df977": {
          "model_module": "@jupyter-widgets/base",
          "model_module_version": "1.2.0",
          "model_name": "LayoutModel",
          "state": {
            "_model_module": "@jupyter-widgets/base",
            "_model_module_version": "1.2.0",
            "_model_name": "LayoutModel",
            "_view_count": null,
            "_view_module": "@jupyter-widgets/base",
            "_view_module_version": "1.2.0",
            "_view_name": "LayoutView",
            "align_content": null,
            "align_items": null,
            "align_self": null,
            "border": null,
            "bottom": null,
            "display": null,
            "flex": null,
            "flex_flow": null,
            "grid_area": null,
            "grid_auto_columns": null,
            "grid_auto_flow": null,
            "grid_auto_rows": null,
            "grid_column": null,
            "grid_gap": null,
            "grid_row": null,
            "grid_template_areas": null,
            "grid_template_columns": null,
            "grid_template_rows": null,
            "height": null,
            "justify_content": null,
            "justify_items": null,
            "left": null,
            "margin": null,
            "max_height": null,
            "max_width": null,
            "min_height": null,
            "min_width": null,
            "object_fit": null,
            "object_position": null,
            "order": null,
            "overflow": null,
            "overflow_x": null,
            "overflow_y": null,
            "padding": null,
            "right": null,
            "top": null,
            "visibility": null,
            "width": null
          }
        },
        "fa1787342d404196bc2f85c753a7a89b": {
          "model_module": "@jupyter-widgets/controls",
          "model_module_version": "1.5.0",
          "model_name": "ProgressStyleModel",
          "state": {
            "_model_module": "@jupyter-widgets/controls",
            "_model_module_version": "1.5.0",
            "_model_name": "ProgressStyleModel",
            "_view_count": null,
            "_view_module": "@jupyter-widgets/base",
            "_view_module_version": "1.2.0",
            "_view_name": "StyleView",
            "bar_color": null,
            "description_width": ""
          }
        },
        "fa6499eab22b4d2dac6f489e1fcdd8be": {
          "model_module": "@jupyter-widgets/controls",
          "model_module_version": "1.5.0",
          "model_name": "ProgressStyleModel",
          "state": {
            "_model_module": "@jupyter-widgets/controls",
            "_model_module_version": "1.5.0",
            "_model_name": "ProgressStyleModel",
            "_view_count": null,
            "_view_module": "@jupyter-widgets/base",
            "_view_module_version": "1.2.0",
            "_view_name": "StyleView",
            "bar_color": null,
            "description_width": ""
          }
        },
        "fdc633994c5241fca94416f6127576d4": {
          "model_module": "@jupyter-widgets/controls",
          "model_module_version": "1.5.0",
          "model_name": "HBoxModel",
          "state": {
            "_dom_classes": [],
            "_model_module": "@jupyter-widgets/controls",
            "_model_module_version": "1.5.0",
            "_model_name": "HBoxModel",
            "_view_count": null,
            "_view_module": "@jupyter-widgets/controls",
            "_view_module_version": "1.5.0",
            "_view_name": "HBoxView",
            "box_style": "",
            "children": [
              "IPY_MODEL_0f0b11d3afc6411cb00b7773b3f53a5d",
              "IPY_MODEL_15ecf44cc0b542648aa78a24ddba47da",
              "IPY_MODEL_c8b472a7d81c41be9c930ff14b50a4a2"
            ],
            "layout": "IPY_MODEL_c5443be7c26249e4a5cf1b0956d30640"
          }
        },
        "ffdf5e909e364f4ea62e9c3fa5dfbfcd": {
          "model_module": "@jupyter-widgets/base",
          "model_module_version": "1.2.0",
          "model_name": "LayoutModel",
          "state": {
            "_model_module": "@jupyter-widgets/base",
            "_model_module_version": "1.2.0",
            "_model_name": "LayoutModel",
            "_view_count": null,
            "_view_module": "@jupyter-widgets/base",
            "_view_module_version": "1.2.0",
            "_view_name": "LayoutView",
            "align_content": null,
            "align_items": null,
            "align_self": null,
            "border": null,
            "bottom": null,
            "display": null,
            "flex": null,
            "flex_flow": null,
            "grid_area": null,
            "grid_auto_columns": null,
            "grid_auto_flow": null,
            "grid_auto_rows": null,
            "grid_column": null,
            "grid_gap": null,
            "grid_row": null,
            "grid_template_areas": null,
            "grid_template_columns": null,
            "grid_template_rows": null,
            "height": null,
            "justify_content": null,
            "justify_items": null,
            "left": null,
            "margin": null,
            "max_height": null,
            "max_width": null,
            "min_height": null,
            "min_width": null,
            "object_fit": null,
            "object_position": null,
            "order": null,
            "overflow": null,
            "overflow_x": null,
            "overflow_y": null,
            "padding": null,
            "right": null,
            "top": null,
            "visibility": null,
            "width": null
          }
        }
      }
    }
  },
  "nbformat": 4,
  "nbformat_minor": 0
}
